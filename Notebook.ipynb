{
 "cells": [
  {
   "cell_type": "code",
   "execution_count": 1,
   "metadata": {},
   "outputs": [],
   "source": [
    "import numpy as np\n",
    "from cobra.io import read_sbml_model"
   ]
  },
  {
   "cell_type": "code",
   "execution_count": 2,
   "metadata": {},
   "outputs": [],
   "source": [
    "model = read_sbml_model('seed_Seed196627_4.COBRA-sbml3.xml')"
   ]
  },
  {
   "cell_type": "code",
   "execution_count": 3,
   "metadata": {},
   "outputs": [
    {
     "data": {
      "text/html": [
       "\n",
       "        <table>\n",
       "            <tr>\n",
       "                <td><strong>Name</strong></td>\n",
       "                <td>seed_Seed196627_4</td>\n",
       "            </tr><tr>\n",
       "                <td><strong>Memory address</strong></td>\n",
<<<<<<< HEAD
<<<<<<< HEAD
       "                <td>0x07efe5c5a8d30</td>\n",
=======
       "                <td>0x07ff9edd96128</td>\n",
>>>>>>> 193211027c791640dc4d413dabc298027d0f1efb
=======
       "                <td>0x07f0d0c5510f0</td>\n",
>>>>>>> e0cc02c8ed86ac0681a68ea97173325732969be8
       "            </tr><tr>\n",
       "                <td><strong>Number of metabolites</strong></td>\n",
       "                <td>988</td>\n",
       "            </tr><tr>\n",
       "                <td><strong>Number of reactions</strong></td>\n",
       "                <td>1007</td>\n",
       "            </tr><tr>\n",
       "                <td><strong>Number of groups</strong></td>\n",
       "                <td>0</td>\n",
       "            </tr><tr>\n",
       "                <td><strong>Objective expression</strong></td>\n",
       "                <td>1.0*reacD3FA036D - 1.0*reacD3FA036D_reverse_06ea7</td>\n",
       "            </tr><tr>\n",
       "                <td><strong>Compartments</strong></td>\n",
       "                <td>extracellular region, cytoplasm</td>\n",
       "            </tr>\n",
       "          </table>"
      ],
      "text/plain": [
<<<<<<< HEAD
<<<<<<< HEAD
       "<Model seed_Seed196627_4 at 0x7efe5c5a8d30>"
=======
       "<Model seed_Seed196627_4 at 0x7ff9edd96128>"
>>>>>>> 193211027c791640dc4d413dabc298027d0f1efb
=======
       "<Model seed_Seed196627_4 at 0x7f0d0c5510f0>"
>>>>>>> e0cc02c8ed86ac0681a68ea97173325732969be8
      ]
     },
     "execution_count": 3,
     "metadata": {},
     "output_type": "execute_result"
    }
   ],
   "source": [
    "model"
   ]
  },
  {
   "cell_type": "code",
   "execution_count": 4,
<<<<<<< HEAD
=======
   "metadata": {},
   "outputs": [
    {
     "data": {
      "text/plain": [
       "mnxr01c2          0.0\n",
       "mnxr01c3          0.0\n",
       "mnxr02c2b         0.0\n",
       "mnxr100018c2c3    0.0\n",
       "mnxr100019c2b     0.0\n",
       "                 ... \n",
       "mnxr99903c3       0.0\n",
       "mnxr99909c3       0.0\n",
       "reac6EA132C5     -0.0\n",
       "reacCBCD7D74      0.0\n",
       "reacD3FA036D      0.0\n",
       "Name: fluxes, Length: 1007, dtype: float64"
      ]
     },
     "execution_count": 4,
     "metadata": {},
     "output_type": "execute_result"
    }
   ],
   "source": [
    "solution = model.optimize()\n",
    "solution.fluxes"
   ]
  },
  {
   "cell_type": "code",
   "execution_count": 5,
>>>>>>> e0cc02c8ed86ac0681a68ea97173325732969be8
   "metadata": {},
   "outputs": [
    {
     "data": {
      "text/plain": [
       "Series([], Name: fluxes, dtype: float64)"
      ]
     },
     "execution_count": 5,
     "metadata": {},
     "output_type": "execute_result"
    }
   ],
   "source": [
    "# We check to see if any of the fluxes are idfferent from zero\n",
    "solution.fluxes[solution.fluxes != 0]"
   ]
  },
  {
   "cell_type": "code",
   "execution_count": 6,
   "metadata": {},
   "outputs": [],
   "source": [
    "from cobra import Reaction, Metabolite"
   ]
  },
  {
   "cell_type": "code",
<<<<<<< HEAD
   "execution_count": 5,
=======
   "execution_count": 7,
>>>>>>> e0cc02c8ed86ac0681a68ea97173325732969be8
   "metadata": {},
   "outputs": [],
   "source": [
    "new_reaction_1 = Reaction('OAT')  # OAT -> (o)rnithine (a)mino(t)ransferase"
   ]
  },
  {
   "cell_type": "code",
<<<<<<< HEAD
   "execution_count": 6,
=======
   "execution_count": 8,
>>>>>>> e0cc02c8ed86ac0681a68ea97173325732969be8
   "metadata": {},
   "outputs": [
    {
     "name": "stdout",
     "output_type": "stream",
     "text": [
      "L-glutamate 5-semialdehyde\n",
      "MNXM245@MNXC3\n",
      "N-acetyl-L-glutamate 5-semialdehyde\n",
      "MNXM1062@MNXC3\n"
     ]
    }
   ],
   "source": [
    "for metabolite in model.metabolites.query('L-glutamate 5-semialdehyde', 'name'):\n",
    "    print(metabolite.name)\n",
    "    print(metabolite.id)"
   ]
  },
  {
   "cell_type": "code",
<<<<<<< HEAD
   "execution_count": 7,
=======
   "execution_count": 9,
>>>>>>> e0cc02c8ed86ac0681a68ea97173325732969be8
   "metadata": {},
   "outputs": [
    {
     "data": {
      "text/html": [
       "\n",
       "        <table>\n",
       "            <tr>\n",
       "                <td><strong>Metabolite identifier</strong></td><td>MNXM245@MNXC3</td>\n",
       "            </tr><tr>\n",
       "                <td><strong>Name</strong></td><td>L-glutamate 5-semialdehyde</td>\n",
       "            </tr><tr>\n",
       "                <td><strong>Memory address</strong></td>\n",
<<<<<<< HEAD
<<<<<<< HEAD
       "                <td>0x07efe59698400</td>\n",
=======
       "                <td>0x07ff98e2555c0</td>\n",
>>>>>>> 193211027c791640dc4d413dabc298027d0f1efb
=======
       "                <td>0x07f0d09635780</td>\n",
>>>>>>> e0cc02c8ed86ac0681a68ea97173325732969be8
       "            </tr><tr>\n",
       "                <td><strong>Formula</strong></td><td>C5H9NO3</td>\n",
       "            </tr><tr>\n",
       "                <td><strong>Compartment</strong></td><td>MNXC3</td>\n",
       "            </tr><tr>\n",
       "                <td><strong>In 3 reaction(s)</strong></td><td>\n",
<<<<<<< HEAD
<<<<<<< HEAD
       "                    mnxr99896c3, mnxr153703c3, mnxr103352c3</td>\n",
=======
       "                    mnxr103352c3, mnxr153703c3, mnxr99896c3</td>\n",
>>>>>>> 193211027c791640dc4d413dabc298027d0f1efb
=======
       "                    mnxr153703c3, mnxr99896c3, mnxr103352c3</td>\n",
>>>>>>> e0cc02c8ed86ac0681a68ea97173325732969be8
       "            </tr>\n",
       "        </table>"
      ],
      "text/plain": [
<<<<<<< HEAD
<<<<<<< HEAD
       "<Metabolite MNXM245@MNXC3 at 0x7efe59698400>"
=======
       "<Metabolite MNXM245@MNXC3 at 0x7ff98e2555c0>"
>>>>>>> 193211027c791640dc4d413dabc298027d0f1efb
      ]
     },
     "execution_count": 7,
=======
       "<Metabolite MNXM245@MNXC3 at 0x7f0d09635780>"
      ]
     },
     "execution_count": 9,
>>>>>>> e0cc02c8ed86ac0681a68ea97173325732969be8
     "metadata": {},
     "output_type": "execute_result"
    }
   ],
   "source": [
    "model.metabolites.get_by_id('MNXM245@MNXC3') # L-glutamate 5-semialdehyde"
   ]
  },
  {
   "cell_type": "code",
<<<<<<< HEAD
   "execution_count": 8,
=======
   "execution_count": 10,
>>>>>>> e0cc02c8ed86ac0681a68ea97173325732969be8
   "metadata": {},
   "outputs": [
    {
     "name": "stdout",
     "output_type": "stream",
     "text": [
      "L-glutamate\n",
      "MNXM741173@MNXC3\n",
      "L-glutamate\n",
      "MNXM741173@MNXC2\n",
      "N-acetyl-L-glutamate\n",
      "MNXM730@MNXC3\n",
      "L-glutamate 5-semialdehyde\n",
      "MNXM245@MNXC3\n",
      "Tetrahydropteroyltri-L-glutamate\n",
      "MNXM733072@MNXC3\n",
      "5-Methyltetrahydropteroyltri-L-glutamate\n",
      "MNXM733158@MNXC3\n",
      "10-Formyl-THF-L-glutamate\n",
      "MNXM33047@MNXC3\n",
      "tetrahydropteroyltri-L-glutamate\n",
      "MNXM733068@MNXC3\n",
      "N-acetyl-L-glutamate 5-semialdehyde\n",
      "MNXM1062@MNXC3\n"
     ]
    }
   ],
   "source": [
    "for metabolite in model.metabolites.query('L-glutamate', 'name'):\n",
    "    print(metabolite.name)\n",
    "    print(metabolite.id)"
   ]
  },
  {
   "cell_type": "code",
<<<<<<< HEAD
   "execution_count": 9,
=======
   "execution_count": 11,
>>>>>>> e0cc02c8ed86ac0681a68ea97173325732969be8
   "metadata": {},
   "outputs": [
    {
     "data": {
      "text/html": [
       "\n",
       "        <table>\n",
       "            <tr>\n",
       "                <td><strong>Metabolite identifier</strong></td><td>MNXM741173@MNXC3</td>\n",
       "            </tr><tr>\n",
       "                <td><strong>Name</strong></td><td>L-glutamate</td>\n",
       "            </tr><tr>\n",
       "                <td><strong>Memory address</strong></td>\n",
<<<<<<< HEAD
<<<<<<< HEAD
       "                <td>0x07efe59772da0</td>\n",
=======
       "                <td>0x07ff98e334198</td>\n",
>>>>>>> 193211027c791640dc4d413dabc298027d0f1efb
=======
       "                <td>0x07f0d09715198</td>\n",
>>>>>>> e0cc02c8ed86ac0681a68ea97173325732969be8
       "            </tr><tr>\n",
       "                <td><strong>Formula</strong></td><td>C5H8NO4</td>\n",
       "            </tr><tr>\n",
       "                <td><strong>Compartment</strong></td><td>MNXC3</td>\n",
       "            </tr><tr>\n",
       "                <td><strong>In 43 reaction(s)</strong></td><td>\n",
<<<<<<< HEAD
<<<<<<< HEAD
       "                    mnxr100300c2c3, mnxr100285c2c3, mnxr100384c3, mnxr137140c3, mnxr105361c3, mnxr103352c3, mnxr95259c3, mnxr144502c3, mnxr105362c3, mnxr140043c3, mnxr100291c3, mnxr102221c3, mnxr96228c3, mnxr104301c3,...</td>\n",
=======
       "                    mnxr96485c3, mnxr146193c3, mnxr144995c3, mnxr108904c3, mnxr100030c3, mnxr102301c3, mnxr95186c3, mnxr100300c2c3, mnxr100285c2c3, mnxr100384c3, mnxr137140c3, mnxr95852c3, mnxr103352c3, mnxr105361c3, ...</td>\n",
>>>>>>> 193211027c791640dc4d413dabc298027d0f1efb
=======
       "                    mnxr141897c3, mnxr96230c3, mnxr100288c3, mnxr96485c3, mnxr100287c3, mnxr146193c3, mnxr108904c3, mnxr144995c3, mnxr100136c3, mnxr100030c3, mnxr96229c3, mnxr100024c3, mnxr95186c3, mnxr102301c3, mnxr9...</td>\n",
>>>>>>> e0cc02c8ed86ac0681a68ea97173325732969be8
       "            </tr>\n",
       "        </table>"
      ],
      "text/plain": [
<<<<<<< HEAD
<<<<<<< HEAD
       "<Metabolite MNXM741173@MNXC3 at 0x7efe59772da0>"
=======
       "<Metabolite MNXM741173@MNXC3 at 0x7ff98e334198>"
>>>>>>> 193211027c791640dc4d413dabc298027d0f1efb
      ]
     },
     "execution_count": 9,
=======
       "<Metabolite MNXM741173@MNXC3 at 0x7f0d09715198>"
      ]
     },
     "execution_count": 11,
>>>>>>> e0cc02c8ed86ac0681a68ea97173325732969be8
     "metadata": {},
     "output_type": "execute_result"
    }
   ],
   "source": [
    "model.metabolites.get_by_id('MNXM741173@MNXC3') # L-glutamate"
   ]
  },
  {
   "cell_type": "code",
<<<<<<< HEAD
   "execution_count": 10,
=======
   "execution_count": 12,
>>>>>>> e0cc02c8ed86ac0681a68ea97173325732969be8
   "metadata": {},
   "outputs": [
    {
     "name": "stdout",
     "output_type": "stream",
     "text": [
      "L-ornithine\n",
      "MNXM741175@MNXC3\n",
      "N(2)-acetyl-L-ornithine\n",
      "MNXM817@MNXC3\n"
     ]
    }
   ],
   "source": [
    "for metabolite in model.metabolites.query('ornithine', 'name'):\n",
    "    print(metabolite.name)\n",
    "    print(metabolite.id)"
   ]
  },
  {
   "cell_type": "code",
<<<<<<< HEAD
   "execution_count": 11,
=======
   "execution_count": 13,
>>>>>>> e0cc02c8ed86ac0681a68ea97173325732969be8
   "metadata": {},
   "outputs": [
    {
     "data": {
      "text/html": [
       "\n",
       "        <table>\n",
       "            <tr>\n",
       "                <td><strong>Metabolite identifier</strong></td><td>MNXM741175@MNXC3</td>\n",
       "            </tr><tr>\n",
       "                <td><strong>Name</strong></td><td>L-ornithine</td>\n",
       "            </tr><tr>\n",
       "                <td><strong>Memory address</strong></td>\n",
<<<<<<< HEAD
<<<<<<< HEAD
       "                <td>0x07efe596e0f60</td>\n",
=======
       "                <td>0x07ff98e2a5160</td>\n",
>>>>>>> 193211027c791640dc4d413dabc298027d0f1efb
=======
       "                <td>0x07f0d09687320</td>\n",
>>>>>>> e0cc02c8ed86ac0681a68ea97173325732969be8
       "            </tr><tr>\n",
       "                <td><strong>Formula</strong></td><td>C5H13N2O2</td>\n",
       "            </tr><tr>\n",
       "                <td><strong>Compartment</strong></td><td>MNXC3</td>\n",
       "            </tr><tr>\n",
       "                <td><strong>In 3 reaction(s)</strong></td><td>\n",
       "                    mnxr102218c3, mnxr102221c3, mnxr102137c3</td>\n",
       "            </tr>\n",
       "        </table>"
      ],
      "text/plain": [
<<<<<<< HEAD
<<<<<<< HEAD
       "<Metabolite MNXM741175@MNXC3 at 0x7efe596e0f60>"
=======
       "<Metabolite MNXM741175@MNXC3 at 0x7ff98e2a5160>"
>>>>>>> 193211027c791640dc4d413dabc298027d0f1efb
      ]
     },
     "execution_count": 11,
=======
       "<Metabolite MNXM741175@MNXC3 at 0x7f0d09687320>"
      ]
     },
     "execution_count": 13,
>>>>>>> e0cc02c8ed86ac0681a68ea97173325732969be8
     "metadata": {},
     "output_type": "execute_result"
    }
   ],
   "source": [
    "model.metabolites.get_by_id('MNXM741175@MNXC3') # L-ornithine"
   ]
  },
  {
   "cell_type": "code",
<<<<<<< HEAD
   "execution_count": 12,
=======
   "execution_count": 14,
>>>>>>> e0cc02c8ed86ac0681a68ea97173325732969be8
   "metadata": {},
   "outputs": [
    {
     "name": "stdout",
     "output_type": "stream",
     "text": [
      "2-oxoglutarate\n",
      "MNXM20@MNXC3\n"
     ]
    }
   ],
   "source": [
    "for metabolite in model.metabolites.query('oxoglutarate', 'name'):\n",
    "    print(metabolite.name)\n",
    "    print(metabolite.id)"
   ]
  },
  {
   "cell_type": "code",
<<<<<<< HEAD
   "execution_count": 13,
=======
   "execution_count": 15,
>>>>>>> e0cc02c8ed86ac0681a68ea97173325732969be8
   "metadata": {},
   "outputs": [
    {
     "data": {
      "text/html": [
       "\n",
       "        <table>\n",
       "            <tr>\n",
       "                <td><strong>Metabolite identifier</strong></td><td>MNXM20@MNXC3</td>\n",
       "            </tr><tr>\n",
       "                <td><strong>Name</strong></td><td>2-oxoglutarate</td>\n",
       "            </tr><tr>\n",
       "                <td><strong>Memory address</strong></td>\n",
<<<<<<< HEAD
<<<<<<< HEAD
       "                <td>0x07efe597879b0</td>\n",
=======
       "                <td>0x07ff98e345ba8</td>\n",
>>>>>>> 193211027c791640dc4d413dabc298027d0f1efb
=======
       "                <td>0x07f0d09726d30</td>\n",
>>>>>>> e0cc02c8ed86ac0681a68ea97173325732969be8
       "            </tr><tr>\n",
       "                <td><strong>Formula</strong></td><td>C5H4O5</td>\n",
       "            </tr><tr>\n",
       "                <td><strong>Compartment</strong></td><td>MNXC3</td>\n",
       "            </tr><tr>\n",
       "                <td><strong>In 16 reaction(s)</strong></td><td>\n",
<<<<<<< HEAD
<<<<<<< HEAD
       "                    mnxr100086c3, mnxr105310c3, mnxr103225c3, mnxr105000c3, mnxr96229c3, mnxr96230c3, mnxr106443c3, mnxr105305c3, mnxr126234c3, mnxr95852c3, mnxr146406c3, mnxr95186c3, mnxr100291c3, mnxr96228c3, mnxr95...</td>\n",
=======
       "                    mnxr105305c3, mnxr106443c3, mnxr100291c3, mnxr104301c3, mnxr146406c3, mnxr96228c3, mnxr105000c3, mnxr105310c3, mnxr100086c3, mnxr95186c3, mnxr103225c3, mnxr126234c3, mnxr96229c3, mnxr95388c3, mnxr9...</td>\n",
>>>>>>> 193211027c791640dc4d413dabc298027d0f1efb
=======
       "                    mnxr96230c3, mnxr95852c3, mnxr105305c3, mnxr146406c3, mnxr106443c3, mnxr100291c3, mnxr105000c3, mnxr105310c3, mnxr126234c3, mnxr96228c3, mnxr95388c3, mnxr104301c3, mnxr95186c3, mnxr100086c3, mnxr10...</td>\n",
>>>>>>> e0cc02c8ed86ac0681a68ea97173325732969be8
       "            </tr>\n",
       "        </table>"
      ],
      "text/plain": [
<<<<<<< HEAD
<<<<<<< HEAD
       "<Metabolite MNXM20@MNXC3 at 0x7efe597879b0>"
=======
       "<Metabolite MNXM20@MNXC3 at 0x7ff98e345ba8>"
>>>>>>> 193211027c791640dc4d413dabc298027d0f1efb
      ]
     },
     "execution_count": 13,
=======
       "<Metabolite MNXM20@MNXC3 at 0x7f0d09726d30>"
      ]
     },
     "execution_count": 15,
>>>>>>> e0cc02c8ed86ac0681a68ea97173325732969be8
     "metadata": {},
     "output_type": "execute_result"
    }
   ],
   "source": [
    "model.metabolites.get_by_id('MNXM20@MNXC3') # 2-oxoglutarate"
   ]
  },
  {
   "cell_type": "code",
<<<<<<< HEAD
   "execution_count": 14,
=======
   "execution_count": 16,
>>>>>>> e0cc02c8ed86ac0681a68ea97173325732969be8
   "metadata": {},
   "outputs": [],
   "source": [
    "new_reaction_1.add_metabolites({model.metabolites.get_by_id('MNXM245@MNXC3'): -1, # L-glutamate 5-semialdehyde\n",
    "                              model.metabolites.get_by_id('MNXM741173@MNXC3'): -1, # L-glutamate \n",
    "                              model.metabolites.get_by_id('MNXM741175@MNXC3'): 1, # L-ornithine\n",
    "                              model.metabolites.get_by_id('MNXM20@MNXC3'): 1 # 2-oxoglutarate\n",
    "                             })"
   ]
  },
  {
   "cell_type": "code",
<<<<<<< HEAD
   "execution_count": 15,
=======
   "execution_count": 17,
>>>>>>> e0cc02c8ed86ac0681a68ea97173325732969be8
   "metadata": {},
   "outputs": [
    {
     "name": "stdout",
     "output_type": "stream",
     "text": [
      "MNXM245@MNXC3 + MNXM741173@MNXC3 --> MNXM20@MNXC3 + MNXM741175@MNXC3\n"
     ]
    }
   ],
   "source": [
    "print(new_reaction_1.build_reaction_string())"
   ]
  },
  {
   "cell_type": "code",
<<<<<<< HEAD
   "execution_count": 16,
=======
   "execution_count": 18,
>>>>>>> e0cc02c8ed86ac0681a68ea97173325732969be8
   "metadata": {},
   "outputs": [],
   "source": [
    "model.add_reactions([new_reaction_1])"
   ]
  },
  {
   "cell_type": "code",
<<<<<<< HEAD
   "execution_count": 17,
=======
   "execution_count": 19,
>>>>>>> e0cc02c8ed86ac0681a68ea97173325732969be8
   "metadata": {},
   "outputs": [
    {
     "data": {
      "text/html": [
       "\n",
       "        <table>\n",
       "            <tr>\n",
       "                <td><strong>Reaction identifier</strong></td><td>OAT</td>\n",
       "            </tr><tr>\n",
       "                <td><strong>Name</strong></td><td></td>\n",
       "            </tr><tr>\n",
       "                <td><strong>Memory address</strong></td>\n",
<<<<<<< HEAD
<<<<<<< HEAD
       "                <td>0x07eff206de3c8</td>\n",
=======
       "                <td>0x07ff98d8646d8</td>\n",
>>>>>>> 193211027c791640dc4d413dabc298027d0f1efb
=======
       "                <td>0x07f0d08ff9e80</td>\n",
>>>>>>> e0cc02c8ed86ac0681a68ea97173325732969be8
       "            </tr><tr>\n",
       "                <td><strong>Stoichiometry</strong></td>\n",
       "                <td>\n",
       "                    <p style='text-align:right'>MNXM245@MNXC3 + MNXM741173@MNXC3 --> MNXM20@MNXC3 + MNXM741175@MNXC3</p>\n",
       "                    <p style='text-align:right'>L-glutamate 5-semialdehyde + L-glutamate --> 2-oxoglutarate + L-ornithine</p>\n",
       "                </td>\n",
       "            </tr><tr>\n",
       "                <td><strong>GPR</strong></td><td></td>\n",
       "            </tr><tr>\n",
       "                <td><strong>Lower bound</strong></td><td>0.0</td>\n",
       "            </tr><tr>\n",
       "                <td><strong>Upper bound</strong></td><td>1000.0</td>\n",
       "            </tr>\n",
       "        </table>\n",
       "        "
      ],
      "text/plain": [
<<<<<<< HEAD
<<<<<<< HEAD
       "<Reaction OAT at 0x7eff206de3c8>"
=======
       "<Reaction OAT at 0x7ff98d8646d8>"
>>>>>>> 193211027c791640dc4d413dabc298027d0f1efb
      ]
     },
     "execution_count": 17,
=======
       "<Reaction OAT at 0x7f0d08ff9e80>"
      ]
     },
     "execution_count": 19,
>>>>>>> e0cc02c8ed86ac0681a68ea97173325732969be8
     "metadata": {},
     "output_type": "execute_result"
    }
   ],
   "source": [
    "model.reactions.OAT"
   ]
  },
  {
   "cell_type": "code",
<<<<<<< HEAD
   "execution_count": 18,
=======
   "execution_count": 20,
>>>>>>> e0cc02c8ed86ac0681a68ea97173325732969be8
   "metadata": {},
   "outputs": [
    {
     "name": "stdout",
     "output_type": "stream",
     "text": [
      "1000.0\n"
     ]
    }
   ],
   "source": [
    "with model:\n",
    "    model.objective = model.reactions.OAT\n",
    "    print(model.optimize().objective_value)  # We produce L-ornithine"
   ]
  },
  {
   "cell_type": "code",
<<<<<<< HEAD
   "execution_count": 19,
=======
   "execution_count": 21,
>>>>>>> e0cc02c8ed86ac0681a68ea97173325732969be8
   "metadata": {},
   "outputs": [
    {
     "data": {
      "text/html": [
       "\n",
       "        <table>\n",
       "            <tr>\n",
       "                <td><strong>Reaction identifier</strong></td><td>DM_MNXM741175@MNXC3</td>\n",
       "            </tr><tr>\n",
       "                <td><strong>Name</strong></td><td>L-ornithine demand</td>\n",
       "            </tr><tr>\n",
       "                <td><strong>Memory address</strong></td>\n",
<<<<<<< HEAD
<<<<<<< HEAD
       "                <td>0x07efe59036748</td>\n",
=======
       "                <td>0x07ff98dbf00f0</td>\n",
>>>>>>> 193211027c791640dc4d413dabc298027d0f1efb
=======
       "                <td>0x07f0d08faf8d0</td>\n",
>>>>>>> e0cc02c8ed86ac0681a68ea97173325732969be8
       "            </tr><tr>\n",
       "                <td><strong>Stoichiometry</strong></td>\n",
       "                <td>\n",
       "                    <p style='text-align:right'>MNXM741175@MNXC3 --> </p>\n",
       "                    <p style='text-align:right'>L-ornithine --> </p>\n",
       "                </td>\n",
       "            </tr><tr>\n",
       "                <td><strong>GPR</strong></td><td></td>\n",
       "            </tr><tr>\n",
       "                <td><strong>Lower bound</strong></td><td>0</td>\n",
       "            </tr><tr>\n",
       "                <td><strong>Upper bound</strong></td><td>1000.0</td>\n",
       "            </tr>\n",
       "        </table>\n",
       "        "
      ],
      "text/plain": [
<<<<<<< HEAD
<<<<<<< HEAD
       "<Reaction DM_MNXM741175@MNXC3 at 0x7efe59036748>"
=======
       "<Reaction DM_MNXM741175@MNXC3 at 0x7ff98dbf00f0>"
>>>>>>> 193211027c791640dc4d413dabc298027d0f1efb
      ]
     },
     "execution_count": 19,
=======
       "<Reaction DM_MNXM741175@MNXC3 at 0x7f0d08faf8d0>"
      ]
     },
     "execution_count": 21,
>>>>>>> e0cc02c8ed86ac0681a68ea97173325732969be8
     "metadata": {},
     "output_type": "execute_result"
    }
   ],
   "source": [
    "model.add_boundary(model.metabolites.get_by_id('MNXM741175@MNXC3'), type='demand') # Demand for L-ornithine"
   ]
  },
  {
   "cell_type": "code",
<<<<<<< HEAD
   "execution_count": 20,
=======
   "execution_count": 22,
>>>>>>> e0cc02c8ed86ac0681a68ea97173325732969be8
   "metadata": {},
   "outputs": [],
   "source": [
    "new_reaction_2 = Reaction('ODC')  # ODC -> (o)rnithine (d)e(c)arboxylase"
   ]
  },
  {
   "cell_type": "code",
<<<<<<< HEAD
   "execution_count": 21,
=======
   "execution_count": 23,
>>>>>>> e0cc02c8ed86ac0681a68ea97173325732969be8
   "metadata": {},
   "outputs": [
    {
     "name": "stdout",
     "output_type": "stream",
     "text": [
      "putrescine\n",
      "MNXM118@MNXC3\n"
     ]
    }
   ],
   "source": [
    "for metabolite in model.metabolites.query('putrescine', 'name'):\n",
    "    print(metabolite.name)\n",
    "    print(metabolite.id)"
   ]
  },
  {
   "cell_type": "code",
<<<<<<< HEAD
   "execution_count": 22,
=======
   "execution_count": 24,
>>>>>>> e0cc02c8ed86ac0681a68ea97173325732969be8
   "metadata": {},
   "outputs": [
    {
     "data": {
      "text/html": [
       "\n",
       "        <table>\n",
       "            <tr>\n",
       "                <td><strong>Metabolite identifier</strong></td><td>MNXM118@MNXC3</td>\n",
       "            </tr><tr>\n",
       "                <td><strong>Name</strong></td><td>putrescine</td>\n",
       "            </tr><tr>\n",
       "                <td><strong>Memory address</strong></td>\n",
<<<<<<< HEAD
<<<<<<< HEAD
       "                <td>0x07efe5948d0f0</td>\n",
=======
       "                <td>0x07ff98e04a0f0</td>\n",
>>>>>>> 193211027c791640dc4d413dabc298027d0f1efb
=======
       "                <td>0x07f0d0942d2b0</td>\n",
>>>>>>> e0cc02c8ed86ac0681a68ea97173325732969be8
       "            </tr><tr>\n",
       "                <td><strong>Formula</strong></td><td>C4H14N2</td>\n",
       "            </tr><tr>\n",
       "                <td><strong>Compartment</strong></td><td>MNXC3</td>\n",
       "            </tr><tr>\n",
       "                <td><strong>In 1 reaction(s)</strong></td><td>\n",
       "                    mnxr95860c3</td>\n",
       "            </tr>\n",
       "        </table>"
      ],
      "text/plain": [
<<<<<<< HEAD
<<<<<<< HEAD
       "<Metabolite MNXM118@MNXC3 at 0x7efe5948d0f0>"
=======
       "<Metabolite MNXM118@MNXC3 at 0x7ff98e04a0f0>"
>>>>>>> 193211027c791640dc4d413dabc298027d0f1efb
      ]
     },
     "execution_count": 22,
=======
       "<Metabolite MNXM118@MNXC3 at 0x7f0d0942d2b0>"
      ]
     },
     "execution_count": 24,
>>>>>>> e0cc02c8ed86ac0681a68ea97173325732969be8
     "metadata": {},
     "output_type": "execute_result"
    }
   ],
   "source": [
    "model.metabolites.get_by_id('MNXM118@MNXC3') # Putrescine"
   ]
  },
  {
   "cell_type": "code",
<<<<<<< HEAD
   "execution_count": 23,
=======
   "execution_count": 25,
>>>>>>> e0cc02c8ed86ac0681a68ea97173325732969be8
   "metadata": {},
   "outputs": [
    {
     "name": "stdout",
     "output_type": "stream",
     "text": [
      "CO2\n",
      "MNXM13@MNXC3\n",
      "CO2\n",
      "MNXM13@MNXC2\n"
     ]
    }
   ],
   "source": [
    "for metabolite in model.metabolites.query('CO2', 'name'):\n",
    "    print(metabolite.name)\n",
    "    print(metabolite.id)"
   ]
  },
  {
   "cell_type": "code",
<<<<<<< HEAD
   "execution_count": 24,
=======
   "execution_count": 26,
>>>>>>> e0cc02c8ed86ac0681a68ea97173325732969be8
   "metadata": {},
   "outputs": [
    {
     "data": {
      "text/html": [
       "\n",
       "        <table>\n",
       "            <tr>\n",
       "                <td><strong>Metabolite identifier</strong></td><td>MNXM13@MNXC3</td>\n",
       "            </tr><tr>\n",
       "                <td><strong>Name</strong></td><td>CO2</td>\n",
       "            </tr><tr>\n",
       "                <td><strong>Memory address</strong></td>\n",
<<<<<<< HEAD
<<<<<<< HEAD
       "                <td>0x07efe59738a20</td>\n",
=======
       "                <td>0x07ff98e2f6c18</td>\n",
>>>>>>> 193211027c791640dc4d413dabc298027d0f1efb
=======
       "                <td>0x07f0d096d7da0</td>\n",
>>>>>>> e0cc02c8ed86ac0681a68ea97173325732969be8
       "            </tr><tr>\n",
       "                <td><strong>Formula</strong></td><td>CO2</td>\n",
       "            </tr><tr>\n",
       "                <td><strong>Compartment</strong></td><td>MNXC3</td>\n",
       "            </tr><tr>\n",
       "                <td><strong>In 63 reaction(s)</strong></td><td>\n",
<<<<<<< HEAD
<<<<<<< HEAD
       "                    mnxr105310c3, mnxr99475c3, mnxr105140c3, mnxr96077c3, mnxr102190c3, mnxr151145c3, mnxr101443c3, mnxr97408c3, mnxr105305c3, mnxr153245c3, mnxr101662c3, mnxr134868c3, mnxr105362c3, mnxr100389c3, mnxr...</td>\n",
=======
       "                    mnxr110387c3, mnxr134860c3, mnxr108735c3, mnxr100482c3, mnxr145291c3, mnxr102487c3, mnxr149155c3, mnxr96810c2c3, mnxr153417c3, mnxr134889c3, mnxr105153c3, mnxr102180c3, mnxr97180c3, mnxr96077c3, mn...</td>\n",
>>>>>>> 193211027c791640dc4d413dabc298027d0f1efb
=======
       "                    mnxr103098c3, mnxr103096c3, mnxr103067c3, mnxr102428c3, mnxr134885c3, mnxr146718c3, mnxr110387c3, mnxr134860c3, mnxr101980c3, mnxr96481c3, mnxr108735c3, mnxr149155c3, mnxr96810c2c3, mnxr100482c3, m...</td>\n",
>>>>>>> e0cc02c8ed86ac0681a68ea97173325732969be8
       "            </tr>\n",
       "        </table>"
      ],
      "text/plain": [
<<<<<<< HEAD
<<<<<<< HEAD
       "<Metabolite MNXM13@MNXC3 at 0x7efe59738a20>"
=======
       "<Metabolite MNXM13@MNXC3 at 0x7ff98e2f6c18>"
>>>>>>> 193211027c791640dc4d413dabc298027d0f1efb
      ]
     },
     "execution_count": 24,
=======
       "<Metabolite MNXM13@MNXC3 at 0x7f0d096d7da0>"
      ]
     },
     "execution_count": 26,
>>>>>>> e0cc02c8ed86ac0681a68ea97173325732969be8
     "metadata": {},
     "output_type": "execute_result"
    }
   ],
   "source": [
    "model.metabolites.get_by_id('MNXM13@MNXC3') # CO2"
   ]
  },
  {
   "cell_type": "code",
<<<<<<< HEAD
<<<<<<< HEAD
   "execution_count": 25,
=======
   "execution_count": 26,
>>>>>>> 193211027c791640dc4d413dabc298027d0f1efb
=======
   "execution_count": 27,
>>>>>>> e0cc02c8ed86ac0681a68ea97173325732969be8
   "metadata": {},
   "outputs": [],
   "source": [
    "new_reaction_2.add_metabolites({model.metabolites.get_by_id('MNXM741175@MNXC3'): -1, # L-ornithine\n",
    "                              model.metabolites.get_by_id('MNXM13@MNXC3'): 1, # CO2\n",
    "                              model.metabolites.get_by_id('MNXM118@MNXC3'): 1 # # Putrescine\n",
    "                             })"
   ]
  },
  {
   "cell_type": "code",
<<<<<<< HEAD
<<<<<<< HEAD
   "execution_count": 26,
=======
   "execution_count": 27,
>>>>>>> 193211027c791640dc4d413dabc298027d0f1efb
=======
   "execution_count": 28,
>>>>>>> e0cc02c8ed86ac0681a68ea97173325732969be8
   "metadata": {},
   "outputs": [
    {
     "name": "stdout",
     "output_type": "stream",
     "text": [
      "MNXM741175@MNXC3 --> MNXM118@MNXC3 + MNXM13@MNXC3\n"
     ]
    }
   ],
   "source": [
    "print(new_reaction_2.build_reaction_string())"
   ]
  },
  {
   "cell_type": "code",
<<<<<<< HEAD
<<<<<<< HEAD
   "execution_count": 27,
=======
   "execution_count": 28,
>>>>>>> 193211027c791640dc4d413dabc298027d0f1efb
=======
   "execution_count": 29,
>>>>>>> e0cc02c8ed86ac0681a68ea97173325732969be8
   "metadata": {},
   "outputs": [],
   "source": [
    "model.add_reactions([new_reaction_2])"
   ]
  },
  {
   "cell_type": "code",
<<<<<<< HEAD
<<<<<<< HEAD
   "execution_count": 28,
=======
   "execution_count": 29,
>>>>>>> 193211027c791640dc4d413dabc298027d0f1efb
=======
   "execution_count": 30,
>>>>>>> e0cc02c8ed86ac0681a68ea97173325732969be8
   "metadata": {},
   "outputs": [
    {
     "data": {
      "text/html": [
       "\n",
       "        <table>\n",
       "            <tr>\n",
       "                <td><strong>Reaction identifier</strong></td><td>ODC</td>\n",
       "            </tr><tr>\n",
       "                <td><strong>Name</strong></td><td></td>\n",
       "            </tr><tr>\n",
       "                <td><strong>Memory address</strong></td>\n",
<<<<<<< HEAD
<<<<<<< HEAD
       "                <td>0x07efe59036d30</td>\n",
=======
       "                <td>0x07ff98dbfb518</td>\n",
>>>>>>> 193211027c791640dc4d413dabc298027d0f1efb
=======
       "                <td>0x07f0dd047c240</td>\n",
>>>>>>> e0cc02c8ed86ac0681a68ea97173325732969be8
       "            </tr><tr>\n",
       "                <td><strong>Stoichiometry</strong></td>\n",
       "                <td>\n",
       "                    <p style='text-align:right'>MNXM741175@MNXC3 --> MNXM118@MNXC3 + MNXM13@MNXC3</p>\n",
       "                    <p style='text-align:right'>L-ornithine --> putrescine + CO2</p>\n",
       "                </td>\n",
       "            </tr><tr>\n",
       "                <td><strong>GPR</strong></td><td></td>\n",
       "            </tr><tr>\n",
       "                <td><strong>Lower bound</strong></td><td>0.0</td>\n",
       "            </tr><tr>\n",
       "                <td><strong>Upper bound</strong></td><td>1000.0</td>\n",
       "            </tr>\n",
       "        </table>\n",
       "        "
      ],
      "text/plain": [
<<<<<<< HEAD
<<<<<<< HEAD
       "<Reaction ODC at 0x7efe59036d30>"
      ]
     },
     "execution_count": 28,
=======
       "<Reaction ODC at 0x7ff98dbfb518>"
      ]
     },
     "execution_count": 29,
>>>>>>> 193211027c791640dc4d413dabc298027d0f1efb
=======
       "<Reaction ODC at 0x7f0dd047c240>"
      ]
     },
     "execution_count": 30,
>>>>>>> e0cc02c8ed86ac0681a68ea97173325732969be8
     "metadata": {},
     "output_type": "execute_result"
    }
   ],
   "source": [
    "model.reactions.ODC"
   ]
  },
  {
   "cell_type": "code",
<<<<<<< HEAD
<<<<<<< HEAD
   "execution_count": 29,
=======
   "execution_count": 30,
>>>>>>> 193211027c791640dc4d413dabc298027d0f1efb
=======
   "execution_count": 31,
>>>>>>> e0cc02c8ed86ac0681a68ea97173325732969be8
   "metadata": {},
   "outputs": [
    {
     "name": "stdout",
     "output_type": "stream",
     "text": [
      "1000.0\n"
     ]
    }
   ],
   "source": [
    "with model:\n",
    "    model.objective = model.reactions.OAT\n",
    "    print(model.optimize().objective_value) # We produce putrescine"
   ]
  },
  {
   "cell_type": "code",
<<<<<<< HEAD
<<<<<<< HEAD
   "execution_count": 30,
=======
   "execution_count": 31,
>>>>>>> 193211027c791640dc4d413dabc298027d0f1efb
=======
   "execution_count": 32,
>>>>>>> e0cc02c8ed86ac0681a68ea97173325732969be8
   "metadata": {},
   "outputs": [
    {
     "data": {
      "text/html": [
       "\n",
       "        <table>\n",
       "            <tr>\n",
       "                <td><strong>Reaction identifier</strong></td><td>DM_MNXM118@MNXC3</td>\n",
       "            </tr><tr>\n",
       "                <td><strong>Name</strong></td><td>putrescine demand</td>\n",
       "            </tr><tr>\n",
       "                <td><strong>Memory address</strong></td>\n",
<<<<<<< HEAD
<<<<<<< HEAD
       "                <td>0x07efe590a0358</td>\n",
=======
       "                <td>0x07ff98dc5c320</td>\n",
>>>>>>> 193211027c791640dc4d413dabc298027d0f1efb
=======
       "                <td>0x07f0d08fcac18</td>\n",
>>>>>>> e0cc02c8ed86ac0681a68ea97173325732969be8
       "            </tr><tr>\n",
       "                <td><strong>Stoichiometry</strong></td>\n",
       "                <td>\n",
       "                    <p style='text-align:right'>MNXM118@MNXC3 --> </p>\n",
       "                    <p style='text-align:right'>putrescine --> </p>\n",
       "                </td>\n",
       "            </tr><tr>\n",
       "                <td><strong>GPR</strong></td><td></td>\n",
       "            </tr><tr>\n",
       "                <td><strong>Lower bound</strong></td><td>0</td>\n",
       "            </tr><tr>\n",
       "                <td><strong>Upper bound</strong></td><td>1000.0</td>\n",
       "            </tr>\n",
       "        </table>\n",
       "        "
      ],
      "text/plain": [
<<<<<<< HEAD
<<<<<<< HEAD
       "<Reaction DM_MNXM118@MNXC3 at 0x7efe590a0358>"
      ]
     },
     "execution_count": 30,
=======
       "<Reaction DM_MNXM118@MNXC3 at 0x7ff98dc5c320>"
      ]
     },
     "execution_count": 31,
>>>>>>> 193211027c791640dc4d413dabc298027d0f1efb
=======
       "<Reaction DM_MNXM118@MNXC3 at 0x7f0d08fcac18>"
      ]
     },
     "execution_count": 32,
>>>>>>> e0cc02c8ed86ac0681a68ea97173325732969be8
     "metadata": {},
     "output_type": "execute_result"
    }
   ],
   "source": [
    "model.add_boundary(model.metabolites.get_by_id('MNXM118@MNXC3'), type='demand') # Demand for putrescine"
   ]
  },
  {
   "cell_type": "code",
   "execution_count": 33,
   "metadata": {},
   "outputs": [],
   "source": [
    "solution = model.optimize()\n",
    "\n",
    "max_flux = solution[solution.fluxes == solution.fluxes.max()]"
   ]
  },
  {
   "cell_type": "code",
   "execution_count": 34,
   "metadata": {},
   "outputs": [
    {
     "data": {
      "text/plain": [
       "mnxr100086c3      1000.0\n",
       "mnxr100285c2c3    1000.0\n",
       "mnxr102218c3      1000.0\n",
       "mnxr146139c2b     1000.0\n",
       "mnxr99896c3       1000.0\n",
       "OAT               1000.0\n",
       "Name: fluxes, dtype: float64"
      ]
     },
     "execution_count": 34,
     "metadata": {},
     "output_type": "execute_result"
    }
   ],
   "source": [
    "max_flux"
   ]
  },
  {
   "cell_type": "code",
   "execution_count": 35,
   "metadata": {},
   "outputs": [
    {
     "name": "stdout",
     "output_type": "stream",
     "text": [
      "Maximize\n",
      "1.0*reacD3FA036D - 1.0*reacD3FA036D_reverse_06ea7\n"
     ]
    }
   ],
   "source": [
    "print(model.objective)"
   ]
  },
  {
   "cell_type": "code",
   "execution_count": 36,
   "metadata": {},
   "outputs": [
    {
     "name": "stdout",
     "output_type": "stream",
     "text": [
      "Maximum Putrescine yield:  1000.0\n"
     ]
    }
   ],
   "source": [
    "with model:\n",
    "    model.objective = model.reactions.OAT\n",
    "    print(\"Maximum Putrescine yield: \",model.optimize().objective_value)"
   ]
  },
  {
   "cell_type": "code",
   "execution_count": 37,
   "metadata": {},
   "outputs": [
    {
     "data": {
      "text/html": [
       "\n",
       "        <table>\n",
       "            <tr>\n",
       "                <td><strong>Reaction identifier</strong></td><td>reacD3FA036D</td>\n",
       "            </tr><tr>\n",
       "                <td><strong>Name</strong></td><td></td>\n",
       "            </tr><tr>\n",
       "                <td><strong>Memory address</strong></td>\n",
       "                <td>0x07f0d0879dfd0</td>\n",
       "            </tr><tr>\n",
       "                <td><strong>Stoichiometry</strong></td>\n",
       "                <td>\n",
       "                    <p style='text-align:right'>0.187150446784638 MNXM114@MNXC3 + 0.043606766519169 MNXM121@MNXC3 + 0.0106258633513973 MNXM124@MNXC3 + 0.0106258633513973 MNXM128@MNXC3 + 0.403825900441152 MNXM140@MNXC3 + 0.21715166344477 MNXM142@...</p>\n",
       "                    <p style='text-align:right'>0.187150446784638 L-proline + 0.043606766519169 UTP + 0.0106258633513973 spermidine + 0.0106258633513973 Ca(2+) + 0.403825900441152 L-leucine + 0.21715166344477 L-threonine + 0.0106258633513973 pyr...</p>\n",
       "                </td>\n",
       "            </tr><tr>\n",
       "                <td><strong>GPR</strong></td><td></td>\n",
       "            </tr><tr>\n",
       "                <td><strong>Lower bound</strong></td><td>0.0</td>\n",
       "            </tr><tr>\n",
       "                <td><strong>Upper bound</strong></td><td>10000.0</td>\n",
       "            </tr>\n",
       "        </table>\n",
       "        "
      ],
      "text/plain": [
       "<Reaction reacD3FA036D at 0x7f0d0879dfd0>"
      ]
     },
     "execution_count": 37,
     "metadata": {},
     "output_type": "execute_result"
    }
   ],
   "source": [
    "model.reactions.reacD3FA036D"
   ]
  },
  {
   "cell_type": "code",
   "execution_count": 38,
   "metadata": {},
   "outputs": [
    {
     "data": {
      "text/html": [
       "<div>\n",
       "<style scoped>\n",
       "    .dataframe tbody tr th:only-of-type {\n",
       "        vertical-align: middle;\n",
       "    }\n",
       "\n",
       "    .dataframe tbody tr th {\n",
       "        vertical-align: top;\n",
       "    }\n",
       "\n",
       "    .dataframe thead tr th {\n",
       "        text-align: left;\n",
       "    }\n",
       "</style>\n",
       "<table border=\"1\" class=\"dataframe\">\n",
       "  <thead>\n",
       "    <tr>\n",
       "      <th></th>\n",
       "      <th colspan=\"2\" halign=\"left\">IN_FLUXES</th>\n",
       "      <th colspan=\"2\" halign=\"left\">OUT_FLUXES</th>\n",
       "      <th colspan=\"2\" halign=\"left\">OBJECTIVES</th>\n",
       "    </tr>\n",
       "    <tr>\n",
       "      <th></th>\n",
       "      <th>ID</th>\n",
       "      <th>FLUX</th>\n",
       "      <th>ID</th>\n",
       "      <th>FLUX</th>\n",
       "      <th>ID</th>\n",
       "      <th>FLUX</th>\n",
       "    </tr>\n",
       "  </thead>\n",
       "  <tbody>\n",
       "    <tr>\n",
       "      <th>0</th>\n",
       "      <td>MNXM741173@MNXC2</td>\n",
       "      <td>1000.000000</td>\n",
       "      <td>MNXM114@MNXC2</td>\n",
       "      <td>1000.000000</td>\n",
       "      <td>reacD3FA036D</td>\n",
       "      <td>0.0</td>\n",
       "    </tr>\n",
       "    <tr>\n",
       "      <th>1</th>\n",
       "      <td>MNXM66@MNXC2</td>\n",
       "      <td>285.714286</td>\n",
       "      <td>MNXM13@MNXC2</td>\n",
       "      <td>857.142857</td>\n",
       "      <td>NaN</td>\n",
       "      <td>NaN</td>\n",
       "    </tr>\n",
       "    <tr>\n",
       "      <th>2</th>\n",
       "      <td>NaN</td>\n",
       "      <td>NaN</td>\n",
       "      <td>WATER@MNXC2</td>\n",
       "      <td>857.142857</td>\n",
       "      <td>NaN</td>\n",
       "      <td>NaN</td>\n",
       "    </tr>\n",
       "    <tr>\n",
       "      <th>3</th>\n",
       "      <td>NaN</td>\n",
       "      <td>NaN</td>\n",
       "      <td>MNXM9@MNXC2</td>\n",
       "      <td>285.714286</td>\n",
       "      <td>NaN</td>\n",
       "      <td>NaN</td>\n",
       "    </tr>\n",
       "  </tbody>\n",
       "</table>\n",
       "</div>"
      ],
      "text/plain": [
       "<cobra.core.summary.model_summary.ModelSummary at 0x7f0d08fe0048>"
      ]
     },
     "execution_count": 38,
     "metadata": {},
     "output_type": "execute_result"
    }
   ],
   "source": [
    "# We look up the model summary. This shows that there are no fluxes\n",
    "model.summary()"
   ]
  },
  {
   "cell_type": "code",
   "execution_count": 39,
   "metadata": {},
   "outputs": [
    {
     "data": {
      "text/plain": [
       "mnxr01c2                  0.0\n",
       "mnxr01c3                  0.0\n",
       "mnxr02c2b                -0.0\n",
       "mnxr100018c2c3            0.0\n",
       "mnxr100019c2b             0.0\n",
       "                        ...  \n",
       "reacD3FA036D              0.0\n",
       "OAT                    1000.0\n",
       "DM_MNXM741175@MNXC3       0.0\n",
       "ODC                       0.0\n",
       "DM_MNXM118@MNXC3          0.0\n",
       "Name: fluxes, Length: 1011, dtype: float64"
      ]
     },
     "execution_count": 39,
     "metadata": {},
     "output_type": "execute_result"
    }
   ],
   "source": [
    "solution = model.optimize()\n",
    "solution.fluxes\n"
   ]
  },
  {
   "cell_type": "code",
   "execution_count": 40,
   "metadata": {},
   "outputs": [
    {
     "data": {
      "text/plain": [
       "mnxr100086c3      1.000000e+03\n",
       "mnxr100277c3     -1.000000e+03\n",
       "mnxr100285c2c3    1.000000e+03\n",
       "mnxr100308c2b    -2.857143e+02\n",
       "mnxr100320c3c2    2.857143e+02\n",
       "mnxr100389c3      8.571429e+02\n",
       "mnxr102218c3      1.000000e+03\n",
       "mnxr102302c3      1.000000e+03\n",
       "mnxr102507c3     -2.857143e+02\n",
       "mnxr102539c3     -8.571429e+02\n",
       "mnxr102870c3c2    2.857143e+02\n",
       "mnxr103197c2c3   -1.000000e+03\n",
       "mnxr104083c3      5.714286e+02\n",
       "mnxr104240c3     -7.142857e+02\n",
       "mnxr106812c3      2.857143e+02\n",
       "mnxr110348c3     -7.142857e+02\n",
       "mnxr112107c3     -2.857143e+02\n",
       "mnxr145089c2b    -1.000000e+03\n",
       "mnxr145969c3     -8.571429e+02\n",
       "mnxr146072c2b     2.857143e+02\n",
       "mnxr146129c3     -1.000000e+03\n",
       "mnxr146139c2b     1.000000e+03\n",
       "mnxr146353c3      2.857143e+02\n",
       "mnxr146361c3      7.142857e+02\n",
       "mnxr146574c3     -3.410605e-13\n",
       "mnxr152015c3      2.857143e+02\n",
       "mnxr153519c3      2.857143e+02\n",
       "mnxr153692c3      1.000000e+03\n",
       "mnxr153709c3     -8.571429e+02\n",
       "mnxr95465c3       7.142857e+02\n",
       "mnxr96810c2b      8.571429e+02\n",
       "mnxr96810c2c3    -8.571429e+02\n",
       "mnxr98641c2b      8.571429e+02\n",
       "mnxr98641c2c3     8.571429e+02\n",
       "mnxr99877c3       7.142857e+02\n",
       "mnxr99896c3       1.000000e+03\n",
       "OAT               1.000000e+03\n",
       "Name: fluxes, dtype: float64"
      ]
     },
     "execution_count": 40,
     "metadata": {},
     "output_type": "execute_result"
    }
   ],
   "source": [
    "# We check to see if any of the fluxes are idfferent from zero\n",
    "solution.fluxes[solution.fluxes != 0]"
   ]
  },
  {
   "cell_type": "raw",
   "metadata": {},
   "source": [
    "As this model seems to be incomplete, we will try and insert the corresponding pathway in another production host, E. coli."
   ]
  },
  {
   "cell_type": "code",
   "execution_count": null,
   "metadata": {},
   "outputs": [],
   "source": []
  }
 ],
 "metadata": {
  "kernelspec": {
   "display_name": "python3.6",
   "language": "python",
   "name": "python3.6"
  },
  "language_info": {
   "codemirror_mode": {
    "name": "ipython",
    "version": 3
   },
   "file_extension": ".py",
   "mimetype": "text/x-python",
   "name": "python",
   "nbconvert_exporter": "python",
   "pygments_lexer": "ipython3",
   "version": "3.6.12"
  }
 },
 "nbformat": 4,
 "nbformat_minor": 4
}

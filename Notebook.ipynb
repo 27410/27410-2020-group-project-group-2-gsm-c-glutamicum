{
 "cells": [
  {
   "cell_type": "code",
   "execution_count": 3,
   "metadata": {},
   "outputs": [],
   "source": [
    "import numpy as np"
   ]
  },
  {
   "cell_type": "code",
   "execution_count": 5,
   "metadata": {},
   "outputs": [],
   "source": [
    "from cobra.io import read_sbml_model"
   ]
  },
  {
   "cell_type": "code",
   "execution_count": 6,
   "metadata": {},
   "outputs": [
    {
     "ename": "CobraSBMLError",
     "evalue": "Something went wrong reading the SBML model. Most likely the SBML model is not valid. Please check that your model is valid using the `cobra.io.sbml.validate_sbml_model` function or via the online validator at http://sbml.org/validator .\n\t`(model, errors) = validate_sbml_model(filename)`\nIf the model is valid and cannot be read please open an issue at https://github.com/opencobra/cobrapy/issues .",
     "output_type": "error",
     "traceback": [
      "\u001b[0;31m---------------------------------------------------------------------------\u001b[0m",
      "\u001b[0;31mCobraSBMLError\u001b[0m                            Traceback (most recent call last)",
      "\u001b[0;32m/usr/local/lib/python3.6/dist-packages/cobra/io/sbml.py\u001b[0m in \u001b[0;36mread_sbml_model\u001b[0;34m(filename, number, f_replace, **kwargs)\u001b[0m\n\u001b[1;32m    254\u001b[0m                               \u001b[0mf_replace\u001b[0m\u001b[0;34m=\u001b[0m\u001b[0mf_replace\u001b[0m\u001b[0;34m,\u001b[0m\u001b[0;34m\u001b[0m\u001b[0;34m\u001b[0m\u001b[0m\n\u001b[0;32m--> 255\u001b[0;31m                               **kwargs)\n\u001b[0m\u001b[1;32m    256\u001b[0m     \u001b[0;32mexcept\u001b[0m \u001b[0mIOError\u001b[0m \u001b[0;32mas\u001b[0m \u001b[0me\u001b[0m\u001b[0;34m:\u001b[0m\u001b[0;34m\u001b[0m\u001b[0;34m\u001b[0m\u001b[0m\n",
      "\u001b[0;32m/usr/local/lib/python3.6/dist-packages/cobra/io/sbml.py\u001b[0m in \u001b[0;36m_sbml_to_model\u001b[0;34m(doc, number, f_replace, set_missing_bounds, **kwargs)\u001b[0m\n\u001b[1;32m    332\u001b[0m     \u001b[0;32mif\u001b[0m \u001b[0mmodel\u001b[0m \u001b[0;32mis\u001b[0m \u001b[0;32mNone\u001b[0m\u001b[0;34m:\u001b[0m\u001b[0;34m\u001b[0m\u001b[0;34m\u001b[0m\u001b[0m\n\u001b[0;32m--> 333\u001b[0;31m         \u001b[0;32mraise\u001b[0m \u001b[0mCobraSBMLError\u001b[0m\u001b[0;34m(\u001b[0m\u001b[0;34m\"No SBML model detected in file.\"\u001b[0m\u001b[0;34m)\u001b[0m\u001b[0;34m\u001b[0m\u001b[0;34m\u001b[0m\u001b[0m\n\u001b[0m\u001b[1;32m    334\u001b[0m     \u001b[0mmodel_fbc\u001b[0m \u001b[0;34m=\u001b[0m \u001b[0mmodel\u001b[0m\u001b[0;34m.\u001b[0m\u001b[0mgetPlugin\u001b[0m\u001b[0;34m(\u001b[0m\u001b[0;34m\"fbc\"\u001b[0m\u001b[0;34m)\u001b[0m  \u001b[0;31m# type: libsbml.FbcModelPlugin\u001b[0m\u001b[0;34m\u001b[0m\u001b[0;34m\u001b[0m\u001b[0m\n",
      "\u001b[0;31mCobraSBMLError\u001b[0m: No SBML model detected in file.",
      "\nThe above exception was the direct cause of the following exception:\n",
      "\u001b[0;31mCobraSBMLError\u001b[0m                            Traceback (most recent call last)",
      "\u001b[0;32m<ipython-input-6-46d8d33c3d5a>\u001b[0m in \u001b[0;36m<module>\u001b[0;34m\u001b[0m\n\u001b[0;32m----> 1\u001b[0;31m \u001b[0mmodel\u001b[0m \u001b[0;34m=\u001b[0m \u001b[0mread_sbml_model\u001b[0m\u001b[0;34m(\u001b[0m\u001b[0;34m'13068_2017_856_MOESM10_ESM.xlsx'\u001b[0m\u001b[0;34m)\u001b[0m\u001b[0;34m\u001b[0m\u001b[0;34m\u001b[0m\u001b[0m\n\u001b[0m",
      "\u001b[0;32m/usr/local/lib/python3.6/dist-packages/cobra/io/sbml.py\u001b[0m in \u001b[0;36mread_sbml_model\u001b[0;34m(filename, number, f_replace, **kwargs)\u001b[0m\n\u001b[1;32m    266\u001b[0m             \u001b[0;34m\"\\nIf the model is valid and cannot be read please open an issue \"\u001b[0m\u001b[0;34m\u001b[0m\u001b[0;34m\u001b[0m\u001b[0m\n\u001b[1;32m    267\u001b[0m             \"at https://github.com/opencobra/cobrapy/issues .\")\n\u001b[0;32m--> 268\u001b[0;31m         \u001b[0mraise_from\u001b[0m\u001b[0;34m(\u001b[0m\u001b[0mcobra_error\u001b[0m\u001b[0;34m,\u001b[0m \u001b[0moriginal_error\u001b[0m\u001b[0;34m)\u001b[0m\u001b[0;34m\u001b[0m\u001b[0;34m\u001b[0m\u001b[0m\n\u001b[0m\u001b[1;32m    269\u001b[0m \u001b[0;34m\u001b[0m\u001b[0m\n\u001b[1;32m    270\u001b[0m \u001b[0;34m\u001b[0m\u001b[0m\n",
      "\u001b[0;32m/usr/lib/python3/dist-packages/six.py\u001b[0m in \u001b[0;36mraise_from\u001b[0;34m(value, from_value)\u001b[0m\n",
      "\u001b[0;31mCobraSBMLError\u001b[0m: Something went wrong reading the SBML model. Most likely the SBML model is not valid. Please check that your model is valid using the `cobra.io.sbml.validate_sbml_model` function or via the online validator at http://sbml.org/validator .\n\t`(model, errors) = validate_sbml_model(filename)`\nIf the model is valid and cannot be read please open an issue at https://github.com/opencobra/cobrapy/issues ."
     ]
    }
   ],
   "source": [
    "model = read_sbml_model('13068_2017_856_MOESM10_ESM.xlsx')"
   ]
  }
 ],
 "metadata": {
  "kernelspec": {
   "display_name": "python3.6",
   "language": "python",
   "name": "python3.6"
  },
  "language_info": {
   "codemirror_mode": {
    "name": "ipython",
    "version": 3
   },
   "file_extension": ".py",
   "mimetype": "text/x-python",
   "name": "python",
   "nbconvert_exporter": "python",
   "pygments_lexer": "ipython3",
   "version": "3.6.12"
  }
 },
 "nbformat": 4,
 "nbformat_minor": 4
}

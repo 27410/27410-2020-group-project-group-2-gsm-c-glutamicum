{
 "cells": [
  {
   "cell_type": "code",
   "execution_count": 3,
   "metadata": {},
   "outputs": [
    {
     "name": "stdout",
     "output_type": "stream",
     "text": [
      "Putrescine\n",
      "ptrc_p\n",
      "Putrescine\n",
      "ptrc_c\n",
      "Putrescine\n",
      "ptrc_e\n",
      "41.09128205128201\n",
      "9.56477064220184\n",
      "N-Acetyl-L-glutamate 5-semialdehyde\n",
      "acg5sa_c\n",
      "N2-Succinyl-L-glutamate 5-semialdehyde\n",
      "sucgsa_c\n",
      "L-Glutamate 5-semialdehyde\n",
      "glu5sa_c\n",
      "Ornithine\n",
      "orn_e\n",
      "Ornithine\n",
      "orn_p\n",
      "Ornithine\n",
      "orn_c\n",
      "2-Oxoglutarate\n",
      "akg_e\n",
      "2-Oxoglutarate\n",
      "akg_c\n",
      "2-Oxoglutarate\n",
      "akg_p\n",
      "L-Glutamate 1-semialdehyde\n",
      "glu1sa_c\n",
      "L-Glutamate\n",
      "glu__L_c\n",
      "L-Glutamate 5-semialdehyde\n",
      "glu5sa_c\n",
      "L-Glutamate\n",
      "glu__L_e\n",
      "L-Glutamate\n",
      "glu__L_p\n",
      "L-Glutamate 5-phosphate\n",
      "glu5p_c\n",
      "glu5sa_c + glu__L_c --> akg_c + orn_c\n",
      "53.02333333333331\n",
      "45.787428571428464\n",
      "9.92914285714285\n",
      "L-Arginine\n",
      "arg__L_c\n",
      "L-Arginine\n",
      "arg__L_e\n",
      "L-Arginine\n",
      "arg__L_p\n",
      "Urea CH4N2O\n",
      "urea_c\n",
      "Urea CH4N2O\n",
      "urea_p\n",
      "Urea CH4N2O\n",
      "urea_e\n",
      "H2O H2O\n",
      "h2o_p\n",
      "H2O H2O\n",
      "h2o_c\n",
      "H2O H2O\n",
      "h2o_e\n",
      "arg__L_c + h2o_c --> orn_c + urea_c\n",
      "45.787428571428464\n",
      "9.929142857142857\n"
     ]
    }
   ],
   "source": [
    "%run 2.Ecoli_model.ipynb"
   ]
  },
  {
   "cell_type": "markdown",
   "metadata": {},
   "source": [
    "# Gene knock out strategies"
   ]
  },
  {
   "cell_type": "code",
   "execution_count": 4,
   "metadata": {},
   "outputs": [],
   "source": [
    "#We would like to utilize the OptKnock built in algoritm in COBRApy\n",
    "#First we make a list of essential genes, \n",
    "#second we make a list of non-essential genes"
   ]
  },
  {
   "cell_type": "code",
   "execution_count": 5,
   "metadata": {},
   "outputs": [],
   "source": [
    "import cobra"
   ]
  },
  {
   "cell_type": "code",
   "execution_count": 6,
   "metadata": {},
   "outputs": [],
   "source": [
    "def get_blocked_reactions(model):\n",
    "    fva_res = cobra.flux_analysis.flux_variability_analysis(model, fraction_of_optimum=0)\n",
    "    blocked = [\n",
    "        model.reactions.get_by_id(reaction) for reaction, row in fva_res.iterrows()\n",
    "        if (round(row[\"minimum\"], 5) == round(row[\"maximum\"], 5) == 0)\n",
    "    ]\n",
    "    return blocked"
   ]
  },
  {
   "cell_type": "code",
   "execution_count": 7,
   "metadata": {},
   "outputs": [],
   "source": [
    "#def get_blocked_reactions(model):\n",
    "  #  fva_res = cobra.flux_analysis.flux_variability_analysis(model, fraction_of_optimum=0)\n",
    "  #  blocked = [\n",
    "  #      model.reactions.get_by_id(reaction) for reaction, row in fva_res.data_frame.iterrows()\n",
    "  #      if (round(row[\"lower_bound\"], 5) == round(row[\"upper_bound\"], 5) == 0)\n",
    "  #  ]\n",
    "  #  return blocked"
   ]
  },
  {
   "cell_type": "code",
   "execution_count": 8,
   "metadata": {},
   "outputs": [],
   "source": [
    "blockedreactions = get_blocked_reactions(model)"
   ]
  },
  {
   "cell_type": "code",
   "execution_count": 11,
   "metadata": {},
   "outputs": [],
   "source": [
    "essentiality = {}\n",
    "importantgenes = {}\n",
    "targetgenes = {}\n",
    "for gene in model.genes:\n",
    "    with model:\n",
    "        gene.knock_out()\n",
    "        essentiality[gene] = model.slim_optimize(error_value=0.)\n",
    "        #print(model.slim_optimize(error_value=0.))\n",
    "        if model.slim_optimize(error_value=0.) < 0.5:\n",
    "            importantgenes[gene] = model.slim_optimize(error_value=0.)\n",
    "        else:\n",
    "            targetgenes[gene] = model.slim_optimize(error_value=0.)\n",
    "            "
   ]
  },
  {
   "cell_type": "code",
   "execution_count": 12,
   "metadata": {},
   "outputs": [],
   "source": [
    "#essentiality"
   ]
  },
  {
   "cell_type": "code",
   "execution_count": 14,
   "metadata": {},
   "outputs": [],
   "source": [
    "#importantgenes"
   ]
  },
  {
   "cell_type": "code",
   "execution_count": null,
   "metadata": {},
   "outputs": [],
   "source": [
    "#targetgenes"
   ]
  },
  {
   "cell_type": "code",
   "execution_count": null,
   "metadata": {},
   "outputs": [],
   "source": [
    "#Make loop of our targetgenes list to append all reactions per gene"
   ]
  },
  {
   "cell_type": "code",
   "execution_count": null,
   "metadata": {},
   "outputs": [],
   "source": [
    "#targetgenes.index[0]"
   ]
  },
  {
   "cell_type": "code",
   "execution_count": 15,
   "metadata": {},
   "outputs": [],
   "source": [
    "#model.genes.b2551.reactions\n",
    "importantreactions = []\n",
    "for gene in importantgenes:\n",
    "    for reaction in gene.reactions:\n",
    "        importantreactions.append(reaction)\n",
    "importantreactions = list(set(importantreactions))\n"
   ]
  },
  {
   "cell_type": "code",
   "execution_count": 16,
   "metadata": {},
   "outputs": [
    {
     "data": {
      "text/plain": [
       "418"
      ]
     },
     "execution_count": 16,
     "metadata": {},
     "output_type": "execute_result"
    }
   ],
   "source": [
    "len(importantreactions)"
   ]
  },
  {
   "cell_type": "code",
   "execution_count": 17,
   "metadata": {},
   "outputs": [],
   "source": [
    "l3 = [x.id for x in importantreactions if x not in blockedreactions]"
   ]
  },
  {
   "cell_type": "code",
   "execution_count": 19,
   "metadata": {},
   "outputs": [
    {
     "data": {
      "text/plain": [
       "383"
      ]
     },
     "execution_count": 19,
     "metadata": {},
     "output_type": "execute_result"
    }
   ],
   "source": [
    "len(l3)"
   ]
  },
  {
   "cell_type": "code",
   "execution_count": null,
   "metadata": {},
   "outputs": [],
   "source": [
    "# l5 = set(importantreactions).intersection(blockedreactions)"
   ]
  },
  {
   "cell_type": "code",
   "execution_count": null,
   "metadata": {},
   "outputs": [],
   "source": [
    "#Then we make a list of reactions we can knock out based on the knockable genes"
   ]
  },
  {
   "cell_type": "code",
   "execution_count": null,
   "metadata": {},
   "outputs": [],
   "source": [
    "#Then we run the algoritm for OptKnock"
   ]
  },
  {
   "cell_type": "code",
   "execution_count": 20,
   "metadata": {},
   "outputs": [],
   "source": [
    "import cameo"
   ]
  },
  {
   "cell_type": "code",
   "execution_count": 21,
   "metadata": {},
   "outputs": [],
   "source": [
    "from cameo.strain_design.deterministic.linear_programming import OptKnock"
   ]
  },
  {
   "cell_type": "code",
   "execution_count": 22,
   "metadata": {},
   "outputs": [],
   "source": [
    "#for reaction in model.reactions.query('ATP', 'name'):\n",
    "    #print(reaction.name)\n",
    "    #print(reaction.id)"
   ]
  },
  {
   "cell_type": "code",
   "execution_count": 23,
   "metadata": {},
   "outputs": [
    {
     "name": "stdout",
     "output_type": "stream",
     "text": [
      "CO2 exchange\n",
      "EX_co2_e\n",
      "CO2 transporter via diffusion (periplasm)\n",
      "CO2tpp\n",
      "CO2 transport via diffusion (extracellular to periplasm)\n",
      "CO2tex\n"
     ]
    }
   ],
   "source": [
    "for reaction in model.reactions.query('CO2', 'name'):\n",
    "    print(reaction.name)\n",
    "    print(reaction.id)"
   ]
  },
  {
   "cell_type": "code",
   "execution_count": 24,
   "metadata": {},
   "outputs": [],
   "source": [
    "#for reaction in model.reactions.query('CO', 'name'):\n",
    "  #  print(reaction.name)\n",
    "   # print(reaction.id)"
   ]
  },
  {
   "cell_type": "code",
   "execution_count": 25,
   "metadata": {},
   "outputs": [],
   "source": [
    "optknock = OptKnock(model, fraction_of_optimum=0.1, exclude_reactions= l3)"
   ]
  },
  {
   "cell_type": "code",
   "execution_count": 26,
   "metadata": {},
   "outputs": [
    {
     "data": {
      "text/plain": [
       "<cameo.strain_design.deterministic.linear_programming.OptKnock at 0x7f747afc75f8>"
      ]
     },
     "execution_count": 26,
     "metadata": {},
     "output_type": "execute_result"
    }
   ],
   "source": [
    "optknock"
   ]
  },
  {
   "cell_type": "code",
   "execution_count": null,
   "metadata": {},
   "outputs": [],
   "source": [
    "#result = optknock.run(max_knockouts=3, target=\"EX_ptrc_e\", biomass=\"BIOMASS_Ec_iML1515_core_75p37M\")"
   ]
  },
  {
   "cell_type": "code",
   "execution_count": null,
   "metadata": {},
   "outputs": [],
   "source": []
  }
 ],
 "metadata": {
  "kernelspec": {
   "display_name": "python3.6",
   "language": "python",
   "name": "python3.6"
  },
  "language_info": {
   "codemirror_mode": {
    "name": "ipython",
    "version": 3
   },
   "file_extension": ".py",
   "mimetype": "text/x-python",
   "name": "python",
   "nbconvert_exporter": "python",
   "pygments_lexer": "ipython3",
   "version": "3.6.12"
  }
 },
 "nbformat": 4,
 "nbformat_minor": 4
}

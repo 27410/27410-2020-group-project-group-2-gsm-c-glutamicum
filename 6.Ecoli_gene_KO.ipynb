{
 "cells": [
  {
   "cell_type": "code",
   "execution_count": null,
   "metadata": {},
   "outputs": [],
   "source": [
    "%run 2.Ecoli_model.ipynb"
   ]
  },
  {
   "cell_type": "markdown",
   "metadata": {},
   "source": [
    "# Gene knock out strategies"
   ]
  },
  {
   "cell_type": "code",
   "execution_count": 74,
   "metadata": {},
   "outputs": [],
   "source": [
    "#We would like to utilize the OptKnock built in algoritm in COBRApy\n",
    "#First we make a list of essential genes, \n",
    "#second we make a list of non-essential genes"
   ]
  },
  {
   "cell_type": "code",
   "execution_count": 76,
   "metadata": {},
   "outputs": [],
   "source": [
    "essentiality = {}\n",
    "importantgenes = {}\n",
    "targetgenes = {}\n",
    "for gene in model.genes:\n",
    "    with model:\n",
    "        gene.knock_out()\n",
    "        essentiality[gene] = model.slim_optimize(error_value=0.)\n",
    "        #print(model.slim_optimize(error_value=0.))\n",
    "        if model.slim_optimize(error_value=0.) == 0:\n",
    "            importantgenes[gene] = model.slim_optimize(error_value=0.)\n",
    "        else:\n",
    "            targetgenes[gene] = model.slim_optimize(error_value=0.)\n",
    "            "
   ]
  },
  {
   "cell_type": "code",
   "execution_count": 77,
   "metadata": {},
   "outputs": [],
   "source": [
    "#importantgenes"
   ]
  },
  {
   "cell_type": "code",
   "execution_count": 77,
   "metadata": {},
   "outputs": [],
   "source": [
    "#importantgenes"
   ]
  },
  {
   "cell_type": "code",
   "execution_count": 79,
   "metadata": {},
   "outputs": [],
   "source": [
    "#targetgenes"
   ]
  },
  {
   "cell_type": "code",
   "execution_count": 80,
   "metadata": {},
   "outputs": [],
   "source": [
    "#Make loop of our targetgenes list to append all reactions per gene"
   ]
  },
  {
   "cell_type": "code",
   "execution_count": 87,
   "metadata": {},
   "outputs": [],
   "source": [
    "#targetgenes.index[0]"
   ]
  },
  {
   "cell_type": "code",
   "execution_count": 88,
   "metadata": {},
   "outputs": [
    {
     "data": {
      "text/plain": [
       "frozenset({<Reaction ALATA_D2 at 0x7f488c610e80>,\n",
       "           <Reaction ALATA_L2 at 0x7f488c644e80>,\n",
       "           <Reaction GHMT2r at 0x7f488c3e7b38>,\n",
       "           <Reaction THFAT at 0x7f488b1ed240>,\n",
       "           <Reaction THRA2 at 0x7f488b9a3d68>,\n",
       "           <Reaction THRA at 0x7f488b27fef0>})"
      ]
     },
     "execution_count": 88,
     "metadata": {},
     "output_type": "execute_result"
    }
   ],
   "source": [
    "model.genes.b2551.reactions"
   ]
  },
  {
   "cell_type": "code",
   "execution_count": null,
   "metadata": {},
   "outputs": [],
   "source": [
    "#Then we make a list of reactions we can knock out based on the knockable genes"
   ]
  },
  {
   "cell_type": "code",
   "execution_count": null,
   "metadata": {},
   "outputs": [],
   "source": [
    "#Then we run the algoritm for OptKnock"
   ]
  },
  {
   "cell_type": "code",
   "execution_count": 89,
   "metadata": {},
   "outputs": [],
   "source": [
    "import cameo"
   ]
  },
  {
   "cell_type": "code",
   "execution_count": 90,
   "metadata": {},
   "outputs": [],
   "source": [
    "from cameo.strain_design.deterministic.linear_programming import OptKnock"
   ]
  },
  {
   "cell_type": "code",
   "execution_count": 91,
   "metadata": {},
   "outputs": [
    {
     "name": "stdout",
     "output_type": "stream",
     "text": [
      "Nucleoside-diphosphate kinase (ATP:dGDP)\n",
      "NDPK5\n",
      "Nucleoside-diphosphate kinase (ATP:dUDP)\n",
      "NDPK6\n",
      "Nucleoside-diphosphate kinase (ATP:dADP)\n",
      "NDPK8\n",
      "Uridine kinase  ATPUridine \n",
      "URIK1\n",
      "ATP:cytidine 5'-phosphotransferase\n",
      "CYTDK1\n",
      "Thymidine kinase (ATP:thymidine)\n",
      "TMDK1\n",
      "Hexokinase (D-mannose:ATP)\n",
      "HEX4\n",
      "Hydroxymethylpyrimidine kinase (ATP)\n",
      "HMPK1\n",
      "Hexokinase (D-fructose:ATP)\n",
      "HEX7\n",
      "Deoxyuridine kinase (ATP:Deoxyuridine)\n",
      "DURIK1\n",
      "Nucleoside-diphosphate kinase (ATP:dCDP)\n",
      "NDPK7\n",
      "Nucleoside-diphosphate kinase (ATP:UDP)\n",
      "NDPK2\n",
      "Nucleoside-diphosphate kinase (ATP:CDP)\n",
      "NDPK3\n",
      "Nucleoside-diphosphate kinase (ATP:dTDP)\n",
      "NDPK4\n",
      "Deoxyguanylate kinase (dGMP:ATP)\n",
      "DGK1\n",
      "Nucleoside-diphosphate kinase (ATP:GDP)\n",
      "NDPK1\n",
      "ATP phosphoribosyltransferase\n",
      "ATPPRT\n",
      "Phosphoribosyl-ATP pyrophosphatase\n",
      "PRATPP\n",
      "Hexokinase (D-glucose:ATP)\n",
      "HEX1\n",
      "ATP synthase (four protons for one ATP) (periplasm)\n",
      "ATPS4rpp\n",
      "Guanylate kinase (GMP:ATP)\n",
      "GK1\n",
      "DATP amine hydrolysis (spontaneous)\n",
      "DATPHs\n",
      "ATP amine hydrolysis (spontaneous)\n",
      "ATPHs\n",
      "ATP maintenance requirement\n",
      "ATPM\n",
      "Arsenite efflux via ATP hydrolysis (periplasm)\n",
      "ASO3t8pp\n",
      "Nucleoside-triphosphatase (ATP)\n",
      "NTP1\n",
      "Ribonucleoside-triphosphate reductase (ATP) (flavodoxin)\n",
      "RNTR1c2\n",
      "Lipoate-ATP adenylate transferase\n",
      "LIPATPT\n"
     ]
    }
   ],
   "source": [
    "for reaction in model.reactions.query('ATP', 'name'):\n",
    "    print(reaction.name)\n",
    "    print(reaction.id)"
   ]
  },
  {
   "cell_type": "code",
   "execution_count": 92,
   "metadata": {},
   "outputs": [
    {
     "name": "stdout",
     "output_type": "stream",
     "text": [
      "CO2 exchange\n",
      "EX_co2_e\n",
      "CO2 transporter via diffusion (periplasm)\n",
      "CO2tpp\n",
      "CO2 transport via diffusion (extracellular to periplasm)\n",
      "CO2tex\n"
     ]
    }
   ],
   "source": [
    "for reaction in model.reactions.query('CO2', 'name'):\n",
    "    print(reaction.name)\n",
    "    print(reaction.id)"
   ]
  },
  {
   "cell_type": "code",
   "execution_count": 93,
   "metadata": {},
   "outputs": [
    {
     "name": "stdout",
     "output_type": "stream",
     "text": [
      "CO2 exchange\n",
      "EX_co2_e\n",
      "HCO3 equilibration reaction\n",
      "HCO3E\n",
      "CO2 transporter via diffusion (periplasm)\n",
      "CO2tpp\n",
      "CO2 transport via diffusion (extracellular to periplasm)\n",
      "CO2tex\n"
     ]
    }
   ],
   "source": [
    "for reaction in model.reactions.query('CO', 'name'):\n",
    "    print(reaction.name)\n",
    "    print(reaction.id)"
   ]
  },
  {
   "cell_type": "code",
   "execution_count": null,
   "metadata": {},
   "outputs": [],
   "source": [
    "#optknock = OptKnock(model, fraction_of_optimum=0.1, exclude_reactions=['ATPS4rpp', 'CO2tpp', 'H2Ot'])"
   ]
  },
  {
   "cell_type": "code",
   "execution_count": null,
   "metadata": {},
   "outputs": [],
   "source": [
    "#result = optknock.run(max_knockouts=3, target=\"DM_ptrc_c\", biomass=\"BIOMASS_Ec_iML1515_core_75p37M\")"
   ]
  },
  {
   "cell_type": "code",
   "execution_count": 94,
   "metadata": {},
   "outputs": [
    {
     "data": {
      "text/html": [
       "<div>\n",
       "<style scoped>\n",
       "    .dataframe tbody tr th:only-of-type {\n",
       "        vertical-align: middle;\n",
       "    }\n",
       "\n",
       "    .dataframe tbody tr th {\n",
       "        vertical-align: top;\n",
       "    }\n",
       "\n",
       "    .dataframe thead tr th {\n",
       "        text-align: left;\n",
       "    }\n",
       "</style>\n",
       "<table border=\"1\" class=\"dataframe\">\n",
       "  <thead>\n",
       "    <tr>\n",
       "      <th></th>\n",
       "      <th colspan=\"2\" halign=\"left\">IN_FLUXES</th>\n",
       "      <th colspan=\"2\" halign=\"left\">OUT_FLUXES</th>\n",
       "      <th colspan=\"2\" halign=\"left\">OBJECTIVES</th>\n",
       "    </tr>\n",
       "    <tr>\n",
       "      <th></th>\n",
       "      <th>ID</th>\n",
       "      <th>FLUX</th>\n",
       "      <th>ID</th>\n",
       "      <th>FLUX</th>\n",
       "      <th>ID</th>\n",
       "      <th>FLUX</th>\n",
       "    </tr>\n",
       "  </thead>\n",
       "  <tbody>\n",
       "    <tr>\n",
       "      <th>0</th>\n",
       "      <td>o2_e</td>\n",
       "      <td>22.089581</td>\n",
       "      <td>h2o_e</td>\n",
       "      <td>47.148065</td>\n",
       "      <td>BIOMASS_Ec_iML1515_core_75p37M</td>\n",
       "      <td>0.877974</td>\n",
       "    </tr>\n",
       "    <tr>\n",
       "      <th>1</th>\n",
       "      <td>glc__D_e</td>\n",
       "      <td>10.000000</td>\n",
       "      <td>co2_e</td>\n",
       "      <td>23.963196</td>\n",
       "      <td>NaN</td>\n",
       "      <td>NaN</td>\n",
       "    </tr>\n",
       "    <tr>\n",
       "      <th>2</th>\n",
       "      <td>nh4_e</td>\n",
       "      <td>9.482046</td>\n",
       "      <td>h_e</td>\n",
       "      <td>8.067176</td>\n",
       "      <td>NaN</td>\n",
       "      <td>NaN</td>\n",
       "    </tr>\n",
       "    <tr>\n",
       "      <th>3</th>\n",
       "      <td>pi_e</td>\n",
       "      <td>0.846899</td>\n",
       "      <td>NaN</td>\n",
       "      <td>NaN</td>\n",
       "      <td>NaN</td>\n",
       "      <td>NaN</td>\n",
       "    </tr>\n",
       "  </tbody>\n",
       "</table>\n",
       "</div>"
      ],
      "text/plain": [
       "<cobra.core.summary.model_summary.ModelSummary at 0x7f4882548cc0>"
      ]
     },
     "execution_count": 94,
     "metadata": {},
     "output_type": "execute_result"
    }
   ],
   "source": [
    "model.summary()"
   ]
  }
 ],
 "metadata": {
  "kernelspec": {
   "display_name": "python3.6",
   "language": "python",
   "name": "python3.6"
  },
  "language_info": {
   "codemirror_mode": {
    "name": "ipython",
    "version": 3
   },
   "file_extension": ".py",
   "mimetype": "text/x-python",
   "name": "python",
   "nbconvert_exporter": "python",
   "pygments_lexer": "ipython3",
   "version": "3.6.12"
  }
 },
 "nbformat": 4,
 "nbformat_minor": 4
}

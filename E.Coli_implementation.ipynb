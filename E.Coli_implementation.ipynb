{
 "cells": [
  {
   "cell_type": "code",
   "execution_count": 2,
   "metadata": {},
   "outputs": [],
   "source": [
    "import numpy as np\n",
    "from cobra.io import read_sbml_model\n",
    "%run Ecoli_model.ipynb"
   ]
  },
  {
   "cell_type": "markdown",
   "metadata": {},
   "source": [
    "# Testing"
   ]
  },
  {
   "cell_type": "code",
   "execution_count": 36,
   "metadata": {},
   "outputs": [
    {
     "name": "stdout",
     "output_type": "stream",
     "text": [
      "O-succinylbenzoate-CoA synthase\n",
      "SUCBZS\n",
      "Succinyl-diaminopimelate desuccinylase\n",
      "SDPDS\n",
      "Arginine succinyltransferase\n",
      "AST\n",
      "Succinylglutamate desuccinylase\n",
      "SGDS\n",
      "Homoserine O-succinyltransferase\n",
      "HSST\n",
      "O-succinylhomoserine lyase (L-cysteine)\n",
      "SHSL1\n",
      "Tetrahydrodipicolinate succinylase\n",
      "THDPS\n",
      "O-succinylbenzoate-CoA ligase\n",
      "SUCBZL\n",
      "2-succinyl-6-hydroxy-2,4-cyclohexadiene 1-carboxylate synthase\n",
      "SHCHCS3\n",
      "2-succinyl-5-enolpyruvyl-6-hydroxy-3-cyclohexene-1-carboxylate synthase\n",
      "SEPHCHCS\n"
     ]
    }
   ],
   "source": [
    "for reaction in model.reactions.query('succinyl', 'name'):\n",
    "    print(reaction.name)\n",
    "    print(reaction.id)"
   ]
  },
  {
   "cell_type": "code",
   "execution_count": 37,
   "metadata": {},
   "outputs": [
    {
     "data": {
      "text/html": [
       "\n",
       "        <table>\n",
       "            <tr>\n",
       "                <td><strong>Reaction identifier</strong></td><td>AST</td>\n",
       "            </tr><tr>\n",
       "                <td><strong>Name</strong></td><td>Arginine succinyltransferase</td>\n",
       "            </tr><tr>\n",
       "                <td><strong>Memory address</strong></td>\n",
       "                <td>0x07f488c2beb38</td>\n",
       "            </tr><tr>\n",
       "                <td><strong>Stoichiometry</strong></td>\n",
       "                <td>\n",
       "                    <p style='text-align:right'>arg__L_c + succoa_c --> coa_c + h_c + sucarg_c</p>\n",
       "                    <p style='text-align:right'>L-Arginine + Succinyl-CoA --> Coenzyme A + H+ + N2-Succinyl-L-arginine</p>\n",
       "                </td>\n",
       "            </tr><tr>\n",
       "                <td><strong>GPR</strong></td><td>b1747</td>\n",
       "            </tr><tr>\n",
       "                <td><strong>Lower bound</strong></td><td>0.0</td>\n",
       "            </tr><tr>\n",
       "                <td><strong>Upper bound</strong></td><td>1000.0</td>\n",
       "            </tr>\n",
       "        </table>\n",
       "        "
      ],
      "text/plain": [
       "<Reaction AST at 0x7f488c2beb38>"
      ]
     },
     "execution_count": 37,
     "metadata": {},
     "output_type": "execute_result"
    }
   ],
   "source": [
    "model.reactions.AST"
   ]
  },
  {
   "cell_type": "code",
   "execution_count": 38,
   "metadata": {},
   "outputs": [
    {
     "name": "stdout",
     "output_type": "stream",
     "text": [
      "Max. putriscine production [mmol gDW^-1 h^-1]: 10.01910447761193\n",
      "Theoretical max. yield [mmol-put / mmol-glc]: 1.0019104477611929\n"
     ]
    }
   ],
   "source": [
    "medium = model.medium\n",
    "with model:\n",
    "    model.medium = medium\n",
    "    model.reactions.AST.bounds = 0,0\n",
    "    model.reactions.AAH.bounds = 0,0\n",
    "    model.objective = model.reactions.DM_ptrc_c\n",
    "    put_production = model.optimize().objective_value\n",
    "    print(\"Max. putriscine production [mmol gDW^-1 h^-1]:\", put_production)\n",
    "    print(\"Theoretical max. yield [mmol-put / mmol-glc]:\", put_production / (-1*model.reactions.EX_glc__D_e.flux))"
   ]
  },
  {
   "cell_type": "code",
   "execution_count": 39,
   "metadata": {},
   "outputs": [
    {
     "name": "stdout",
     "output_type": "stream",
     "text": [
      "Orotidine-5'-phosphate decarboxylase\n",
      "OMPDC\n",
      "Uroporphyrinogen decarboxylase (uroporphyrinogen III)\n",
      "UPPDC1\n",
      "Phosphoribosylaminoimidazole carboxylase (mutase rxn)\n",
      "AIRC3\n",
      "Phosphopantothenoylcysteine decarboxylase\n",
      "PPCDC\n",
      "Acetyl-CoA carboxylase\n",
      "ACCOAC\n",
      "Adenosylmethionine decarboxylase\n",
      "ADMDC\n",
      "Arginine decarboxylase\n",
      "ARGDC\n",
      "Oxaloacetate decarboxylase\n",
      "OAADC\n",
      "Malonyl-ACP decarboxylase\n",
      "MACPD\n",
      "Phosphoenolpyruvate carboxylase\n",
      "PPC\n",
      "Octaprenyl-hydroxybenzoate decarboxylase\n",
      "OPHBDC\n",
      "3-keto-L-gulonate 6-phosphate decarboxylase\n",
      "KG6PDC\n",
      "Aspartate 1-decarboxylase\n",
      "ASP1DC\n",
      "Diaminopimelate decarboxylase\n",
      "DAPDC\n",
      "Phosphoribosylaminoimidazole carboxylase\n",
      "AIRC2\n",
      "Glutamate Decarboxylase\n",
      "GLUDC\n",
      "Arginine decarboxylase\n",
      "ARGDCpp\n",
      "Lysine decarboxylase\n",
      "LYSDC\n",
      "UDP-glucuronate C-4'' decarboxylase\n",
      "UDPGDC\n",
      "Methylmalonyl-CoA decarboxylase\n",
      "MMCD\n",
      "Ornithine Decarboxylase\n",
      "ORNDC\n",
      "Phosphatidylserine decarboxylase (n-C16:0)\n",
      "PSD160\n",
      "Phosphatidylserine decarboxylase (n-C16:1)\n",
      "PSD161\n",
      "Phosphatidylserine decarboxylase (n-C18:0)\n",
      "PSD180\n",
      "Phosphatidylserine decarboxylase (n-C14:0)\n",
      "PSD140\n",
      "Phosphatidylserine decarboxylase (n-C14:1)\n",
      "PSD141\n",
      "Phosphatidylserine decarboxylase (n-C12:0)\n",
      "PSD120\n",
      "Phosphatidylserine decarboxylase (n-C18:1)\n",
      "PSD181\n",
      "Oxalyl-CoA decarboxylase\n",
      "OXCDC\n"
     ]
    }
   ],
   "source": [
    "for reaction in model.reactions.query('carboxylase', 'name'):\n",
    "    print(reaction.name)\n",
    "    print(reaction.id)"
   ]
  },
  {
   "cell_type": "code",
   "execution_count": 40,
   "metadata": {},
   "outputs": [
    {
     "data": {
      "text/html": [
       "\n",
       "        <table>\n",
       "            <tr>\n",
       "                <td><strong>Reaction identifier</strong></td><td>ARGDC</td>\n",
       "            </tr><tr>\n",
       "                <td><strong>Name</strong></td><td>Arginine decarboxylase</td>\n",
       "            </tr><tr>\n",
       "                <td><strong>Memory address</strong></td>\n",
       "                <td>0x07f488c449898</td>\n",
       "            </tr><tr>\n",
       "                <td><strong>Stoichiometry</strong></td>\n",
       "                <td>\n",
       "                    <p style='text-align:right'>arg__L_c + h_c --> agm_c + co2_c</p>\n",
       "                    <p style='text-align:right'>L-Arginine + H+ --> Agmatine + CO2 CO2</p>\n",
       "                </td>\n",
       "            </tr><tr>\n",
       "                <td><strong>GPR</strong></td><td>b4117</td>\n",
       "            </tr><tr>\n",
       "                <td><strong>Lower bound</strong></td><td>0.0</td>\n",
       "            </tr><tr>\n",
       "                <td><strong>Upper bound</strong></td><td>1000.0</td>\n",
       "            </tr>\n",
       "        </table>\n",
       "        "
      ],
      "text/plain": [
       "<Reaction ARGDC at 0x7f488c449898>"
      ]
     },
     "execution_count": 40,
     "metadata": {},
     "output_type": "execute_result"
    }
   ],
   "source": [
    "model.reactions.ARGDC"
   ]
  },
  {
   "cell_type": "code",
   "execution_count": 41,
   "metadata": {},
   "outputs": [
    {
     "name": "stdout",
     "output_type": "stream",
     "text": [
      "Max. putriscine production [mmol gDW^-1 h^-1]: 10.01910447761193\n",
      "Theoretical max. yield [mmol-put / mmol-glc]: 1.0019104477611929\n"
     ]
    }
   ],
   "source": [
    "medium = model.medium\n",
    "with model:\n",
    "    model.objective = model.reactions.DM_ptrc_c\n",
    "    put_production = model.optimize().objective_value\n",
    "    print(\"Max. putriscine production [mmol gDW^-1 h^-1]:\", put_production)\n",
    "    print(\"Theoretical max. yield [mmol-put / mmol-glc]:\", put_production / (-1*model.reactions.EX_glc__D_e.flux))"
   ]
  },
  {
   "cell_type": "code",
   "execution_count": 42,
   "metadata": {},
   "outputs": [
    {
     "data": {
      "text/html": [
       "\n",
       "        <table>\n",
       "            <tr>\n",
       "                <td><strong>Metabolite identifier</strong></td><td>ptrc_c</td>\n",
       "            </tr><tr>\n",
       "                <td><strong>Name</strong></td><td>Putrescine</td>\n",
       "            </tr><tr>\n",
       "                <td><strong>Memory address</strong></td>\n",
       "                <td>0x07f488cc37cc0</td>\n",
       "            </tr><tr>\n",
       "                <td><strong>Formula</strong></td><td>C4H14N2</td>\n",
       "            </tr><tr>\n",
       "                <td><strong>Compartment</strong></td><td>c</td>\n",
       "            </tr><tr>\n",
       "                <td><strong>In 10 reaction(s)</strong></td><td>\n",
       "                    DM_ptrc_c, SPMS, PTRCt2pp, BIOMASS_Ec_iML1515_WT_75p37M, PTRCabcpp, PTRCTA, AGMT, GGPTRCS, PTRCORNt7pp, ORNDC</td>\n",
       "            </tr>\n",
       "        </table>"
      ],
      "text/plain": [
       "<Metabolite ptrc_c at 0x7f488cc37cc0>"
      ]
     },
     "execution_count": 42,
     "metadata": {},
     "output_type": "execute_result"
    }
   ],
   "source": [
    "model.metabolites.ptrc_c"
   ]
  },
  {
   "cell_type": "code",
   "execution_count": 43,
   "metadata": {},
   "outputs": [
    {
     "name": "stdout",
     "output_type": "stream",
     "text": [
      "Max. putriscine production [mmol gDW^-1 h^-1]: 8.40774193548387\n",
      "Theoretical max. yield [mmol-put / mmol-glc]: 0.840774193548387\n"
     ]
    }
   ],
   "source": [
    "medium = model.medium\n",
    "with model:\n",
    "    model.medium = medium\n",
    "    #model.reactions.AGMT.bounds = 0,0\n",
    "    model.reactions.AAH.bounds = 0,0\n",
    "    model.reactions.OAT.bounds = 0,0\n",
    "\n",
    "    model.reactions.ORNDC.bounds = 0,0\n",
    "\n",
    "    model.objective = model.reactions.DM_ptrc_c\n",
    "    put_production = model.optimize().objective_value\n",
    "    print(\"Max. putriscine production [mmol gDW^-1 h^-1]:\", put_production)\n",
    "    print(\"Theoretical max. yield [mmol-put / mmol-glc]:\", put_production / (-1*model.reactions.EX_glc__D_e.flux))"
   ]
  },
  {
   "cell_type": "code",
   "execution_count": 44,
   "metadata": {},
   "outputs": [
    {
     "data": {
      "text/html": [
       "\n",
       "        <table>\n",
       "            <tr>\n",
       "                <td><strong>Reaction identifier</strong></td><td>ORNDC</td>\n",
       "            </tr><tr>\n",
       "                <td><strong>Name</strong></td><td>Ornithine Decarboxylase</td>\n",
       "            </tr><tr>\n",
       "                <td><strong>Memory address</strong></td>\n",
       "                <td>0x07f488b7e05f8</td>\n",
       "            </tr><tr>\n",
       "                <td><strong>Stoichiometry</strong></td>\n",
       "                <td>\n",
       "                    <p style='text-align:right'>h_c + orn_c --> co2_c + ptrc_c</p>\n",
       "                    <p style='text-align:right'>H+ + Ornithine --> CO2 CO2 + Putrescine</p>\n",
       "                </td>\n",
       "            </tr><tr>\n",
       "                <td><strong>GPR</strong></td><td>b2965 or b0693</td>\n",
       "            </tr><tr>\n",
       "                <td><strong>Lower bound</strong></td><td>0.0</td>\n",
       "            </tr><tr>\n",
       "                <td><strong>Upper bound</strong></td><td>1000.0</td>\n",
       "            </tr>\n",
       "        </table>\n",
       "        "
      ],
      "text/plain": [
       "<Reaction ORNDC at 0x7f488b7e05f8>"
      ]
     },
     "execution_count": 44,
     "metadata": {},
     "output_type": "execute_result"
    }
   ],
   "source": [
    "model.reactions.ORNDC"
   ]
  },
  {
   "cell_type": "markdown",
   "metadata": {},
   "source": [
    "We try and see if removing spermidine synthesis from putrescine makes a difference"
   ]
  },
  {
   "cell_type": "code",
   "execution_count": 45,
   "metadata": {},
   "outputs": [
    {
     "name": "stdout",
     "output_type": "stream",
     "text": [
      "Spermidine\n",
      "spmd_e\n",
      "Spermidine\n",
      "spmd_c\n",
      "Spermidine\n",
      "spmd_p\n"
     ]
    }
   ],
   "source": [
    "for metabolite in model.metabolites.query('Spermidine', 'name'):\n",
    "    print(metabolite.name)\n",
    "    print(metabolite.id)"
   ]
  },
  {
   "cell_type": "code",
   "execution_count": 46,
   "metadata": {},
   "outputs": [
    {
     "data": {
      "text/html": [
       "\n",
       "        <table>\n",
       "            <tr>\n",
       "                <td><strong>Metabolite identifier</strong></td><td>ptrc_c</td>\n",
       "            </tr><tr>\n",
       "                <td><strong>Name</strong></td><td>Putrescine</td>\n",
       "            </tr><tr>\n",
       "                <td><strong>Memory address</strong></td>\n",
       "                <td>0x07f488cc37cc0</td>\n",
       "            </tr><tr>\n",
       "                <td><strong>Formula</strong></td><td>C4H14N2</td>\n",
       "            </tr><tr>\n",
       "                <td><strong>Compartment</strong></td><td>c</td>\n",
       "            </tr><tr>\n",
       "                <td><strong>In 10 reaction(s)</strong></td><td>\n",
       "                    DM_ptrc_c, SPMS, PTRCt2pp, BIOMASS_Ec_iML1515_WT_75p37M, PTRCabcpp, PTRCTA, AGMT, GGPTRCS, PTRCORNt7pp, ORNDC</td>\n",
       "            </tr>\n",
       "        </table>"
      ],
      "text/plain": [
       "<Metabolite ptrc_c at 0x7f488cc37cc0>"
      ]
     },
     "execution_count": 46,
     "metadata": {},
     "output_type": "execute_result"
    }
   ],
   "source": [
    "model.metabolites.ptrc_c"
   ]
  },
  {
   "cell_type": "code",
   "execution_count": 47,
   "metadata": {},
   "outputs": [],
   "source": [
    "#model.metabolites.spmd_c"
   ]
  },
  {
   "cell_type": "code",
   "execution_count": 48,
   "metadata": {},
   "outputs": [],
   "source": [
    "#model.reactions.SPMS"
   ]
  },
  {
   "cell_type": "code",
   "execution_count": 49,
   "metadata": {},
   "outputs": [
    {
     "name": "stdout",
     "output_type": "stream",
     "text": [
      "Spermidine\n",
      "spmd_p\n"
     ]
    }
   ],
   "source": [
    "#for metabolite in model.metabolites.query('butanal', 'name'):\n",
    "    print(metabolite.name)\n",
    "    print(metabolite.id)"
   ]
  },
  {
   "cell_type": "code",
   "execution_count": 50,
   "metadata": {},
   "outputs": [],
   "source": [
    "#model.metabolites.get_by_id('4abutn_c')"
   ]
  },
  {
   "cell_type": "code",
   "execution_count": 51,
   "metadata": {},
   "outputs": [],
   "source": [
    "#model.reactions.PTRCTA"
   ]
  },
  {
   "cell_type": "code",
   "execution_count": 52,
   "metadata": {},
   "outputs": [
    {
     "name": "stdout",
     "output_type": "stream",
     "text": [
      "N-acetylmuramate 6-phosphate\n",
      "acmum6p_c\n",
      "UDP-N-acetylmuramate\n",
      "uamr_c\n",
      "Undecaprenyl-diphospho N-acetylglucosamine-N-acetylmannosaminuronate-N-acetamido-4,6-dideoxy-D-galactose\n",
      "unagamuf_c\n",
      "Poly-?-1,6-N-acetyl-D-glucosamine\n",
      "puacgam_p\n",
      "Undecaprenyl-diphospho-N-acetylglucosamine-N-acetylmannosaminuronate\n",
      "unagamu_c\n",
      "UDP-N-acetylmuramoyl-L-alanyl-D-gamma-glutamyl-meso-2,6-diaminopimelate-D-alanine\n",
      "um4p_c\n",
      "UDP-3-O-(3-hydroxytetradecanoyl)-N-acetylglucosamine\n",
      "u3aga_c\n",
      "UDP-N-acetyl-D-mannosamine\n",
      "uacmam_c\n",
      "UDP-N-acetylmuramoyl-L-alanyl-D-gamma-glutamyl-meso-2,6-diaminopimelate\n",
      "ugmd_c\n",
      "Undecaprenyl-diphospho-N-acetylmuramoyl-(N-acetylglucosamine)-L-ala-D-glu-meso-2,6-diaminopimeloyl-D-ala-D-ala\n",
      "uaagmda_c\n",
      "Poly-?-1,6-N-acetyl-D-glucosamine\n",
      "puacgam_c\n",
      "UDP-N-acetylmuramoyl-L-alanyl-D-glutamate\n",
      "uamag_c\n",
      "Rhamanosyl-N-acetylglucosamyl-undecaprenyl diphosphate\n",
      "ragund_c\n",
      "Undecaprenyl-diphospho-N-acetylmuramoyl-L-alanyl-D-glutamyl-meso-2,6-diaminopimeloyl-D-alanyl-D-alanine\n",
      "uagmda_c\n",
      "Glucosyl-O-acetyl-rhamanosyl-N-acetylglucosamyl-undecaprenyl diphosphate\n",
      "garagund_c\n",
      "UDP-N-acetyl-D-glucosamine\n",
      "uacgam_e\n",
      "UDP-N-acetylmuramoyl-L-alanine\n",
      "uama_c\n",
      "UDP-N-acetylmuramoyl-L-alanyl-D-glutamyl-meso-2,6-diaminopimeloyl-D-alanyl-D-alanine\n",
      "ugmda_c\n",
      "UDP-N-acetyl-D-mannosaminouronate\n",
      "uacmamu_c\n",
      "UDP-N-acetyl-D-glucosamine\n",
      "uacgam_p\n",
      "UDP-N-acetyl-D-galactosamine\n",
      "udpacgal_p\n",
      "UDP-N-acetyl-D-glucosamine\n",
      "uacgam_c\n",
      "UDP-N-acetyl-3-O-(1-carboxyvinyl)-D-glucosamine\n",
      "uaccg_c\n",
      "Undecaprenyl-diphospho N-acetylglucosamine-N-acetylmannosaminuronate-N-acetamido-4,6-dideoxy-D-galactose\n",
      "unagamuf_p\n",
      "Galactofuranosyl-glucosyl-O-acetyl-rhamanosyl-N-acetylglucosamyl-undecaprenyl diphosphate\n",
      "gfgaragund_c\n",
      "Undecaprenyl diphospho N-acetyl-glucosamine\n",
      "unaga_c\n",
      "O-acetyl-rhamanosyl-N-acetylglucosamyl-undecaprenyl diphosphate\n",
      "aragund_c\n",
      "UDP-N-acetyl-D-galactosamine\n",
      "udpacgal_e\n"
     ]
    }
   ],
   "source": [
    "for metabolite in model.metabolites.query('N-acetyl', 'name'):\n",
    "    print(metabolite.name)\n",
    "    print(metabolite.id)"
   ]
  },
  {
   "cell_type": "code",
   "execution_count": 53,
   "metadata": {},
   "outputs": [
    {
     "data": {
      "text/html": [
       "\n",
       "        <table>\n",
       "            <tr>\n",
       "                <td><strong>Metabolite identifier</strong></td><td>ggptrc_c</td>\n",
       "            </tr><tr>\n",
       "                <td><strong>Name</strong></td><td>Gamma-glutamyl-putrescine</td>\n",
       "            </tr><tr>\n",
       "                <td><strong>Memory address</strong></td>\n",
       "                <td>0x07f488ce60908</td>\n",
       "            </tr><tr>\n",
       "                <td><strong>Formula</strong></td><td>C9H20O3N3</td>\n",
       "            </tr><tr>\n",
       "                <td><strong>Compartment</strong></td><td>c</td>\n",
       "            </tr><tr>\n",
       "                <td><strong>In 2 reaction(s)</strong></td><td>\n",
       "                    GGPTRCO, GGPTRCS</td>\n",
       "            </tr>\n",
       "        </table>"
      ],
      "text/plain": [
       "<Metabolite ggptrc_c at 0x7f488ce60908>"
      ]
     },
     "execution_count": 53,
     "metadata": {},
     "output_type": "execute_result"
    }
   ],
   "source": [
    "model.metabolites.ggptrc_c"
   ]
  },
  {
   "cell_type": "code",
   "execution_count": 54,
   "metadata": {},
   "outputs": [
    {
     "data": {
      "text/html": [
       "\n",
       "        <table>\n",
       "            <tr>\n",
       "                <td><strong>Reaction identifier</strong></td><td>PTRCabcpp</td>\n",
       "            </tr><tr>\n",
       "                <td><strong>Name</strong></td><td>Putrescine transport via ABC system (periplasm)</td>\n",
       "            </tr><tr>\n",
       "                <td><strong>Memory address</strong></td>\n",
       "                <td>0x07f488bbddb38</td>\n",
       "            </tr><tr>\n",
       "                <td><strong>Stoichiometry</strong></td>\n",
       "                <td>\n",
       "                    <p style='text-align:right'>atp_c + h2o_c + ptrc_p --> adp_c + h_c + pi_c + ptrc_c</p>\n",
       "                    <p style='text-align:right'>ATP C10H12N5O13P3 + H2O H2O + Putrescine --> ADP C10H12N5O10P2 + H+ + Phosphate + Putrescine</p>\n",
       "                </td>\n",
       "            </tr><tr>\n",
       "                <td><strong>GPR</strong></td><td>( b0854 and b0855 and b0857 and b0856 ) or ( b1440 and b1442 and b1441 and b1443 ) or ( b1125 and...</td>\n",
       "            </tr><tr>\n",
       "                <td><strong>Lower bound</strong></td><td>0.0</td>\n",
       "            </tr><tr>\n",
       "                <td><strong>Upper bound</strong></td><td>1000.0</td>\n",
       "            </tr>\n",
       "        </table>\n",
       "        "
      ],
      "text/plain": [
       "<Reaction PTRCabcpp at 0x7f488bbddb38>"
      ]
     },
     "execution_count": 54,
     "metadata": {},
     "output_type": "execute_result"
    }
   ],
   "source": [
    "model.reactions.PTRCabcpp"
   ]
  },
  {
   "cell_type": "code",
   "execution_count": null,
   "metadata": {},
   "outputs": [],
   "source": []
  },
  {
   "cell_type": "code",
   "execution_count": null,
   "metadata": {},
   "outputs": [],
   "source": []
  },
  {
   "cell_type": "code",
   "execution_count": 55,
   "metadata": {},
   "outputs": [
    {
     "name": "stdout",
     "output_type": "stream",
     "text": [
      "Max. putriscine production [mmol gDW^-1 h^-1]: 10.019104477611934\n",
      "Theoretical max. yield [mmol-put / mmol-glc]: 1.0019104477611935\n"
     ]
    }
   ],
   "source": [
    "medium = model.medium\n",
    "with model:\n",
    "    model.medium = medium\n",
    "    model.reactions.GGPTRCS.bounds = 0,0\n",
    "    model.reactions.PTRCTA.bounds = 0,0\n",
    "    model.reactions.SPMS.bounds = 0,0\n",
    "    model.objective = model.reactions.DM_ptrc_c\n",
    "    put_production = model.optimize().objective_value\n",
    "    print(\"Max. putriscine production [mmol gDW^-1 h^-1]:\", put_production)\n",
    "    print(\"Theoretical max. yield [mmol-put / mmol-glc]:\", put_production / (-1*model.reactions.EX_glc__D_e.flux))"
   ]
  },
  {
   "cell_type": "code",
   "execution_count": null,
   "metadata": {},
   "outputs": [],
   "source": []
  },
  {
   "cell_type": "code",
   "execution_count": null,
   "metadata": {},
   "outputs": [],
   "source": []
  },
  {
   "cell_type": "markdown",
   "metadata": {},
   "source": [
    "# Dynamic FBA"
   ]
  },
  {
   "cell_type": "code",
   "execution_count": null,
   "metadata": {},
   "outputs": [],
   "source": []
  },
  {
   "cell_type": "code",
   "execution_count": null,
   "metadata": {},
   "outputs": [],
   "source": []
  },
  {
   "cell_type": "code",
   "execution_count": null,
   "metadata": {},
   "outputs": [],
   "source": []
  },
  {
   "cell_type": "code",
   "execution_count": null,
   "metadata": {},
   "outputs": [],
   "source": []
  },
  {
   "cell_type": "code",
   "execution_count": null,
   "metadata": {},
   "outputs": [],
   "source": []
  }
 ],
 "metadata": {
  "kernelspec": {
   "display_name": "python3.6",
   "language": "python",
   "name": "python3.6"
  },
  "language_info": {
   "codemirror_mode": {
    "name": "ipython",
    "version": 3
   },
   "file_extension": ".py",
   "mimetype": "text/x-python",
   "name": "python",
   "nbconvert_exporter": "python",
   "pygments_lexer": "ipython3",
   "version": "3.6.12"
  }
 },
 "nbformat": 4,
 "nbformat_minor": 4
}

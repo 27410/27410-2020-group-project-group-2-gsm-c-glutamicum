{
 "cells": [
  {
   "cell_type": "markdown",
   "metadata": {},
   "source": [
    "# Work in C glutamicum"
   ]
  },
  {
   "cell_type": "code",
   "execution_count": 1,
   "metadata": {},
   "outputs": [],
   "source": [
    "import numpy as np\n",
    "from cobra.io import read_sbml_model"
   ]
  },
  {
   "cell_type": "markdown",
   "metadata": {},
   "source": [
    "We load the model of C. glutamicum"
   ]
  },
  {
   "cell_type": "code",
   "execution_count": 2,
   "metadata": {},
   "outputs": [
    {
     "data": {
      "text/html": [
       "\n",
       "        <table>\n",
       "            <tr>\n",
       "                <td><strong>Name</strong></td>\n",
       "                <td>seed_Seed196627_4</td>\n",
       "            </tr><tr>\n",
       "                <td><strong>Memory address</strong></td>\n",
       "                <td>0x07f608a434ac8</td>\n",
       "            </tr><tr>\n",
       "                <td><strong>Number of metabolites</strong></td>\n",
       "                <td>988</td>\n",
       "            </tr><tr>\n",
       "                <td><strong>Number of reactions</strong></td>\n",
       "                <td>1007</td>\n",
       "            </tr><tr>\n",
       "                <td><strong>Number of groups</strong></td>\n",
       "                <td>0</td>\n",
       "            </tr><tr>\n",
       "                <td><strong>Objective expression</strong></td>\n",
       "                <td>1.0*reacD3FA036D - 1.0*reacD3FA036D_reverse_06ea7</td>\n",
       "            </tr><tr>\n",
       "                <td><strong>Compartments</strong></td>\n",
       "                <td>extracellular region, cytoplasm</td>\n",
       "            </tr>\n",
       "          </table>"
      ],
      "text/plain": [
       "<Model seed_Seed196627_4 at 0x7f608a434ac8>"
      ]
     },
     "execution_count": 2,
     "metadata": {},
     "output_type": "execute_result"
    }
   ],
   "source": [
    "model = read_sbml_model('seed_Seed196627_4.COBRA-sbml3.xml')\n",
    "model"
   ]
  },
  {
   "cell_type": "markdown",
   "metadata": {},
   "source": [
    "# Inserting enzyme 2.6.1.13"
   ]
  },
  {
   "cell_type": "markdown",
   "metadata": {},
   "source": [
    "To make C. glutamicum produce putrescine via this new pathway we need to add the reactions of the enzymes 2.6.1.13 and 4.1.1.17"
   ]
  },
  {
   "cell_type": "code",
   "execution_count": 5,
   "metadata": {},
   "outputs": [],
   "source": [
    "from cobra import Reaction, Metabolite"
   ]
  },
  {
   "cell_type": "markdown",
   "metadata": {},
   "source": [
    "### 2.6.1.13"
   ]
  },
  {
   "cell_type": "code",
   "execution_count": 6,
   "metadata": {},
   "outputs": [],
   "source": [
    "new_reaction_1 = Reaction('OAT')  # OAT -> (o)rnithine (a)mino(t)ransferase"
   ]
  },
  {
   "cell_type": "markdown",
   "metadata": {},
   "source": [
    "We need to find the id's of the metabolites that are in this reaction: L-glutamate 5-semialdehyde, L-glutamate, Ornithine and 2-oxoglutarate"
   ]
  },
  {
   "cell_type": "code",
   "execution_count": 7,
   "metadata": {},
   "outputs": [
    {
     "name": "stdout",
     "output_type": "stream",
     "text": [
      "L-glutamate 5-semialdehyde\n",
      "MNXM245@MNXC3\n",
      "N-acetyl-L-glutamate 5-semialdehyde\n",
      "MNXM1062@MNXC3\n"
     ]
    }
   ],
   "source": [
    "for metabolite in model.metabolites.query('L-glutamate 5-semialdehyde', 'name'):\n",
    "    print(metabolite.name)\n",
    "    print(metabolite.id)"
   ]
  },
  {
   "cell_type": "code",
   "execution_count": 8,
   "metadata": {},
   "outputs": [
    {
     "data": {
      "text/html": [
       "\n",
       "        <table>\n",
       "            <tr>\n",
       "                <td><strong>Metabolite identifier</strong></td><td>MNXM245@MNXC3</td>\n",
       "            </tr><tr>\n",
       "                <td><strong>Name</strong></td><td>L-glutamate 5-semialdehyde</td>\n",
       "            </tr><tr>\n",
       "                <td><strong>Memory address</strong></td>\n",
       "                <td>0x07f608a2ed8d0</td>\n",
       "            </tr><tr>\n",
       "                <td><strong>Formula</strong></td><td>C5H9NO3</td>\n",
       "            </tr><tr>\n",
       "                <td><strong>Compartment</strong></td><td>MNXC3</td>\n",
       "            </tr><tr>\n",
       "                <td><strong>In 3 reaction(s)</strong></td><td>\n",
       "                    mnxr99896c3, mnxr153703c3, mnxr103352c3</td>\n",
       "            </tr>\n",
       "        </table>"
      ],
      "text/plain": [
       "<Metabolite MNXM245@MNXC3 at 0x7f608a2ed8d0>"
      ]
     },
     "execution_count": 8,
     "metadata": {},
     "output_type": "execute_result"
    }
   ],
   "source": [
    "model.metabolites.get_by_id('MNXM245@MNXC3') # L-glutamate 5-semialdehyde"
   ]
  },
  {
   "cell_type": "code",
   "execution_count": 12,
   "metadata": {},
   "outputs": [
    {
     "name": "stdout",
     "output_type": "stream",
     "text": [
      "L-glutamate\n",
      "MNXM741173@MNXC3\n",
      "L-glutamate\n",
      "MNXM741173@MNXC2\n",
      "N-acetyl-L-glutamate\n",
      "MNXM730@MNXC3\n",
      "L-glutamate 5-semialdehyde\n",
      "MNXM245@MNXC3\n",
      "Tetrahydropteroyltri-L-glutamate\n",
      "MNXM733072@MNXC3\n",
      "5-Methyltetrahydropteroyltri-L-glutamate\n",
      "MNXM733158@MNXC3\n",
      "10-Formyl-THF-L-glutamate\n",
      "MNXM33047@MNXC3\n",
      "tetrahydropteroyltri-L-glutamate\n",
      "MNXM733068@MNXC3\n",
      "N-acetyl-L-glutamate 5-semialdehyde\n",
      "MNXM1062@MNXC3\n"
     ]
    }
   ],
   "source": [
    "for metabolite in model.metabolites.query('L-glutamate', 'name'):\n",
    "    print(metabolite.name)\n",
    "    print(metabolite.id)"
   ]
  },
  {
   "cell_type": "code",
   "execution_count": 13,
   "metadata": {},
   "outputs": [
    {
     "data": {
      "text/html": [
       "\n",
       "        <table>\n",
       "            <tr>\n",
       "                <td><strong>Metabolite identifier</strong></td><td>MNXM741173@MNXC3</td>\n",
       "            </tr><tr>\n",
       "                <td><strong>Name</strong></td><td>L-glutamate</td>\n",
       "            </tr><tr>\n",
       "                <td><strong>Memory address</strong></td>\n",
       "                <td>0x07f1a0f851550</td>\n",
       "            </tr><tr>\n",
       "                <td><strong>Formula</strong></td><td>C5H8NO4</td>\n",
       "            </tr><tr>\n",
       "                <td><strong>Compartment</strong></td><td>MNXC3</td>\n",
       "            </tr><tr>\n",
       "                <td><strong>In 43 reaction(s)</strong></td><td>\n",
       "                    mnxr100300c2c3, mnxr137140c3, mnxr126234c3, mnxr100384c3, mnxr100277c3, mnxr103352c3, mnxr144502c3, mnxr95388c3, mnxr96228c3, mnxr105362c3, mnxr102221c3, mnxr100291c3, mnxr137143c3, mnxr153021c3, m...</td>\n",
       "            </tr>\n",
       "        </table>"
      ],
      "text/plain": [
       "<Metabolite MNXM741173@MNXC3 at 0x7f1a0f851550>"
      ]
     },
     "execution_count": 13,
     "metadata": {},
     "output_type": "execute_result"
    }
   ],
   "source": [
    "model.metabolites.get_by_id('MNXM741173@MNXC3') # L-glutamate"
   ]
  },
  {
   "cell_type": "code",
   "execution_count": 14,
   "metadata": {},
   "outputs": [
    {
     "name": "stdout",
     "output_type": "stream",
     "text": [
      "L-ornithine\n",
      "MNXM741175@MNXC3\n",
      "N(2)-acetyl-L-ornithine\n",
      "MNXM817@MNXC3\n"
     ]
    }
   ],
   "source": [
    "for metabolite in model.metabolites.query('ornithine', 'name'):\n",
    "    print(metabolite.name)\n",
    "    print(metabolite.id)"
   ]
  },
  {
   "cell_type": "code",
   "execution_count": 15,
   "metadata": {},
   "outputs": [
    {
     "data": {
      "text/html": [
       "\n",
       "        <table>\n",
       "            <tr>\n",
       "                <td><strong>Metabolite identifier</strong></td><td>MNXM741175@MNXC3</td>\n",
       "            </tr><tr>\n",
       "                <td><strong>Name</strong></td><td>L-ornithine</td>\n",
       "            </tr><tr>\n",
       "                <td><strong>Memory address</strong></td>\n",
       "                <td>0x07f1a0f73e6d8</td>\n",
       "            </tr><tr>\n",
       "                <td><strong>Formula</strong></td><td>C5H13N2O2</td>\n",
       "            </tr><tr>\n",
       "                <td><strong>Compartment</strong></td><td>MNXC3</td>\n",
       "            </tr><tr>\n",
       "                <td><strong>In 3 reaction(s)</strong></td><td>\n",
       "                    mnxr102221c3, mnxr102218c3, mnxr102137c3</td>\n",
       "            </tr>\n",
       "        </table>"
      ],
      "text/plain": [
       "<Metabolite MNXM741175@MNXC3 at 0x7f1a0f73e6d8>"
      ]
     },
     "execution_count": 15,
     "metadata": {},
     "output_type": "execute_result"
    }
   ],
   "source": [
    "model.metabolites.get_by_id('MNXM741175@MNXC3') # L-ornithine"
   ]
  },
  {
   "cell_type": "code",
   "execution_count": 16,
   "metadata": {},
   "outputs": [
    {
     "name": "stdout",
     "output_type": "stream",
     "text": [
      "2-oxoglutarate\n",
      "MNXM20@MNXC3\n"
     ]
    }
   ],
   "source": [
    "for metabolite in model.metabolites.query('oxoglutarate', 'name'):\n",
    "    print(metabolite.name)\n",
    "    print(metabolite.id)"
   ]
  },
  {
   "cell_type": "code",
   "execution_count": 17,
   "metadata": {},
   "outputs": [
    {
     "data": {
      "text/html": [
       "\n",
       "        <table>\n",
       "            <tr>\n",
       "                <td><strong>Metabolite identifier</strong></td><td>MNXM20@MNXC3</td>\n",
       "            </tr><tr>\n",
       "                <td><strong>Name</strong></td><td>2-oxoglutarate</td>\n",
       "            </tr><tr>\n",
       "                <td><strong>Memory address</strong></td>\n",
       "                <td>0x07f1a0f7e6128</td>\n",
       "            </tr><tr>\n",
       "                <td><strong>Formula</strong></td><td>C5H4O5</td>\n",
       "            </tr><tr>\n",
       "                <td><strong>Compartment</strong></td><td>MNXC3</td>\n",
       "            </tr><tr>\n",
       "                <td><strong>In 16 reaction(s)</strong></td><td>\n",
       "                    mnxr96230c3, mnxr126234c3, mnxr146406c3, mnxr95388c3, mnxr106443c3, mnxr96228c3, mnxr95852c3, mnxr100291c3, mnxr105310c3, mnxr96229c3, mnxr100086c3, mnxr95186c3, mnxr104301c3, mnxr105000c3, mnxr103...</td>\n",
       "            </tr>\n",
       "        </table>"
      ],
      "text/plain": [
       "<Metabolite MNXM20@MNXC3 at 0x7f1a0f7e6128>"
      ]
     },
     "execution_count": 17,
     "metadata": {},
     "output_type": "execute_result"
    }
   ],
   "source": [
    "model.metabolites.get_by_id('MNXM20@MNXC3') # 2-oxoglutarate"
   ]
  },
  {
   "cell_type": "code",
   "execution_count": 18,
   "metadata": {},
   "outputs": [],
   "source": [
    "new_reaction_1.add_metabolites({model.metabolites.get_by_id('MNXM245@MNXC3'): -1, # L-glutamate 5-semialdehyde\n",
    "                              model.metabolites.get_by_id('MNXM741173@MNXC3'): -1, # L-glutamate \n",
    "                              model.metabolites.get_by_id('MNXM741175@MNXC3'): 1, # L-ornithine\n",
    "                              model.metabolites.get_by_id('MNXM20@MNXC3'): 1 # 2-oxoglutarate\n",
    "                             })"
   ]
  },
  {
   "cell_type": "code",
   "execution_count": 19,
   "metadata": {},
   "outputs": [
    {
     "name": "stdout",
     "output_type": "stream",
     "text": [
      "MNXM245@MNXC3 + MNXM741173@MNXC3 --> MNXM20@MNXC3 + MNXM741175@MNXC3\n"
     ]
    }
   ],
   "source": [
    "print(new_reaction_1.build_reaction_string())"
   ]
  },
  {
   "cell_type": "code",
   "execution_count": 20,
   "metadata": {},
   "outputs": [],
   "source": [
    "model.add_reactions([new_reaction_1])"
   ]
  },
  {
   "cell_type": "code",
   "execution_count": 21,
   "metadata": {},
   "outputs": [
    {
     "data": {
      "text/html": [
       "\n",
       "        <table>\n",
       "            <tr>\n",
       "                <td><strong>Reaction identifier</strong></td><td>OAT</td>\n",
       "            </tr><tr>\n",
       "                <td><strong>Name</strong></td><td></td>\n",
       "            </tr><tr>\n",
       "                <td><strong>Memory address</strong></td>\n",
       "                <td>0x07f1a0f0a2dd8</td>\n",
       "            </tr><tr>\n",
       "                <td><strong>Stoichiometry</strong></td>\n",
       "                <td>\n",
       "                    <p style='text-align:right'>MNXM245@MNXC3 + MNXM741173@MNXC3 --> MNXM20@MNXC3 + MNXM741175@MNXC3</p>\n",
       "                    <p style='text-align:right'>L-glutamate 5-semialdehyde + L-glutamate --> 2-oxoglutarate + L-ornithine</p>\n",
       "                </td>\n",
       "            </tr><tr>\n",
       "                <td><strong>GPR</strong></td><td></td>\n",
       "            </tr><tr>\n",
       "                <td><strong>Lower bound</strong></td><td>0.0</td>\n",
       "            </tr><tr>\n",
       "                <td><strong>Upper bound</strong></td><td>1000.0</td>\n",
       "            </tr>\n",
       "        </table>\n",
       "        "
      ],
      "text/plain": [
       "<Reaction OAT at 0x7f1a0f0a2dd8>"
      ]
     },
     "execution_count": 21,
     "metadata": {},
     "output_type": "execute_result"
    }
   ],
   "source": [
    "model.reactions.OAT"
   ]
  },
  {
   "cell_type": "code",
   "execution_count": 22,
   "metadata": {},
   "outputs": [
    {
     "name": "stdout",
     "output_type": "stream",
     "text": [
      "1000.0\n"
     ]
    }
   ],
   "source": [
    "with model:\n",
    "    model.objective = model.reactions.OAT\n",
    "    print(model.optimize().objective_value)  # We produce L-ornithine"
   ]
  },
  {
   "cell_type": "markdown",
   "metadata": {},
   "source": [
    "We add bounds"
   ]
  },
  {
   "cell_type": "code",
   "execution_count": 23,
   "metadata": {},
   "outputs": [
    {
     "data": {
      "text/html": [
       "\n",
       "        <table>\n",
       "            <tr>\n",
       "                <td><strong>Reaction identifier</strong></td><td>DM_MNXM741175@MNXC3</td>\n",
       "            </tr><tr>\n",
       "                <td><strong>Name</strong></td><td>L-ornithine demand</td>\n",
       "            </tr><tr>\n",
       "                <td><strong>Memory address</strong></td>\n",
       "                <td>0x07f1a0f0e49e8</td>\n",
       "            </tr><tr>\n",
       "                <td><strong>Stoichiometry</strong></td>\n",
       "                <td>\n",
       "                    <p style='text-align:right'>MNXM741175@MNXC3 --> </p>\n",
       "                    <p style='text-align:right'>L-ornithine --> </p>\n",
       "                </td>\n",
       "            </tr><tr>\n",
       "                <td><strong>GPR</strong></td><td></td>\n",
       "            </tr><tr>\n",
       "                <td><strong>Lower bound</strong></td><td>0</td>\n",
       "            </tr><tr>\n",
       "                <td><strong>Upper bound</strong></td><td>1000.0</td>\n",
       "            </tr>\n",
       "        </table>\n",
       "        "
      ],
      "text/plain": [
       "<Reaction DM_MNXM741175@MNXC3 at 0x7f1a0f0e49e8>"
      ]
     },
     "execution_count": 23,
     "metadata": {},
     "output_type": "execute_result"
    }
   ],
   "source": [
    "model.add_boundary(model.metabolites.get_by_id('MNXM741175@MNXC3'), type='demand') # Demand for L-ornithine"
   ]
  },
  {
   "cell_type": "markdown",
   "metadata": {},
   "source": [
    "## 4.1.1.17"
   ]
  },
  {
   "cell_type": "code",
   "execution_count": 24,
   "metadata": {},
   "outputs": [],
   "source": [
    "new_reaction_2 = Reaction('ODC')  # ODC -> (o)rnithine (d)e(c)arboxylase"
   ]
  },
  {
   "cell_type": "code",
   "execution_count": 25,
   "metadata": {},
   "outputs": [
    {
     "name": "stdout",
     "output_type": "stream",
     "text": [
      "putrescine\n",
      "MNXM118@MNXC3\n"
     ]
    }
   ],
   "source": [
    "for metabolite in model.metabolites.query('putrescine', 'name'):\n",
    "    print(metabolite.name)\n",
    "    print(metabolite.id)"
   ]
  },
  {
   "cell_type": "code",
   "execution_count": 26,
   "metadata": {},
   "outputs": [
    {
     "data": {
      "text/html": [
       "\n",
       "        <table>\n",
       "            <tr>\n",
       "                <td><strong>Metabolite identifier</strong></td><td>MNXM118@MNXC3</td>\n",
       "            </tr><tr>\n",
       "                <td><strong>Name</strong></td><td>putrescine</td>\n",
       "            </tr><tr>\n",
       "                <td><strong>Memory address</strong></td>\n",
       "                <td>0x07f1a0f4e8668</td>\n",
       "            </tr><tr>\n",
       "                <td><strong>Formula</strong></td><td>C4H14N2</td>\n",
       "            </tr><tr>\n",
       "                <td><strong>Compartment</strong></td><td>MNXC3</td>\n",
       "            </tr><tr>\n",
       "                <td><strong>In 1 reaction(s)</strong></td><td>\n",
       "                    mnxr95860c3</td>\n",
       "            </tr>\n",
       "        </table>"
      ],
      "text/plain": [
       "<Metabolite MNXM118@MNXC3 at 0x7f1a0f4e8668>"
      ]
     },
     "execution_count": 26,
     "metadata": {},
     "output_type": "execute_result"
    }
   ],
   "source": [
    "model.metabolites.get_by_id('MNXM118@MNXC3') # Putrescine"
   ]
  },
  {
   "cell_type": "code",
   "execution_count": 27,
   "metadata": {},
   "outputs": [
    {
     "name": "stdout",
     "output_type": "stream",
     "text": [
      "CO2\n",
      "MNXM13@MNXC3\n",
      "CO2\n",
      "MNXM13@MNXC2\n"
     ]
    }
   ],
   "source": [
    "for metabolite in model.metabolites.query('CO2', 'name'):\n",
    "    print(metabolite.name)\n",
    "    print(metabolite.id)"
   ]
  },
  {
   "cell_type": "code",
   "execution_count": 28,
   "metadata": {},
   "outputs": [
    {
     "data": {
      "text/html": [
       "\n",
       "        <table>\n",
       "            <tr>\n",
       "                <td><strong>Metabolite identifier</strong></td><td>MNXM13@MNXC3</td>\n",
       "            </tr><tr>\n",
       "                <td><strong>Name</strong></td><td>CO2</td>\n",
       "            </tr><tr>\n",
       "                <td><strong>Memory address</strong></td>\n",
       "                <td>0x07f1a0f7981d0</td>\n",
       "            </tr><tr>\n",
       "                <td><strong>Formula</strong></td><td>CO2</td>\n",
       "            </tr><tr>\n",
       "                <td><strong>Compartment</strong></td><td>MNXC3</td>\n",
       "            </tr><tr>\n",
       "                <td><strong>In 63 reaction(s)</strong></td><td>\n",
       "                    mnxr134864c3, mnxr101443c3, mnxr146406c3, mnxr101662c3, mnxr96481c3, mnxr100389c3, mnxr105362c3, mnxr95851c3, mnxr134860c3, mnxr101665c3, mnxr145677c3, mnxr97180c3, mnxr134600c3, mnxr106658c3, mnxr...</td>\n",
       "            </tr>\n",
       "        </table>"
      ],
      "text/plain": [
       "<Metabolite MNXM13@MNXC3 at 0x7f1a0f7981d0>"
      ]
     },
     "execution_count": 28,
     "metadata": {},
     "output_type": "execute_result"
    }
   ],
   "source": [
    "model.metabolites.get_by_id('MNXM13@MNXC3') # CO2"
   ]
  },
  {
   "cell_type": "code",
   "execution_count": 29,
   "metadata": {},
   "outputs": [],
   "source": [
    "new_reaction_2.add_metabolites({model.metabolites.get_by_id('MNXM741175@MNXC3'): -1, # L-ornithine\n",
    "                              model.metabolites.get_by_id('MNXM13@MNXC3'): 1, # CO2\n",
    "                              model.metabolites.get_by_id('MNXM118@MNXC3'): 1 # # Putrescine\n",
    "                             })"
   ]
  },
  {
   "cell_type": "code",
   "execution_count": 30,
   "metadata": {},
   "outputs": [
    {
     "name": "stdout",
     "output_type": "stream",
     "text": [
      "MNXM741175@MNXC3 --> MNXM118@MNXC3 + MNXM13@MNXC3\n"
     ]
    }
   ],
   "source": [
    "print(new_reaction_2.build_reaction_string())"
   ]
  },
  {
   "cell_type": "code",
   "execution_count": 31,
   "metadata": {},
   "outputs": [],
   "source": [
    "model.add_reactions([new_reaction_2])"
   ]
  },
  {
   "cell_type": "code",
   "execution_count": 32,
   "metadata": {},
   "outputs": [
    {
     "data": {
      "text/html": [
       "\n",
       "        <table>\n",
       "            <tr>\n",
       "                <td><strong>Reaction identifier</strong></td><td>ODC</td>\n",
       "            </tr><tr>\n",
       "                <td><strong>Name</strong></td><td></td>\n",
       "            </tr><tr>\n",
       "                <td><strong>Memory address</strong></td>\n",
       "                <td>0x07f1a0f0e4048</td>\n",
       "            </tr><tr>\n",
       "                <td><strong>Stoichiometry</strong></td>\n",
       "                <td>\n",
       "                    <p style='text-align:right'>MNXM741175@MNXC3 --> MNXM118@MNXC3 + MNXM13@MNXC3</p>\n",
       "                    <p style='text-align:right'>L-ornithine --> putrescine + CO2</p>\n",
       "                </td>\n",
       "            </tr><tr>\n",
       "                <td><strong>GPR</strong></td><td></td>\n",
       "            </tr><tr>\n",
       "                <td><strong>Lower bound</strong></td><td>0.0</td>\n",
       "            </tr><tr>\n",
       "                <td><strong>Upper bound</strong></td><td>1000.0</td>\n",
       "            </tr>\n",
       "        </table>\n",
       "        "
      ],
      "text/plain": [
       "<Reaction ODC at 0x7f1a0f0e4048>"
      ]
     },
     "execution_count": 32,
     "metadata": {},
     "output_type": "execute_result"
    }
   ],
   "source": [
    "model.reactions.ODC"
   ]
  },
  {
   "cell_type": "code",
   "execution_count": 33,
   "metadata": {},
   "outputs": [
    {
     "name": "stdout",
     "output_type": "stream",
     "text": [
      "1000.0\n"
     ]
    }
   ],
   "source": [
    "with model:\n",
    "    model.objective = model.reactions.OAT\n",
    "    print(\"Maximum Putrescine yield: \", model.optimize().objective_value) # We produce putrescine"
   ]
  },
  {
   "cell_type": "code",
   "execution_count": 34,
   "metadata": {},
   "outputs": [
    {
     "data": {
      "text/html": [
       "\n",
       "        <table>\n",
       "            <tr>\n",
       "                <td><strong>Reaction identifier</strong></td><td>DM_MNXM118@MNXC3</td>\n",
       "            </tr><tr>\n",
       "                <td><strong>Name</strong></td><td>putrescine demand</td>\n",
       "            </tr><tr>\n",
       "                <td><strong>Memory address</strong></td>\n",
       "                <td>0x07f1a0f0e43c8</td>\n",
       "            </tr><tr>\n",
       "                <td><strong>Stoichiometry</strong></td>\n",
       "                <td>\n",
       "                    <p style='text-align:right'>MNXM118@MNXC3 --> </p>\n",
       "                    <p style='text-align:right'>putrescine --> </p>\n",
       "                </td>\n",
       "            </tr><tr>\n",
       "                <td><strong>GPR</strong></td><td></td>\n",
       "            </tr><tr>\n",
       "                <td><strong>Lower bound</strong></td><td>0</td>\n",
       "            </tr><tr>\n",
       "                <td><strong>Upper bound</strong></td><td>1000.0</td>\n",
       "            </tr>\n",
       "        </table>\n",
       "        "
      ],
      "text/plain": [
       "<Reaction DM_MNXM118@MNXC3 at 0x7f1a0f0e43c8>"
      ]
     },
     "execution_count": 34,
     "metadata": {},
     "output_type": "execute_result"
    }
   ],
   "source": [
    "model.add_boundary(model.metabolites.get_by_id('MNXM118@MNXC3'), type='demand') # Demand for putrescine"
   ]
  },
  {
   "cell_type": "markdown",
   "metadata": {},
   "source": [
    "The production of putrescine seems to just follow the upper bound. To investigate this further we looked into the fluxes in the original unmodified model"
   ]
  },
  {
   "cell_type": "markdown",
   "metadata": {},
   "source": [
    "# Model fluxes check"
   ]
  },
  {
   "cell_type": "code",
   "execution_count": 35,
   "metadata": {},
   "outputs": [],
   "source": [
    "modelcheck = read_sbml_model('seed_Seed196627_4.COBRA-sbml3.xml')\n"
   ]
  },
  {
   "cell_type": "markdown",
   "metadata": {},
   "source": [
    "The model is checked for fluxes"
   ]
  },
  {
   "cell_type": "code",
   "execution_count": null,
   "metadata": {},
   "outputs": [],
   "source": [
    "solution = modelcheck.optimize()\n",
    "solution.fluxes"
   ]
  },
  {
   "cell_type": "markdown",
   "metadata": {},
   "source": [
    "The fluxes look to be zero. We want to check if there are any fluxes that are not zero"
   ]
  },
  {
   "cell_type": "code",
   "execution_count": null,
   "metadata": {},
   "outputs": [],
   "source": [
    "solution.fluxes[solution.fluxes != 0]"
   ]
  },
  {
   "cell_type": "code",
   "execution_count": null,
   "metadata": {},
   "outputs": [],
   "source": [
    "All the fluxes are equal to zero. This makes the model very difficult to work with."
   ]
  },
  {
   "cell_type": "code",
   "execution_count": 40,
   "metadata": {},
   "outputs": [
    {
     "data": {
      "text/html": [
       "<div>\n",
       "<style scoped>\n",
       "    .dataframe tbody tr th:only-of-type {\n",
       "        vertical-align: middle;\n",
       "    }\n",
       "\n",
       "    .dataframe tbody tr th {\n",
       "        vertical-align: top;\n",
       "    }\n",
       "\n",
       "    .dataframe thead tr th {\n",
       "        text-align: left;\n",
       "    }\n",
       "</style>\n",
       "<table border=\"1\" class=\"dataframe\">\n",
       "  <thead>\n",
       "    <tr>\n",
       "      <th></th>\n",
       "      <th colspan=\"2\" halign=\"left\">IN_FLUXES</th>\n",
       "      <th colspan=\"2\" halign=\"left\">OUT_FLUXES</th>\n",
       "      <th colspan=\"2\" halign=\"left\">OBJECTIVES</th>\n",
       "    </tr>\n",
       "    <tr>\n",
       "      <th></th>\n",
       "      <th>ID</th>\n",
       "      <th>FLUX</th>\n",
       "      <th>ID</th>\n",
       "      <th>FLUX</th>\n",
       "      <th>ID</th>\n",
       "      <th>FLUX</th>\n",
       "    </tr>\n",
       "  </thead>\n",
       "  <tbody>\n",
       "    <tr>\n",
       "      <th>0</th>\n",
       "      <td>MNXM741173@MNXC2</td>\n",
       "      <td>1000.000000</td>\n",
       "      <td>MNXM114@MNXC2</td>\n",
       "      <td>1000.000000</td>\n",
       "      <td>reacD3FA036D</td>\n",
       "      <td>0.0</td>\n",
       "    </tr>\n",
       "    <tr>\n",
       "      <th>1</th>\n",
       "      <td>MNXM66@MNXC2</td>\n",
       "      <td>285.714286</td>\n",
       "      <td>MNXM13@MNXC2</td>\n",
       "      <td>857.142857</td>\n",
       "      <td>NaN</td>\n",
       "      <td>NaN</td>\n",
       "    </tr>\n",
       "    <tr>\n",
       "      <th>2</th>\n",
       "      <td>NaN</td>\n",
       "      <td>NaN</td>\n",
       "      <td>WATER@MNXC2</td>\n",
       "      <td>857.142857</td>\n",
       "      <td>NaN</td>\n",
       "      <td>NaN</td>\n",
       "    </tr>\n",
       "    <tr>\n",
       "      <th>3</th>\n",
       "      <td>NaN</td>\n",
       "      <td>NaN</td>\n",
       "      <td>MNXM9@MNXC2</td>\n",
       "      <td>285.714286</td>\n",
       "      <td>NaN</td>\n",
       "      <td>NaN</td>\n",
       "    </tr>\n",
       "  </tbody>\n",
       "</table>\n",
       "</div>"
      ],
      "text/plain": [
       "<cobra.core.summary.model_summary.ModelSummary at 0x7f1a0f0e4240>"
      ]
     },
     "execution_count": 40,
     "metadata": {},
     "output_type": "execute_result"
    }
   ],
   "source": [
    "# We look up the model summary. This shows that there are no fluxes\n",
    "model.summary()"
   ]
  },
  {
   "cell_type": "markdown",
   "metadata": {},
   "source": [
    "As this model seems to be incomplete, we will try and insert the corresponding pathway in another production host, E. coli. "
   ]
  }
 ],
 "metadata": {
  "kernelspec": {
   "display_name": "python3.6",
   "language": "python",
   "name": "python3.6"
  },
  "language_info": {
   "codemirror_mode": {
    "name": "ipython",
    "version": 3
   },
   "file_extension": ".py",
   "mimetype": "text/x-python",
   "name": "python",
   "nbconvert_exporter": "python",
   "pygments_lexer": "ipython3",
   "version": "3.6.12"
  }
 },
 "nbformat": 4,
 "nbformat_minor": 4
}

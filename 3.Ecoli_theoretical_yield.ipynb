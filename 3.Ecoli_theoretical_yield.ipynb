{
 "cells": [
  {
   "cell_type": "code",
   "execution_count": 1,
   "metadata": {},
   "outputs": [
    {
     "name": "stdout",
     "output_type": "stream",
     "text": [
      "Putrescine\n",
      "ptrc_p\n",
      "Putrescine\n",
      "ptrc_c\n",
      "Putrescine\n",
      "ptrc_e\n",
      "9.564770642201834\n",
      "N-Acetyl-L-glutamate 5-semialdehyde\n",
      "acg5sa_c\n",
      "N2-Succinyl-L-glutamate 5-semialdehyde\n",
      "sucgsa_c\n",
      "L-Glutamate 5-semialdehyde\n",
      "glu5sa_c\n",
      "Ornithine\n",
      "orn_e\n",
      "Ornithine\n",
      "orn_p\n",
      "Ornithine\n",
      "orn_c\n",
      "2-Oxoglutarate\n",
      "akg_e\n",
      "2-Oxoglutarate\n",
      "akg_c\n",
      "2-Oxoglutarate\n",
      "akg_p\n",
      "L-Glutamate 1-semialdehyde\n",
      "glu1sa_c\n",
      "L-Glutamate\n",
      "glu__L_c\n",
      "L-Glutamate 5-semialdehyde\n",
      "glu5sa_c\n",
      "L-Glutamate\n",
      "glu__L_e\n",
      "L-Glutamate\n",
      "glu__L_p\n",
      "L-Glutamate 5-phosphate\n",
      "glu5p_c\n",
      "glu5sa_c + glu__L_c --> akg_c + orn_c\n",
      "53.02333333333343\n",
      "45.78742857142842\n",
      "9.929142857142859\n",
      "L-Arginine\n",
      "arg__L_c\n",
      "L-Arginine\n",
      "arg__L_e\n",
      "L-Arginine\n",
      "arg__L_p\n",
      "Urea CH4N2O\n",
      "urea_c\n",
      "Urea CH4N2O\n",
      "urea_p\n",
      "Urea CH4N2O\n",
      "urea_e\n",
      "H2O H2O\n",
      "h2o_p\n",
      "H2O H2O\n",
      "h2o_c\n",
      "H2O H2O\n",
      "h2o_e\n",
      "arg__L_c + h2o_c --> orn_c + urea_c\n",
      "9.929142857142859\n"
     ]
    }
   ],
   "source": [
    "%run 2.Ecoli_model.ipynb"
   ]
  },
  {
   "cell_type": "markdown",
   "metadata": {},
   "source": [
    "# Theoretical yield"
   ]
  },
  {
   "cell_type": "markdown",
   "metadata": {},
   "source": [
    "We want to add a reaction that excretes putrescine"
   ]
  },
  {
   "cell_type": "code",
   "execution_count": 2,
   "metadata": {},
   "outputs": [
    {
     "data": {
      "text/html": [
       "\n",
       "        <table>\n",
       "            <tr>\n",
       "                <td><strong>Reaction identifier</strong></td><td>DM_ptrc_c</td>\n",
       "            </tr><tr>\n",
       "                <td><strong>Name</strong></td><td>Putrescine demand</td>\n",
       "            </tr><tr>\n",
       "                <td><strong>Memory address</strong></td>\n",
       "                <td>0x07f55a85a98d0</td>\n",
       "            </tr><tr>\n",
       "                <td><strong>Stoichiometry</strong></td>\n",
       "                <td>\n",
       "                    <p style='text-align:right'>ptrc_c --> </p>\n",
       "                    <p style='text-align:right'>Putrescine --> </p>\n",
       "                </td>\n",
       "            </tr><tr>\n",
       "                <td><strong>GPR</strong></td><td></td>\n",
       "            </tr><tr>\n",
       "                <td><strong>Lower bound</strong></td><td>0</td>\n",
       "            </tr><tr>\n",
       "                <td><strong>Upper bound</strong></td><td>1000.0</td>\n",
       "            </tr>\n",
       "        </table>\n",
       "        "
      ],
      "text/plain": [
       "<Reaction DM_ptrc_c at 0x7f55a85a98d0>"
      ]
     },
     "execution_count": 2,
     "metadata": {},
     "output_type": "execute_result"
    }
   ],
   "source": [
    "model.add_boundary(model.metabolites.ptrc_c, type='demand')"
   ]
  },
  {
   "cell_type": "markdown",
   "metadata": {},
   "source": [
    "We want to look at the medium composition"
   ]
  },
  {
   "cell_type": "code",
   "execution_count": 3,
   "metadata": {},
   "outputs": [
    {
     "data": {
      "text/plain": [
       "{'EX_pi_e': 1000.0,\n",
       " 'EX_co2_e': 1000.0,\n",
       " 'EX_fe3_e': 1000.0,\n",
       " 'EX_h_e': 1000.0,\n",
       " 'EX_mn2_e': 1000.0,\n",
       " 'EX_fe2_e': 1000.0,\n",
       " 'EX_glc__D_e': 10.0,\n",
       " 'EX_zn2_e': 1000.0,\n",
       " 'EX_mg2_e': 1000.0,\n",
       " 'EX_ca2_e': 1000.0,\n",
       " 'EX_ni2_e': 1000.0,\n",
       " 'EX_cu2_e': 1000.0,\n",
       " 'EX_sel_e': 1000.0,\n",
       " 'EX_cobalt2_e': 1000.0,\n",
       " 'EX_h2o_e': 1000.0,\n",
       " 'EX_mobd_e': 1000.0,\n",
       " 'EX_so4_e': 1000.0,\n",
       " 'EX_nh4_e': 1000.0,\n",
       " 'EX_k_e': 1000.0,\n",
       " 'EX_na1_e': 1000.0,\n",
       " 'EX_cl_e': 1000.0,\n",
       " 'EX_o2_e': 1000.0,\n",
       " 'EX_tungs_e': 1000.0,\n",
       " 'EX_slnt_e': 1000.0}"
      ]
     },
     "execution_count": 3,
     "metadata": {},
     "output_type": "execute_result"
    }
   ],
   "source": [
    "model.medium"
   ]
  },
  {
   "cell_type": "markdown",
   "metadata": {},
   "source": [
    "We find the maximal theoretical yield of putrescine both before and after adding our reaction OAT. "
   ]
  },
  {
   "cell_type": "code",
   "execution_count": 4,
   "metadata": {},
   "outputs": [
    {
     "name": "stdout",
     "output_type": "stream",
     "text": [
      "Max. putriscine production [mmol gDW^-1 h^-1]: 9.56477064220186\n",
      "Theoretical max. yield [mmol-put / mmol-glc]: 0.9564770642201861\n"
     ]
    }
   ],
   "source": [
    "medium = model.medium\n",
    "with model:\n",
    "    model.reactions.OAT.bounds = 0,0\n",
    "    model.medium = medium\n",
    "    model.objective = model.reactions.EX_ptrc_e\n",
    "    put_production = model.optimize().objective_value\n",
    "    print(\"Max. putriscine production [mmol gDW^-1 h^-1]:\", put_production)\n",
    "    print(\"Theoretical max. yield [mmol-put / mmol-glc]:\", put_production / (-1*model.reactions.EX_glc__D_e.flux))"
   ]
  },
  {
   "cell_type": "code",
   "execution_count": 9,
   "metadata": {},
   "outputs": [
    {
     "name": "stdout",
     "output_type": "stream",
     "text": [
      "Max. putriscine production [mmol gDW^-1 h^-1]: 9.929142857142857\n",
      "Theoretical max. yield [mmol-put / mmol-glc]: 0.9929142857142856\n"
     ]
    }
   ],
   "source": [
    "medium = model.medium\n",
    "with model:\n",
    "    model.medium = medium\n",
    "    model.objective = model.reactions.EX_ptrc_e\n",
    "    put_production = model.optimize().objective_value\n",
    "    print(\"Max. putriscine production [mmol gDW^-1 h^-1]:\", put_production)\n",
    "    print(\"Theoretical max. yield [mmol-put / mmol-glc]:\", put_production / (-1*model.reactions.EX_glc__D_e.flux))"
   ]
  },
  {
   "cell_type": "markdown",
   "metadata": {},
   "source": [
    "We see an increase in theoretical yield."
   ]
  }
 ],
 "metadata": {
  "kernelspec": {
   "display_name": "python3.6",
   "language": "python",
   "name": "python3.6"
  },
  "language_info": {
   "codemirror_mode": {
    "name": "ipython",
    "version": 3
   },
   "file_extension": ".py",
   "mimetype": "text/x-python",
   "name": "python",
   "nbconvert_exporter": "python",
   "pygments_lexer": "ipython3",
   "version": "3.6.12"
  }
 },
 "nbformat": 4,
 "nbformat_minor": 4
}

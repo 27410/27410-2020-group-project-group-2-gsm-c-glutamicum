{
 "cells": [
  {
   "cell_type": "markdown",
   "metadata": {},
   "source": [
    "# GSM C. glutamicum"
   ]
  },
  {
   "cell_type": "markdown",
   "metadata": {},
   "source": [
    "## 1. Introduction"
   ]
  },
  {
   "cell_type": "markdown",
   "metadata": {},
   "source": [
    "### 1.1 Literature review of the compound (<500 words)"
   ]
  },
  {
   "cell_type": "markdown",
   "metadata": {},
   "source": [
    "Putrescine (1,4-diaminobutane) is a four-carbon compound that belongs to the chemical class of diamines. The compound is formed in small amounts in living and growing cells due to the breakdown of amino acids. Putrescine is together with related compounds such as spermine and spermidine a key molecule in cellular metabolism and regulation of polyamine synthesis. It is however also putrescine that is responsible for the foul odor of dead and decaying tissue.\n",
    "\n",
    "Putrescine is as a chemical, an important platform with a broad range of applications in the chemical industry. It is commonly used as a monomer to produce various polymers that are used in synthesis of products ranging from textiles and packaging, to pharmaceuticals. A notable application of putrescine is that it can be used as a precursor in the production of the synthetic high-performance polyamide nylon-4,6 [1].\n",
    "\n",
    "The world market for polyamides today has been estimated to be USD 26 billion [2]. Due to their endurance and strength, polyamides are used in many applications. There is furthermore an increasing demand for ‘green’ polyamides [3]. Today, the industrial production of putrescine depends on chemical synthesis based on petrochemicals.The production of putrescine is currently done by chemical synthesis which is related to environmental and economical challenges. Therefore finding a sustainable bioprocess production that could make the process more environmentally friendly and  economically viable  would be of great benefit to the industry.\n",
    "\n",
    "In nature, there are several biosynthetic pathways to produce putrescine. As mentioned above, its main function is to regulate polyamine synthesis. Moreover, many taxa across eukarya can produce putrescine, a variety of plants, fungi and bacteria are able to produce it [5]. It can be synthesized from three main pathways in bacteria such as E.coli, from L-ornitine, L-arginine and L-Methionine through the melavonate (MVA) pathway. The intracellular levels of putrescine are therefore very dependent on the intracellular pool of amino acids [6].\n",
    "\n",
    "[1] Shin JH, Lee SY: “Metabolic engineering of microorganisms for the production of L-arginine and its derivatives”. Microbial Cell Factories — 2014, Volume 13, Issue 1, pp. 166. DOI: 10.1186/s12934-014-0166-4\n",
    "\n",
    "[2] https://www.maximizemarketresearch.com/market-report/global-polyamide-market/30408/\n",
    "\n",
    "[3] Nguyen AQD, Schneider J, Reddy GK, Wendisch VF: “Fermentative production of the diamine Putrescine: System metabolic engineering of corynebacterium glutamicum”. Metabolites — 2015, Volume 5, Issue 2, pp. 211-231. DOI: 10.3390/metabo5020211\n",
    "\n",
    "[4] Schneider J, Wendisch VF: “Putrescine production by engineered Corynebacterium glutamicum”. Appl Microbiol Biotechnol 2010, 88:859–868. DOI: 10.1007/s00253-010-2778-x\n",
    "\n",
    "[5] L. Wunderlichová, L. Buňková, M. Koutný, P. Jančová, and F. Buňka, “Formation, Degradation, and Detoxification of Putrescine by Foodborne Bacteria: A Review,” Compr. Rev. Food Sci. Food Saf., vol. 13, no. 5, pp. 1012–1030, Sep. 2014.\n",
    "\n",
    "[6] P. R. Guerra et al., “Putrescine biosynthesis and export genes are essential for normal growth of avian pathogenic Escherichia coli,” BMC Microbiol., vol. 18, no. 1, p. 226, Dec. 2018."
   ]
  },
  {
   "cell_type": "code",
   "execution_count": null,
   "metadata": {},
   "outputs": [],
   "source": []
  },
  {
   "cell_type": "markdown",
   "metadata": {},
   "source": [
    "### 1.2 Literature review of the cell factory (<500 words)"
   ]
  },
  {
   "cell_type": "markdown",
   "metadata": {},
   "source": [
    "Putrescine can be produced by metabolic engineering of ornithine-related pathways. The major host organisms that have been employed are Escherichia coli (E. coli) [1] and Corynebacterium glutamicum (C. glutamicum) [2].\n",
    "\n",
    "E. coli is a gram-negative and facultative anaerobic bacterium. It is commonly applied as a model organism due to its long history of \n",
    "\n",
    "C. glutamicum is a gram-positive and facultative anaerobic bacterium. It was originally discovered in Japan in the 1950s in a screen for microorganisms producing and secreting L-glutamate in high amounts. Today, it is used in the industrial production of other amino acids such as L-arginine, L-lysine, and L-threonine as well as other chemical compounds such as vitamins. Although the putrescine biosynthesis pathway is not well-studied in C. glutamicum, it is a desirable host as it produces L-ornithine and tolerates putrescine better than E. coli.\n",
    "\n",
    "[1] Qian ZG, Xia XX, Lee SY: Metabolic engineering of Escherichia coli for the production of putrescine: a four carbon diamine. Biotechnol Bioeng 2009, 104:651–662. DOI: 10.1002/bit.22502\n",
    "\n",
    "[2] Schneider J, Wendisch VF: “Putrescine production by engineered Corynebacterium glutamicum”. Appl Microbiol Biotechnol 2010, 88:859–868. DOI: 10.1007/s00253-010-2778-x"
   ]
  },
  {
   "cell_type": "markdown",
   "metadata": {},
   "source": [
    "## 2. Problem definition (<300 words)"
   ]
  },
  {
   "cell_type": "markdown",
   "metadata": {},
   "source": [
    "## 3. *If Project category I:* Reconstruction of a new GSM for your cell factory host of interest (<1500 words)"
   ]
  },
  {
   "cell_type": "markdown",
   "metadata": {},
   "source": [
    "or"
   ]
  },
  {
   "cell_type": "markdown",
   "metadata": {},
   "source": [
    "## 3. *If Project category II:* Selection and assessment of existing GSM (<500 words)"
   ]
  },
  {
   "cell_type": "markdown",
   "metadata": {},
   "source": [
    "Firstly, a literature research was conducted in order to locate potential genome scale models for C. glutamicum, the preferred host organism for our metabolic engineering efforts. The GSM model for C. glutamicum ATCC 13032 has been found using the database MetaNetX (www.metanetx.org) (seed_Seed196627_4.COBRA-sbml3). To access the quality of the model, the MEMOTE algorithm was used. MEMOTE is a tool adapted to COBRApy for analyzing GSMs, and utilizes its own built in software package and algorithm to score various attributes of models [3]. Tests such as tests for annotation, content, consistency and stoichiometry can be performed utilizing MEMOTE, thus making MEMOTE a powerful tool for comparing different GSMs across taxonomic boundaries. The overall score of the C. glutamicum model for ATCC 13032, which was the only complete SBML model we would find compliant with COBRApy, was 41% out of 100%. As the model contained not only automatic annotation from MetaNetX that suggested the model was generated automatically, the default model did not contain any fluxes when running the model with the default objectives, which can be seen below (...). We tried to modify the model, but as the fluxes in the model even in the default settings did not produce anything sensible, we decided to switch models. As mentioned above, another very suitable host for the production of putrescine is E.coli. For an evaluation of different E.coli models, we looked at the most comprehensive models found in the BIGG database (http://bigg.ucsd.edu/models) [4]. We chose two models, iML1515 E.coli strain K-12 and iEcolC_1368 Escherichia coli ATCC 8739, \n",
    "\n",
    "[3] Lieven, Christian, Moritz E. Beber, Brett G. Olivier, Frank T. Bergmann, Meric Ataman, Parizad Babaei, Jennifer A. Bartell, et al. 2020. “MEMOTE for Standardized Genome-Scale Metabolic Model Testing.” Nature Biotechnology, March. https://doi.org/10.1038/s41587-020-0446-y.\n",
    "\n",
    "[4] King ZA, Lu JS, Dräger A, Miller PC, Federowicz S, Lerman JA, Ebrahim A, Palsson BO, and Lewis NE. BiGG Models: A platform for integrating, standardizing, and sharing genome-scale models (2016) Nucleic Acids Research 44(D1):D515-D522. doi:10.1093/nar/gkv1049\n"
   ]
  },
  {
   "cell_type": "markdown",
   "metadata": {},
   "source": [
    "## 4. Computer-Aided Cell Factory Engineering (<1500 words if Category II project; <500 words for Category I project)"
   ]
  },
  {
   "cell_type": "markdown",
   "metadata": {},
   "source": [
    "## 5. Discussion (<500 words)"
   ]
  },
  {
   "cell_type": "markdown",
   "metadata": {},
   "source": [
    "## 6. Conclusion (<200 words)"
   ]
  },
  {
   "cell_type": "markdown",
   "metadata": {},
   "source": [
    "## References"
   ]
  },
  {
   "cell_type": "code",
   "execution_count": null,
   "metadata": {},
   "outputs": [],
   "source": []
  }
 ],
 "metadata": {
  "kernelspec": {
   "display_name": "python3.6",
   "language": "python",
   "name": "python3.6"
  },
  "language_info": {
   "codemirror_mode": {
    "name": "ipython",
    "version": 3
   },
   "file_extension": ".py",
   "mimetype": "text/x-python",
   "name": "python",
   "nbconvert_exporter": "python",
   "pygments_lexer": "ipython3",
   "version": "3.6.12"
  }
 },
 "nbformat": 4,
 "nbformat_minor": 4
}

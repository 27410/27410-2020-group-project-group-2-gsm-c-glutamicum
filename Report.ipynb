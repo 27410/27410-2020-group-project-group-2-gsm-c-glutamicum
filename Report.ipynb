{
 "cells": [
  {
   "cell_type": "markdown",
   "metadata": {},
   "source": [
    "# GSM C. glutamicum"
   ]
  },
  {
   "cell_type": "markdown",
   "metadata": {},
   "source": [
    "## 1. Introduction"
   ]
  },
  {
   "cell_type": "markdown",
   "metadata": {},
   "source": [
    "### 1.1 Literature review of the compound (<500 words)"
   ]
  },
  {
   "cell_type": "markdown",
   "metadata": {},
   "source": [
    "Putrescine (1,4-diaminobutane) is a four-carbon compound that belongs to the chemical class of diamines. The compound is formed in small amounts in living and growing cells due to the breakdown of amino acids. Putrescine is together with related compounds such as spermine and spermidine a key molecule in cellular metabolism and regulation of polyamine synthesis. It is however also putrescine that is responsible for the foul odor of dead and decaying tissue."
   ]
  },
  {
   "attachments": {
    "81413f86-f241-4837-91d3-6dca22f720dd.png": {
     "image/png": "[encoded data removed]"
    }
   },
   "cell_type": "markdown",
   "metadata": {},
   "source": [
    "![image.png](attachment:81413f86-f241-4837-91d3-6dca22f720dd.png)\n",
    "Source: https://www.greenmolbd.gov.bd/compound/455"
   ]
  },
  {
   "cell_type": "markdown",
   "metadata": {},
   "source": [
    "Putrescine is as a chemical, an important platform with a broad range of applications in the chemical industry. It is commonly used as a monomer to produce various polymers that are used in synthesis of products ranging from textiles and packaging to pharmaceuticals. A notable application of putrescine is that it can be used as a precursor in the production of the synthetic high-performance polyamide nylon-4,6 [1].\n",
    "\n",
    "The world market for polyamides today has been estimated to be USD 26 billion [2]. Due to their endurance and strength, polyamides are used in many applications. There is furthermore an increasing demand for ‘green’ polyamides [3]. Today, the industrial production of putrescine depends on chemical synthesis based on petrochemicals.The production of putrescine is currently done by chemical synthesis which is related to environmental and economical challenges. Therefore finding a sustainable bioprocess production that could make the process more environmentally friendly and  economically viable  would be of great benefit to the industry.\n",
    "\n",
    "In nature, there are several biosynthetic pathways to produce putrescine. As mentioned above, its main function is to regulate polyamine synthesis. Moreover, many taxa across eukarya can produce putrescine, a variety of plants, fungi and bacteria are able to produce it [5]. It can be synthesized from three main pathways in bacteria such as E.coli, from L-ornitine, L-arginine and L-Methionine through the melavonate (MVA) pathway. The intracellular levels of putrescine are therefore very dependent on the intracellular pool of amino acids [6]."
   ]
  },
  {
   "cell_type": "markdown",
   "metadata": {},
   "source": [
    "### 1.2 Literature review of the cell factory (<500 words)"
   ]
  },
  {
   "cell_type": "markdown",
   "metadata": {},
   "source": [
    "Putrescine can be produced by metabolic engineering of ornithine-related pathways. The major host organisms that have been employed are Escherichia coli (E. coli) [1] and Corynebacterium glutamicum (C. glutamicum) [2] that are already native producers of putrescine. Thus, it is of interest to improve the putrescine production in these host organisms by (1) introducing a heterologous pathway for putrescine, and (2) improving the native pathways and optimize the organism towards higher yields of putrescine.\n",
    "\n",
    "E. coli is a gram-negative and facultative anaerobic bacterium. It is commonly applied as a model organism due to it being one of the most widely studied and thereby used organisms as well as being the first bacterium to have its full genome sequence determined. Therefore, making this organism an advantageous host to genetically modify.  Furthermore, another advantage with using E. coli is its rapid growth that enables a fast production. Altogether, this makes it a very suitable and obvious organism to utilize when producing putrescine. However, this host organism does have some disadvantages. While E. coli produces putrescine natively, it is only in very limiting amounts. This is due to the fact that higher concentrations of putrescine has shown to be toxic for this organism. Therefore, it would be of interest to use an alternative host instead. \n",
    "\n",
    "C. glutamicum, on the other hand, is a gram-positive and facultative anaerobic bacterium. It was originally discovered in Japan in the 1950s in a screen for microorganisms producing and secreting L-glutamate in high amounts. Today, it is used in the industrial production of other amino acids such as L-arginine, L-lysine, and L-threonine as well as other chemical compounds like vitamins. The bacterium is a successful producer of amino acids due to the high fluxes in its citric acid cycle. As glutamate is a precursor for putrescine and a product made from the citric acid cycle, this relation can be used as a foundation for a possible new high producing pathway to putrescine. Although the biosynthetic pathway for putrescine is not well-studied in C. glutamicum, it is a desirable production host got putrescine as it produces ornithine efficiently from other pathways as well as it tolerates putrescine better than E. coli. Therefore, moving on, the cell factory C. glutamicum is investigated further for the production of putrescine. "
   ]
  },
  {
   "cell_type": "markdown",
   "metadata": {},
   "source": [
    "## 2. Problem definition (<300 words)"
   ]
  },
  {
   "cell_type": "markdown",
   "metadata": {},
   "source": [
    "E. coli and C. glutamicum are already very attractive to utilize as production hosts. Although, changes and upgrades can be implemented to make the organisms fit production even better. Considering putrescine, it is currently produced chemically but a change to bio-based manufacturing would be both feasible and beneficial. This can be achieved due to native pathways already established in both possible cell factories mentioned above, but the problem related to this is that the rates and yields are relatively low. \n",
    "\n",
    "This could be improved by determining the best pathway for producing putrescine and optimising it with possible added enzymes and thereby steps. This could ensure sufficient yield in order to make it economically viable. Additionally, as it is known that higher amounts of putrescine is toxic to both host organisms (although more toxic for E. coli), it would be of great interest to modify the organism to have an overexpression of transports genes for putrescine. The export of putrescine from E. coli would create the ability to perform in situ product removal (ISPR) during production, so that the cells will not undergo too much stress due to toxicity from the product putrescine. [6]\n",
    "\n",
    "Therefore, the problem is to determine an already established biosynthetic pathway that is possible to alter in order to produce putrescine, by inserting a new heterologous pathway and/or optimizing its flux and thereby achieve a higher yield, production rate or concentration of putrescine. "
   ]
  },
  {
   "cell_type": "markdown",
   "metadata": {},
   "source": [
    "## 3. *If Project category II:* Selection and assessment of existing GSM (<500 words)"
   ]
  },
  {
   "cell_type": "markdown",
   "metadata": {},
   "source": [
    "Firstly, a literature search was conducted in order to locate potential genome scale models for C. glutamicum, the preferred host organism for our metabolic engineering efforts. The GSM model for C. glutamicum ATCC 13032 has been found using the [MetaNetX](www.metanetx.org) database (seed_Seed196627_4.COBRA-sbml3). To access the quality of the model, the MEMOTE algorithm was used. MEMOTE is a tool adapted to COBRApy for analyzing GSMs, and utilizes its own built in software package and algorithm to score various attributes of models [9]. Tests such as tests for annotation, content, consistency and stoichiometry can be performed utilizing MEMOTE, thus making MEMOTE a powerful tool for comparing different GSMs across taxonomic boundaries. \n",
    "\n",
    "As mentioned above, another very suitable host for the production of putrescine is E. coli. For an evaluation of different E. coli models, we looked at the most comprehensive models found in the [BIGG](http://bigg.ucsd.edu/models) database [10]. We choose two models, iML1515 E.coli strain K-12 and iEcolC_1368 Escherichia coli ATCC 8739, which both covered the desired pathways shown in KEGG as well as containing the most metabolites, reactions and genes on average. Both models are run in memote to quantify their fitness.\n",
    "\n"
   ]
  },
  {
   "cell_type": "code",
   "execution_count": 2,
   "metadata": {},
   "outputs": [],
   "source": [
    "##Memote reports for Corynebacterium\n",
    "#%%time\n",
    "#!memote report snapshot seed_Seed196627_4.COBRA-sbml3.xml --filename model_glutamicum.html"
   ]
  },
  {
   "cell_type": "code",
   "execution_count": 1,
   "metadata": {},
   "outputs": [],
   "source": [
    "#Memote reports for iML1515\n",
    "#%%time\n",
    "#!memote report snapshot iML1515.xml.gz --filename iML1515.html"
   ]
  },
  {
   "cell_type": "code",
   "execution_count": 3,
   "metadata": {},
   "outputs": [],
   "source": [
    "# Evaluation of EcoliC 1368\n",
    "#%%time\n",
    "#!memote report snapshot iEcolC_1368.xml --filename Ecoli1368.html"
   ]
  },
  {
   "cell_type": "markdown",
   "metadata": {},
   "source": [
    "The overall score of the C. glutamicum model for ATCC 13032, which is the only complete SBML model we would find compliant with COBRApy, is 41% out of 100%.  The sub-score for annotation is 100%, but the score for consistency is low as mass balance consistency was 64% and unbounded flux in default medium was 4.6%, which means that a large fraction (>95%) of all reactions in the model has unbounded reactions. Stoichiometric consistency was 0%.  From the memote analysis of iML1515.xml, the overall score is 91% out of 100%. Here the score of stoichiometric consistency was 100% and the mass balance gave a score of 100%, and unbounded flux in default medium scored 88.9%. The memote analysis of iEcolC_1368 showed a total score of 72% with the main issue being consistency that showed a score of 0% for stochiometric consistency.\n",
    "\n",
    "\n",
    "The model for C. glutamicum scored much lower than the two E. coli models. As the model contained not only automatic annotation from MetaNetX that suggested the model was generated automatically, but also unbounded fluxes, it was difficult to say if it would work and the predictions would be highly unreliable. The model, based on its annotation and origin, seems to be automatically generated and thus it is not extensively experimentally validated. The E.coli IML1515 model is however, extensively experimentally validated, and we expect the results of using this model to be reliable [10].\n",
    "\n",
    "The default model for C. glutamicum did not contain any fluxes when running the model with the default objectives, which can be seen below :"
   ]
  },
  {
   "cell_type": "code",
   "execution_count": 31,
   "metadata": {},
   "outputs": [
    {
     "data": {
      "text/plain": [
       "mnxr01c2          0.0\n",
       "mnxr01c3          0.0\n",
       "mnxr02c2b         0.0\n",
       "mnxr100018c2c3    0.0\n",
       "mnxr100019c2b     0.0\n",
       "                 ... \n",
       "mnxr99903c3       0.0\n",
       "mnxr99909c3       0.0\n",
       "reac6EA132C5     -0.0\n",
       "reacCBCD7D74      0.0\n",
       "reacD3FA036D      0.0\n",
       "Name: fluxes, Length: 1007, dtype: float64"
      ]
     },
     "execution_count": 31,
     "metadata": {},
     "output_type": "execute_result"
    }
   ],
   "source": [
    "solution = modelcheck.optimize()\n",
    "solution.fluxes"
   ]
  },
  {
   "cell_type": "markdown",
   "metadata": {},
   "source": [
    "The fluxes look to be zero. We want to check if there are any fluxes that are not zero"
   ]
  },
  {
   "cell_type": "code",
   "execution_count": 32,
   "metadata": {},
   "outputs": [
    {
     "data": {
      "text/plain": [
       "Series([], Name: fluxes, dtype: float64)"
      ]
     },
     "execution_count": 32,
     "metadata": {},
     "output_type": "execute_result"
    }
   ],
   "source": [
    "solution.fluxes[solution.fluxes != 0]"
   ]
  },
  {
   "cell_type": "raw",
   "metadata": {},
   "source": [
    "All the fluxes are equal to zero. This makes the model very difficult to work with."
   ]
  },
  {
   "cell_type": "code",
   "execution_count": 35,
   "metadata": {},
   "outputs": [
    {
     "data": {
      "text/html": [
       "<div>\n",
       "<style scoped>\n",
       "    .dataframe tbody tr th:only-of-type {\n",
       "        vertical-align: middle;\n",
       "    }\n",
       "\n",
       "    .dataframe tbody tr th {\n",
       "        vertical-align: top;\n",
       "    }\n",
       "\n",
       "    .dataframe thead tr th {\n",
       "        text-align: left;\n",
       "    }\n",
       "</style>\n",
       "<table border=\"1\" class=\"dataframe\">\n",
       "  <thead>\n",
       "    <tr>\n",
       "      <th></th>\n",
       "      <th colspan=\"2\" halign=\"left\">IN_FLUXES</th>\n",
       "      <th colspan=\"2\" halign=\"left\">OUT_FLUXES</th>\n",
       "      <th colspan=\"2\" halign=\"left\">OBJECTIVES</th>\n",
       "    </tr>\n",
       "    <tr>\n",
       "      <th></th>\n",
       "      <th>ID</th>\n",
       "      <th>FLUX</th>\n",
       "      <th>ID</th>\n",
       "      <th>FLUX</th>\n",
       "      <th>ID</th>\n",
       "      <th>FLUX</th>\n",
       "    </tr>\n",
       "  </thead>\n",
       "  <tbody>\n",
       "    <tr>\n",
       "      <th>0</th>\n",
       "      <td>BIOMASS@MNXC3</td>\n",
       "      <td>0.0</td>\n",
       "      <td>NaN</td>\n",
       "      <td>NaN</td>\n",
       "      <td>reacD3FA036D</td>\n",
       "      <td>0.0</td>\n",
       "    </tr>\n",
       "    <tr>\n",
       "      <th>1</th>\n",
       "      <td>MNXM107@MNXC2</td>\n",
       "      <td>0.0</td>\n",
       "      <td>NaN</td>\n",
       "      <td>NaN</td>\n",
       "      <td>NaN</td>\n",
       "      <td>NaN</td>\n",
       "    </tr>\n",
       "    <tr>\n",
       "      <th>2</th>\n",
       "      <td>MNXM114@MNXC2</td>\n",
       "      <td>0.0</td>\n",
       "      <td>NaN</td>\n",
       "      <td>NaN</td>\n",
       "      <td>NaN</td>\n",
       "      <td>NaN</td>\n",
       "    </tr>\n",
       "    <tr>\n",
       "      <th>3</th>\n",
       "      <td>MNXM117@MNXC2</td>\n",
       "      <td>0.0</td>\n",
       "      <td>NaN</td>\n",
       "      <td>NaN</td>\n",
       "      <td>NaN</td>\n",
       "      <td>NaN</td>\n",
       "    </tr>\n",
       "    <tr>\n",
       "      <th>4</th>\n",
       "      <td>MNXM11814@MNXC2</td>\n",
       "      <td>0.0</td>\n",
       "      <td>NaN</td>\n",
       "      <td>NaN</td>\n",
       "      <td>NaN</td>\n",
       "      <td>NaN</td>\n",
       "    </tr>\n",
       "    <tr>\n",
       "      <th>...</th>\n",
       "      <td>...</td>\n",
       "      <td>...</td>\n",
       "      <td>...</td>\n",
       "      <td>...</td>\n",
       "      <td>...</td>\n",
       "      <td>...</td>\n",
       "    </tr>\n",
       "    <tr>\n",
       "      <th>69</th>\n",
       "      <td>MNXM90960@MNXC2</td>\n",
       "      <td>0.0</td>\n",
       "      <td>NaN</td>\n",
       "      <td>NaN</td>\n",
       "      <td>NaN</td>\n",
       "      <td>NaN</td>\n",
       "    </tr>\n",
       "    <tr>\n",
       "      <th>70</th>\n",
       "      <td>MNXM90@MNXC2</td>\n",
       "      <td>0.0</td>\n",
       "      <td>NaN</td>\n",
       "      <td>NaN</td>\n",
       "      <td>NaN</td>\n",
       "      <td>NaN</td>\n",
       "    </tr>\n",
       "    <tr>\n",
       "      <th>71</th>\n",
       "      <td>MNXM95@MNXC2</td>\n",
       "      <td>0.0</td>\n",
       "      <td>NaN</td>\n",
       "      <td>NaN</td>\n",
       "      <td>NaN</td>\n",
       "      <td>NaN</td>\n",
       "    </tr>\n",
       "    <tr>\n",
       "      <th>72</th>\n",
       "      <td>MNXM9@MNXC2</td>\n",
       "      <td>0.0</td>\n",
       "      <td>NaN</td>\n",
       "      <td>NaN</td>\n",
       "      <td>NaN</td>\n",
       "      <td>NaN</td>\n",
       "    </tr>\n",
       "    <tr>\n",
       "      <th>73</th>\n",
       "      <td>WATER@MNXC2</td>\n",
       "      <td>0.0</td>\n",
       "      <td>NaN</td>\n",
       "      <td>NaN</td>\n",
       "      <td>NaN</td>\n",
       "      <td>NaN</td>\n",
       "    </tr>\n",
       "  </tbody>\n",
       "</table>\n",
       "<p>74 rows × 6 columns</p>\n",
       "</div>"
      ],
      "text/plain": [
       "<cobra.core.summary.model_summary.ModelSummary at 0x7fb37c3f6be0>"
      ]
     },
     "execution_count": 35,
     "metadata": {},
     "output_type": "execute_result"
    }
   ],
   "source": [
    "# We look up the model summary. This shows that there are no fluxes\n",
    "model.summary()"
   ]
  },
  {
   "cell_type": "markdown",
   "metadata": {},
   "source": [
    "We tried to modify the model, by implementing the suggested pathway from L-glutamate to putrescine, and the reactions were added, but the fluxes in the model even in the default settings did not produce anything sensible and therefore no production could be obtained in the model without further manipulation. Therefore, we decided to switch models from C. glutamicum to E. coli.  The model of the two E. coli models we tested, iML1515, has the highest overall score and therefore we proceed with this model for the project."
   ]
  },
  {
   "cell_type": "markdown",
   "metadata": {},
   "source": [
    "## 4. Computer-Aided Cell Factory Engineering (<1500 words if Category II project)"
   ]
  },
  {
   "cell_type": "markdown",
   "metadata": {},
   "source": [
    "### Implementation of a heterologous pathway"
   ]
  },
  {
   "cell_type": "markdown",
   "metadata": {},
   "source": [
    "In order to improve the productivity of putrescine in E. coli, a heterologous pathway is implemented into the host organism (see [2.Ecoli_model.ipynb](https://github.com/27410/27410-2020-group-project-group-2-gsm-c-glutamicum/blob/main/2.Ecoli_model.ipynb)). The heterologous pathway is a two-step reaction that requires the addition of two enzymes to the GSM model."
   ]
  },
  {
   "cell_type": "markdown",
   "metadata": {},
   "source": [
    "The first enzyme to implement into E. coli is ornithine aminotransferase (KEGG entry: EC 2.6.1.13), which is a transferase."
   ]
  },
  {
   "cell_type": "raw",
   "metadata": {},
   "source": [
    "L-glutamate 5-semialdehyde + L-glutamate --> L-ornithine + 2-oxoglutarate"
   ]
  },
  {
   "cell_type": "markdown",
   "metadata": {},
   "source": [
    "The second enzyme to implement into E. coli is arginine amidinohydrolase (KEGG entry: EC 3.5.3.1), which is a hydrolase."
   ]
  },
  {
   "cell_type": "raw",
   "metadata": {},
   "source": [
    "L-ornithine + urea --> L-arginine + H2O"
   ]
  },
  {
   "cell_type": "markdown",
   "metadata": {},
   "source": [
    "### Maximum theoretical yield"
   ]
  },
  {
   "cell_type": "markdown",
   "metadata": {},
   "source": [
    "To test the improved yield of putrescine in E. coli, the maximum theoretical yield is calculated (see [3.Ecoli_theoretical_yield.ipynb](https://github.com/27410/27410-2020-group-project-group-2-gsm-c-glutamicum/blob/main/3.Ecoli_theoretical_yield.ipynb))."
   ]
  },
  {
   "cell_type": "raw",
   "metadata": {},
   "source": [
    "# Before implementation:\n",
    "Max. production rate [mmol gDW^-1 h^-1]: 9.56477064220186\n",
    "Max. theoretical yield [mmol-put / mmol-glc]: 0.9564770642201861\n",
    "\n",
    "# After implementation:\n",
    "Max. production rate [mmol gDW^-1 h^-1]: 9.929142857142862\n",
    "Max. theoretical yield [mmol-put / mmol-glc]: 0.9929142857142862"
   ]
  },
  {
   "cell_type": "markdown",
   "metadata": {},
   "source": [
    "The maximum theoretical yield of putrescine on glucose in E. coli is 0.9565 mmol/mmol before the implementation of the heterologous pathway and 0.9929 mmol/mmol after its implementation. Thus, the implementation of the heterologous pathway yields a 3.8% improvement on the maximum theoretical yield."
   ]
  },
  {
   "cell_type": "markdown",
   "metadata": {},
   "source": [
    "### Phenotypic Phase Plane Analysis"
   ]
  },
  {
   "cell_type": "markdown",
   "metadata": {},
   "source": [
    "Phenotypic Phase Plane (PPP) analysis provides a view of the relation between two exchange reactions. "
   ]
  },
  {
   "cell_type": "markdown",
   "metadata": {},
   "source": [
    "PPP is run both for aerobic and anaerobic conditions. They are plotted for the exchange reaction of putrescine as a function of glucose uptake, as well as the biomass as a function of putrescine exchange reaction for both conditions (see [4.Ecoli_phenotypic_phase_plan.ipynb](https://github.com/27410/27410-2020-group-project-group-2-gsm-c-glutamicum/blob/main/4.Ecoli_phenotypic_phase_plan.ipynb)).\n",
    "\n",
    "From these plots it is visible that the relationship between putrescine production and biomass production is linear, so putrescine is produced from the carbon source at the expense of biomass production. Further it is seen that production is better with high glucose concentrations as well as under aerobic conditions."
   ]
  },
  {
   "cell_type": "markdown",
   "metadata": {},
   "source": [
    "#### Aerobic conditions"
   ]
  },
  {
   "cell_type": "code",
   "execution_count": 19,
   "metadata": {},
   "outputs": [
    {
     "data": {
      "image/png": "[encoded data removed]",
      "text/plain": [
       "<Figure size 432x288 with 1 Axes>"
      ]
     },
     "metadata": {
      "needs_background": "light"
     },
     "output_type": "display_data"
    },
    {
     "data": {
      "image/png": "[encoded data removed]",
      "text/plain": [
       "<Figure size 432x288 with 1 Axes>"
      ]
     },
     "metadata": {
      "needs_background": "light"
     },
     "output_type": "display_data"
    },
    {
     "data": {
      "image/png": "[encoded data removed]",
      "text/plain": [
       "<Figure size 432x288 with 1 Axes>"
      ]
     },
     "metadata": {
      "needs_background": "light"
     },
     "output_type": "display_data"
    }
   ],
   "source": [
    "medium = model.medium\n",
    "with model:\n",
    "    model.medium = medium\n",
    "    model.objective = model.reactions.EX_ptrc_e\n",
    "    put_production = model.optimize().objective_value\n",
    "    ppp_BIOMASS = production_envelope(model,\n",
    "                    reactions=[model.reactions.EX_ptrc_e],\n",
    "                    objective=model.reactions.BIOMASS_Ec_iML1515_core_75p37M)\n",
    "    ppp_PTRC = production_envelope(model,\n",
    "                    reactions=[model.reactions.EX_glc__D_e],\n",
    "                    objective=model.reactions.EX_ptrc_e)\n",
    "    ppp_o2 = production_envelope(model,\n",
    "                    reactions=[model.reactions.EX_o2_e],\n",
    "                    objective=model.reactions.BIOMASS_Ec_iML1515_core_75p37M)\n",
    "    ppp_PTRC.plot(x='EX_glc__D_e', y='carbon_yield_maximum', title = 'Exchange reaction of putrescine as a function of glucose uptake') #carbon yield of putrescine as function of glucose uptake\n",
    "    ppp_BIOMASS.plot(x='EX_ptrc_e', y='flux_maximum', title = 'Biomass as a function of putrescine exchange reaction' ) #carbon yield of biomass as function of glucose uptake\n",
    "    ppp_o2.plot(x='EX_o2_e', y='flux_maximum', title = 'Biomass as a function of oxygen exchange reaction')"
   ]
  },
  {
   "cell_type": "markdown",
   "metadata": {},
   "source": [
    "#### Anaerobic conditions"
   ]
  },
  {
   "cell_type": "code",
   "execution_count": 20,
   "metadata": {},
   "outputs": [
    {
     "data": {
      "image/png": "[encoded data removed]",
      "text/plain": [
       "<Figure size 432x288 with 1 Axes>"
      ]
     },
     "metadata": {
      "needs_background": "light"
     },
     "output_type": "display_data"
    },
    {
     "data": {
      "image/png": "[encoded data removed]",
      "text/plain": [
       "<Figure size 432x288 with 1 Axes>"
      ]
     },
     "metadata": {
      "needs_background": "light"
     },
     "output_type": "display_data"
    },
    {
     "data": {
      "image/png": "[encoded data removed]",
      "text/plain": [
       "<Figure size 432x288 with 1 Axes>"
      ]
     },
     "metadata": {
      "needs_background": "light"
     },
     "output_type": "display_data"
    }
   ],
   "source": [
    "medium = model.medium\n",
    "with model:\n",
    "    medium['EX_o2_e'] = 0\n",
    "    model.medium = medium\n",
    "    model.objective = model.reactions.EX_ptrc_e\n",
    "    put_production = model.optimize().objective_value\n",
    "    ppp_BIOMASS = production_envelope(model,\n",
    "                    reactions=[model.reactions.EX_ptrc_e],\n",
    "                    objective=model.reactions.BIOMASS_Ec_iML1515_core_75p37M)\n",
    "    ppp_PTRC = production_envelope(model,\n",
    "                    reactions=[model.reactions.EX_glc__D_e],\n",
    "                    objective=model.reactions.EX_ptrc_e)\n",
    "    ppp_o2 = production_envelope(model,\n",
    "                    reactions=[model.reactions.EX_o2_e],\n",
    "                    objective=model.reactions.BIOMASS_Ec_iML1515_core_75p37M)\n",
    "    ppp_PTRC.plot(x='EX_glc__D_e', y='carbon_yield_maximum', title = 'Exchange reaction of putrescine as a function of glucose uptake') #carbon yield of putrescine as function of glucose uptake\n",
    "    ppp_BIOMASS.plot(x='EX_ptrc_e', y='flux_maximum', title = 'Biomass as a function of putrescine exchange reaction' ) #carbon yield of biomass as function of glucose uptake\n",
    "    ppp_o2.plot(x='EX_o2_e', y='flux_maximum', title = 'Biomass as a function of oxygen exchange reaction')"
   ]
  },
  {
   "cell_type": "markdown",
   "metadata": {},
   "source": [
    "#### Dynamic Flux Balance Analysis"
   ]
  },
  {
   "cell_type": "code",
   "execution_count": null,
   "metadata": {},
   "outputs": [],
   "source": []
  },
  {
   "cell_type": "code",
   "execution_count": null,
   "metadata": {},
   "outputs": [],
   "source": []
  },
  {
   "cell_type": "markdown",
   "metadata": {},
   "source": [
    "#### Gene knockout strategies"
   ]
  },
  {
   "cell_type": "markdown",
   "metadata": {},
   "source": [
    "In order to optimize the production of putrescine, the algorithm OptKnock is used. This algorithm should provide information about which genes can be knocked out so as to increase the flux going to the exchange reaction for Putrescine. "
   ]
  },
  {
   "cell_type": "markdown",
   "metadata": {},
   "source": [
    "The OptKnock algorithm is run while excluding the reactions in which there is an important gene. These are defined as any genes that resulted in a model flux under 0.5. "
   ]
  },
  {
   "cell_type": "code",
   "execution_count": null,
   "metadata": {},
   "outputs": [],
   "source": [
    "for gene in model.genes:\n",
    "    with model:\n",
    "        gene.knock_out()\n",
    "        essentiality[gene] = model.slim_optimize(error_value=0.)\n",
    "        #print(model.slim_optimize(error_value=0.))\n",
    "        if model.slim_optimize(error_value=0.) < 0.5:\n",
    "            importantgenes[gene] = model.slim_optimize(error_value=0.)\n",
    "        else:\n",
    "            targetgenes[gene] = model.slim_optimize(error_value=0.)"
   ]
  },
  {
   "cell_type": "markdown",
   "metadata": {},
   "source": [
    "The blocked reactions are also removed from this list of important genes.\n",
    "\n",
    "With this updated list the optknock algorithm is run, first with maximum one knockout and afterwards with two knockouts."
   ]
  },
  {
   "cell_type": "markdown",
   "metadata": {},
   "source": [
    "For one knockout the following results are obtained:"
   ]
  },
  {
   "cell_type": "code",
   "execution_count": 28,
   "metadata": {},
   "outputs": [
    {
     "data": {
      "application/vnd.jupyter.widget-view+json": {
       "model_id": "44e1a107e03448eaaec9b6e85b7a3756",
       "version_major": 2,
       "version_minor": 0
      },
      "text/plain": [
       "HBox()"
      ]
     },
     "metadata": {},
     "output_type": "display_data"
    },
    {
     "data": {
      "text/html": [
       "\n",
       "        <h3>OptKnock:</h3>\n",
       "        <ul>\n",
       "            <li>Target: EX_ptrc_e</li>\n",
       "        </ul>\n",
       "        <div>\n",
       "<style scoped>\n",
       "    .dataframe tbody tr th:only-of-type {\n",
       "        vertical-align: middle;\n",
       "    }\n",
       "\n",
       "    .dataframe tbody tr th {\n",
       "        vertical-align: top;\n",
       "    }\n",
       "\n",
       "    .dataframe thead th {\n",
       "        text-align: right;\n",
       "    }\n",
       "</style>\n",
       "<table border=\"1\" class=\"dataframe\">\n",
       "  <thead>\n",
       "    <tr style=\"text-align: right;\">\n",
       "      <th></th>\n",
       "      <th>reactions</th>\n",
       "      <th>size</th>\n",
       "      <th>EX_ptrc_e</th>\n",
       "      <th>biomass</th>\n",
       "      <th>fva_min</th>\n",
       "      <th>fva_max</th>\n",
       "    </tr>\n",
       "  </thead>\n",
       "  <tbody>\n",
       "    <tr>\n",
       "      <th>0</th>\n",
       "      <td>{FESR}</td>\n",
       "      <td>1</td>\n",
       "      <td>0.000002</td>\n",
       "      <td>0.877955</td>\n",
       "      <td>0.0</td>\n",
       "      <td>0.101365</td>\n",
       "    </tr>\n",
       "    <tr>\n",
       "      <th>1</th>\n",
       "      <td>{FESD1s}</td>\n",
       "      <td>1</td>\n",
       "      <td>0.000002</td>\n",
       "      <td>0.877955</td>\n",
       "      <td>0.0</td>\n",
       "      <td>0.101365</td>\n",
       "    </tr>\n",
       "  </tbody>\n",
       "</table>\n",
       "</div>"
      ],
      "text/plain": [
       "<cameo.strain_design.deterministic.linear_programming.OptKnockResult at 0x7f1de22cdcf8>"
      ]
     },
     "execution_count": 28,
     "metadata": {},
     "output_type": "execute_result"
    }
   ],
   "source": [
    "result"
   ]
  },
  {
   "cell_type": "markdown",
   "metadata": {},
   "source": [
    "For two knockouts the following results are obtained:"
   ]
  },
  {
   "cell_type": "code",
   "execution_count": 30,
   "metadata": {},
   "outputs": [
    {
     "data": {
      "application/vnd.jupyter.widget-view+json": {
       "model_id": "21feff7309a74424b0b68b2c7f1da820",
       "version_major": 2,
       "version_minor": 0
      },
      "text/plain": [
       "HBox()"
      ]
     },
     "metadata": {},
     "output_type": "display_data"
    },
    {
     "data": {
      "text/html": [
       "\n",
       "        <h3>OptKnock:</h3>\n",
       "        <ul>\n",
       "            <li>Target: EX_ptrc_e</li>\n",
       "        </ul>\n",
       "        <div>\n",
       "<style scoped>\n",
       "    .dataframe tbody tr th:only-of-type {\n",
       "        vertical-align: middle;\n",
       "    }\n",
       "\n",
       "    .dataframe tbody tr th {\n",
       "        vertical-align: top;\n",
       "    }\n",
       "\n",
       "    .dataframe thead th {\n",
       "        text-align: right;\n",
       "    }\n",
       "</style>\n",
       "<table border=\"1\" class=\"dataframe\">\n",
       "  <thead>\n",
       "    <tr style=\"text-align: right;\">\n",
       "      <th></th>\n",
       "      <th>reactions</th>\n",
       "      <th>size</th>\n",
       "      <th>EX_ptrc_e</th>\n",
       "      <th>biomass</th>\n",
       "      <th>fva_min</th>\n",
       "      <th>fva_max</th>\n",
       "    </tr>\n",
       "  </thead>\n",
       "  <tbody>\n",
       "    <tr>\n",
       "      <th>0</th>\n",
       "      <td>{AP4AH, FESR}</td>\n",
       "      <td>2</td>\n",
       "      <td>0.000059</td>\n",
       "      <td>0.87795</td>\n",
       "      <td>0.0</td>\n",
       "      <td>0.101365</td>\n",
       "    </tr>\n",
       "    <tr>\n",
       "      <th>1</th>\n",
       "      <td>{AP4AS, FESR}</td>\n",
       "      <td>2</td>\n",
       "      <td>0.000059</td>\n",
       "      <td>0.87795</td>\n",
       "      <td>0.0</td>\n",
       "      <td>0.101365</td>\n",
       "    </tr>\n",
       "    <tr>\n",
       "      <th>2</th>\n",
       "      <td>{FESD1s, AP4AH}</td>\n",
       "      <td>2</td>\n",
       "      <td>0.000059</td>\n",
       "      <td>0.87795</td>\n",
       "      <td>0.0</td>\n",
       "      <td>0.101365</td>\n",
       "    </tr>\n",
       "    <tr>\n",
       "      <th>3</th>\n",
       "      <td>{FESD1s, AP4AS}</td>\n",
       "      <td>2</td>\n",
       "      <td>0.000059</td>\n",
       "      <td>0.87795</td>\n",
       "      <td>0.0</td>\n",
       "      <td>0.101365</td>\n",
       "    </tr>\n",
       "  </tbody>\n",
       "</table>\n",
       "</div>"
      ],
      "text/plain": [
       "<cameo.strain_design.deterministic.linear_programming.OptKnockResult at 0x7f1da05511d0>"
      ]
     },
     "execution_count": 30,
     "metadata": {},
     "output_type": "execute_result"
    }
   ],
   "source": [
    "result2"
   ]
  },
  {
   "cell_type": "markdown",
   "metadata": {},
   "source": [
    "The results for the OptKnock are tested. One example is added down below, were it is seen that the knockout of the genes suggested provide no change to the maximum putrescine production rate."
   ]
  },
  {
   "cell_type": "code",
   "execution_count": 42,
   "metadata": {},
   "outputs": [
    {
     "name": "stdout",
     "output_type": "stream",
     "text": [
      "Max. putriscine production [mmol gDW^-1 h^-1]: 9.92914285714295\n",
      "Theoretical max. yield [mmol-put / mmol-glc]: 0.992914285714295\n"
     ]
    }
   ],
   "source": [
    "medium = model.medium\n",
    "with model:\n",
    "    model.medium = medium\n",
    "    model.reactions.AP4AH.bounds = 0,0\n",
    "    model.reactions.FESD1s.bounds = 0,0\n",
    "    model.objective = model.reactions.EX_ptrc_e\n",
    "    put_production = model.optimize().objective_value\n",
    "    print(\"Max. putriscine production [mmol gDW^-1 h^-1]:\", put_production)\n",
    "    print(\"Theoretical max. yield [mmol-put / mmol-glc]:\", put_production / (-1*model.reactions.EX_glc__D_e.flux))"
   ]
  },
  {
   "cell_type": "markdown",
   "metadata": {},
   "source": [
    "To further investigate the OptKnock results we plotted the phase plane analysis of the knockouts. \n",
    "\n",
    "HER MANGLER VI NOGET!!!"
   ]
  },
  {
   "cell_type": "markdown",
   "metadata": {},
   "source": [
    "The conclusion from using OptKnock is that it does not provide any information that"
   ]
  },
  {
   "cell_type": "markdown",
   "metadata": {},
   "source": [
    "#### Predicting heterologous pathways"
   ]
  },
  {
   "cell_type": "markdown",
   "metadata": {},
   "source": [
    "Prediction of other possible heterologous pathways is performed in order to identify further possible changes and modifications to the model that could be introduced with the aim to increase the putrescine yield. Unfortunately, this algorithm does not work consistently when performing it on a native compound already existing in the model. Therefore, it generated no result to further possible heterologous pathways that could be modified as the code would never terminate. "
   ]
  },
  {
   "cell_type": "markdown",
   "metadata": {},
   "source": [
    "## 5. Discussion (<500 words)"
   ]
  },
  {
   "cell_type": "markdown",
   "metadata": {},
   "source": [
    "## 6. Conclusion (<200 words)"
   ]
  },
  {
   "cell_type": "markdown",
   "metadata": {},
   "source": [
    "## References"
   ]
  },
  {
   "cell_type": "markdown",
   "metadata": {},
   "source": [
    "[1] Shin JH, Lee SY: “Metabolic engineering of microorganisms for the production of L-arginine and its derivatives”. Microbial Cell Factories — 2014, Volume 13, Issue 1, pp. 166. DOI: 10.1186/s12934-014-0166-4\n",
    "\n",
    "[2] https://www.maximizemarketresearch.com/market-report/global-polyamide-market/30408/\n",
    "\n",
    "[3] Nguyen AQD, Schneider J, Reddy GK, Wendisch VF: “Fermentative production of the diamine Putrescine: System metabolic engineering of corynebacterium glutamicum”. Metabolites — 2015, Volume 5, Issue 2, pp. 211-231. DOI: 10.3390/metabo5020211\n",
    "\n",
    "[4] Schneider J, Wendisch VF: “Putrescine production by engineered Corynebacterium glutamicum”. Appl Microbiol Biotechnol 2010, 88:859–868. DOI: 10.1007/s00253-010-2778-x\n",
    "\n",
    "[5] L. Wunderlichová, L. Buňková, M. Koutný, P. Jančová, and F. Buňka, “Formation, Degradation, and Detoxification of Putrescine by Foodborne Bacteria: A Review,” Compr. Rev. Food Sci. Food Saf., vol. 13, no. 5, pp. 1012–1030, Sep. 2014.\n",
    "\n",
    "[6] P. R. Guerra et al., “Putrescine biosynthesis and export genes are essential for normal growth of avian pathogenic Escherichia coli,” BMC Microbiol., vol. 18, no. 1, p. 226, Dec. 2018.\n",
    "\n",
    "[7] Qian ZG, Xia XX, Lee SY: Metabolic engineering of Escherichia coli for the production of putrescine: a four carbon diamine. Biotechnol Bioeng 2009, 104:651–662. DOI: 10.1002/bit.22502\n",
    "\n",
    "[8] Schneider J, Wendisch VF: “Putrescine production by engineered Corynebacterium glutamicum”. Appl Microbiol Biotechnol 2010, 88:859–868. DOI: 10.1007/s00253-010-2778-x\n",
    "\n",
    "[9] Lieven, Christian, Moritz E. Beber, Brett G. Olivier, Frank T. Bergmann, Meric Ataman, Parizad Babaei, Jennifer A. Bartell, et al. 2020. “MEMOTE for Standardized Genome-Scale Metabolic Model Testing.” Nature Biotechnology, March. https://doi.org/10.1038/s41587-020-0446-y.\n",
    "\n",
    "[10] King ZA, Lu JS, Dräger A, Miller PC, Federowicz S, Lerman JA, Ebrahim A, Palsson BO, and Lewis NE. BiGG Models: A platform for integrating, standardizing, and sharing genome-scale models (2016) Nucleic Acids Research 44(D1):D515-D522. doi:10.1093/nar/gkv1049"
   ]
  }
 ],
 "metadata": {
  "kernelspec": {
   "display_name": "python3.6",
   "language": "python",
   "name": "python3.6"
  },
  "language_info": {
   "codemirror_mode": {
    "name": "ipython",
    "version": 3
   },
   "file_extension": ".py",
   "mimetype": "text/x-python",
   "name": "python",
   "nbconvert_exporter": "python",
   "pygments_lexer": "ipython3",
   "version": "3.6.12"
  }
 },
 "nbformat": 4,
 "nbformat_minor": 4
}

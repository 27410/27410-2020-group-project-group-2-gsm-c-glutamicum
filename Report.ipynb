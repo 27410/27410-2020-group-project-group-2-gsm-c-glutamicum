{
 "cells": [
  {
   "cell_type": "markdown",
   "metadata": {},
   "source": [
    "# GSM C. glutamicum"
   ]
  },
  {
   "cell_type": "markdown",
   "metadata": {},
   "source": [
    "## 1. Introduction"
   ]
  },
  {
   "cell_type": "markdown",
   "metadata": {},
   "source": [
    "### 1.1 Literature review of the compound (<500 words)"
   ]
  },
  {
   "cell_type": "markdown",
   "metadata": {},
   "source": [
    "Putrescine (1,4-diaminobutane) is a four-carbon organic compound that is classified as a diamine. The compound is formed in small amounts in living and growing cells during the breakdown of amino acids and ornithine. Putrescine has a notable odor that is associated with dead and decaying tissue."
   ]
  },
  {
   "cell_type": "markdown",
   "metadata": {},
   "source": [
    "### 1.2 Literature review of the cell factory (<500 words)"
   ]
  },
  {
   "cell_type": "markdown",
   "metadata": {},
   "source": [
    "Putrescine can be produced by metabolic engineering of ornithine-related pathways. The major host organisms that have been employed are Escherichia coli (E. coli) [1] and Corynebacterium glutamicum (C. glutamicum) [2].\n",
    "\n",
    "E. coli is a gram-negative and facultative anaerobic bacterium. It is commonly applied as a model organism due to its long history of \n",
    "\n",
    "C. glutamicum is a gram-positive and facultative anaerobic bacterium. It was originally discovered in Japan in the 1950s in a screen for microorganisms producing and secreting L-glutamate in high amounts. Today, it is used in the industrial production of other amino acids such as L-arginine, L-lysine, and L-threonine as well as other chemical compounds such as vitamins. Although the putrescine biosynthesis pathway is not well-studied in C. glutamicum, it is a desirable host as it produces L-ornithine and tolerates putrescine better than E. coli.\n",
    "\n",
    "[1] Qian ZG, Xia XX, Lee SY: Metabolic engineering of Escherichia coli for the production of putrescine: a four carbon diamine. Biotechnol Bioeng 2009, 104:651–662. DOI: 10.1002/bit.22502\n",
    "\n",
    "[2] Schneider J, Wendisch VF: “Putrescine production by engineered Corynebacterium glutamicum”. Appl Microbiol Biotechnol 2010, 88:859–868. DOI: 10.1007/s00253-010-2778-x"
   ]
  },
  {
   "cell_type": "markdown",
   "metadata": {},
   "source": [
    "## 2. Problem definition (<300 words)"
   ]
  },
  {
   "cell_type": "markdown",
   "metadata": {},
   "source": [
    "## 3. *If Project category I:* Reconstruction of a new GSM for your cell factory host of interest (<1500 words)"
   ]
  },
  {
   "cell_type": "markdown",
   "metadata": {},
   "source": [
    "or"
   ]
  },
  {
   "cell_type": "code",
   "execution_count": null,
   "metadata": {},
   "outputs": [],
   "source": []
  },
  {
   "cell_type": "markdown",
   "metadata": {},
   "source": [
    "## 3. *If Project category II:* Selection and assessment of existing GSM (<500 words)"
   ]
  },
  {
   "cell_type": "markdown",
   "metadata": {},
   "source": [
    "## 4. Computer-Aided Cell Factory Engineering (<1500 words if Category II project; <500 words for Category I project)"
   ]
  },
  {
   "cell_type": "markdown",
   "metadata": {},
   "source": [
    "## 5. Discussion (<500 words)"
   ]
  },
  {
   "cell_type": "markdown",
   "metadata": {},
   "source": [
    "## 6. Conclusion (<200 words)"
   ]
  },
  {
   "cell_type": "markdown",
   "metadata": {},
   "source": [
    "## References"
   ]
  },
  {
   "cell_type": "code",
   "execution_count": null,
   "metadata": {},
   "outputs": [],
   "source": []
  }
 ],
 "metadata": {
  "kernelspec": {
   "display_name": "python3.6",
   "language": "python",
   "name": "python3.6"
  },
  "language_info": {
   "codemirror_mode": {
    "name": "ipython",
    "version": 3
   },
   "file_extension": ".py",
   "mimetype": "text/x-python",
   "name": "python",
   "nbconvert_exporter": "python",
   "pygments_lexer": "ipython3",
   "version": "3.6.12"
  }
 },
 "nbformat": 4,
 "nbformat_minor": 4
}

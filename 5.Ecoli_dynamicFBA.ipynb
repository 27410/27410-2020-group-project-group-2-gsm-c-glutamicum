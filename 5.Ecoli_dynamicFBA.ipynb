{
 "cells": [
  {
   "cell_type": "markdown",
   "metadata": {},
   "source": [
    "# Dynamic FBA"
   ]
  },
  {
   "cell_type": "code",
   "execution_count": 1,
   "metadata": {},
   "outputs": [
    {
     "name": "stdout",
     "output_type": "stream",
     "text": [
      "Putrescine\n",
      "ptrc_p\n",
      "Putrescine\n",
      "ptrc_c\n",
      "Putrescine\n",
      "ptrc_e\n",
      "9.56477064220183\n",
      "N-Acetyl-L-glutamate 5-semialdehyde\n",
      "acg5sa_c\n",
      "N2-Succinyl-L-glutamate 5-semialdehyde\n",
      "sucgsa_c\n",
      "L-Glutamate 5-semialdehyde\n",
      "glu5sa_c\n",
      "Ornithine\n",
      "orn_e\n",
      "Ornithine\n",
      "orn_p\n",
      "Ornithine\n",
      "orn_c\n",
      "2-Oxoglutarate\n",
      "akg_e\n",
      "2-Oxoglutarate\n",
      "akg_c\n",
      "2-Oxoglutarate\n",
      "akg_p\n",
      "L-Glutamate 1-semialdehyde\n",
      "glu1sa_c\n",
      "L-Glutamate\n",
      "glu__L_c\n",
      "L-Glutamate 5-semialdehyde\n",
      "glu5sa_c\n",
      "L-Glutamate\n",
      "glu__L_e\n",
      "L-Glutamate\n",
      "glu__L_p\n",
      "L-Glutamate 5-phosphate\n",
      "glu5p_c\n",
      "glu5sa_c + glu__L_c --> akg_c + orn_c\n",
      "53.02333333333343\n",
      "9.92914285714283\n",
      "L-Arginine\n",
      "arg__L_c\n",
      "L-Arginine\n",
      "arg__L_e\n",
      "L-Arginine\n",
      "arg__L_p\n",
      "Urea CH4N2O\n",
      "urea_c\n",
      "Urea CH4N2O\n",
      "urea_p\n",
      "Urea CH4N2O\n",
      "urea_e\n",
      "H2O H2O\n",
      "h2o_p\n",
      "H2O H2O\n",
      "h2o_c\n",
      "H2O H2O\n",
      "h2o_e\n",
      "arg__L_c + h2o_c --> orn_c + urea_c\n",
      "9.92914285714283\n",
      "9.564770642201857\n"
     ]
    }
   ],
   "source": [
    "%run 2.Ecoli_model.ipynb"
   ]
  },
  {
   "cell_type": "code",
   "execution_count": 2,
   "metadata": {},
   "outputs": [],
   "source": [
    "from os.path import dirname, join, pardir\n",
    "\n",
    "from cobra.io import read_sbml_model\n",
    "\n",
    "from dfba import DfbaModel, ExchangeFlux, KineticVariable"
   ]
  },
  {
   "cell_type": "markdown",
   "metadata": {},
   "source": [
    "We set up the dynamic flux balance analysis."
   ]
  },
  {
   "cell_type": "code",
   "execution_count": 5,
   "metadata": {},
   "outputs": [],
   "source": [
    "with model:\n",
    "    model.objective = model.reactions.BIOMASS_Ec_iML1515_core_75p37M\n",
    "    Biomassobjective = model.optimize().objective_value # We produce\n"
   ]
  },
  {
   "cell_type": "code",
   "execution_count": 6,
   "metadata": {},
   "outputs": [],
   "source": [
    "#model.reactions.BIOMASS_Ec_iML1515_core_75p37M.lower_bound = Biomassobjective*0.1"
   ]
  },
  {
   "cell_type": "code",
   "execution_count": 7,
   "metadata": {},
   "outputs": [],
   "source": [
    "#model.reactions.BIOMASS_Ec_iML1515_core_75p37M"
   ]
  },
  {
   "cell_type": "code",
   "execution_count": 8,
   "metadata": {},
   "outputs": [],
   "source": [
    "%%capture --no-display\n",
    "fba_model = model\n",
    "fba_model.reactions.BIOMASS_Ec_iML1515_core_75p37M.lower_bound = Biomassobjective*0.1\n",
    "fba_model.objective = \"EX_ptrc_e\"\n",
    "#fba_model = read_sbml_model('iML1515.xml.gz')\n",
    "fba_model.solver = \"glpk\"\n",
    "dfba_model = DfbaModel(fba_model)"
   ]
  },
  {
   "cell_type": "code",
   "execution_count": 9,
   "metadata": {},
   "outputs": [],
   "source": [
    "X = KineticVariable(\"Biomass\")\n",
    "Gluc = KineticVariable(\"Glucose\")\n",
    "Oxy = KineticVariable(\"Oxygen\")\n",
    "Put = KineticVariable(\"Putrescine\")\n",
    "\n",
    "dfba_model.add_kinetic_variables([X, Gluc, Oxy, Put])"
   ]
  },
  {
   "cell_type": "code",
   "execution_count": 10,
   "metadata": {},
   "outputs": [],
   "source": [
    "mu = ExchangeFlux(\"BIOMASS_Ec_iML1515_core_75p37M\")\n",
    "v_G = ExchangeFlux(\"EX_glc__D_e\")\n",
    "v_O = ExchangeFlux(\"EX_o2_e\")\n",
    "v_P = ExchangeFlux(\"EX_ptrc_e\")\n",
    "                   \n",
    "                   \n",
    "dfba_model.add_exchange_fluxes([mu, v_G, v_O, v_P])"
   ]
  },
  {
   "cell_type": "code",
   "execution_count": 11,
   "metadata": {},
   "outputs": [],
   "source": [
    "dfba_model.add_rhs_expression(\"Biomass\", mu * X)\n",
    "dfba_model.add_rhs_expression(\"Glucose\", v_G * 180.1559/1000 * X) # v_G [mmol gDW^-1 h^-1] * 0.18 g/mmol * gDW/L\n",
    "dfba_model.add_rhs_expression(\"Oxygen\", 0) # O2 is kept constant\n",
    "dfba_model.add_rhs_expression(\"Putrescine\", v_P * 88.15/1000 * X) #Putrescine -----"
   ]
  },
  {
   "cell_type": "code",
   "execution_count": 12,
   "metadata": {},
   "outputs": [],
   "source": [
    "vmax_o2 = 15 # [mmol gDW^-1 h^-1]\n",
    "Ko = 0.024 # mmol/L O2 Michaelis-Mentent constant\n",
    "dfba_model.add_exchange_flux_lb(\"EX_o2_e\", vmax_o2 * (Oxy / (Ko + Oxy)), Oxy)"
   ]
  },
  {
   "cell_type": "markdown",
   "metadata": {},
   "source": [
    "In order to look at the production of putrescine we set a minimum lower bound of 5."
   ]
  },
  {
   "cell_type": "code",
   "execution_count": 14,
   "metadata": {},
   "outputs": [],
   "source": [
    "dfba_model.add_initial_conditions(\n",
    "    {\n",
    "        \"Biomass\": 0.01, # (gDW/L)\n",
    "        \"Glucose\": 15.5, # (g/L)\n",
    "        \"Oxygen\": 0.24,  # (mmol/L)\n",
    "        \"Putrescine\": 0.0,  # (g/L)\n",
    "    }\n",
    ")\n",
    "concentrations, trajectories = dfba_model.simulate(0.0, 25.0, 0.1, [\"EX_glc__D_e\", \"EX_o2_e\", \"EX_ptrc_e\"])"
   ]
  },
  {
   "cell_type": "code",
   "execution_count": 15,
   "metadata": {},
   "outputs": [],
   "source": [
    "from dfba.plot.matplotlib import *"
   ]
  },
  {
   "cell_type": "markdown",
   "metadata": {},
   "source": [
    "We now plot the concentrations simulating a batch process."
   ]
  },
  {
   "cell_type": "code",
   "execution_count": 16,
   "metadata": {},
   "outputs": [
    {
     "data": {
      "image/png": "[encoded data removed]",
      "text/plain": [
       "<Figure size 432x288 with 2 Axes>"
      ]
     },
     "metadata": {
      "needs_background": "light"
     },
     "output_type": "display_data"
    }
   ],
   "source": [
    "plot_concentrations(concentrations)"
   ]
  },
  {
   "cell_type": "markdown",
   "metadata": {},
   "source": [
    "We see that glucose falls gradually while biomass is growing. Putrescine seems to fall, indicating that it is maybe being consumed in the cell."
   ]
  },
  {
   "cell_type": "markdown",
   "metadata": {},
   "source": [
    "We plot the trajectories."
   ]
  },
  {
   "cell_type": "code",
   "execution_count": null,
   "metadata": {},
   "outputs": [],
   "source": [
    "plot_trajectories(trajectories)"
   ]
  },
  {
   "cell_type": "code",
   "execution_count": null,
   "metadata": {},
   "outputs": [],
   "source": [
    "#Putrescine is not changing over time, this must mean we need to change the objective "
   ]
  },
  {
   "cell_type": "code",
   "execution_count": null,
   "metadata": {},
   "outputs": [],
   "source": []
  }
 ],
 "metadata": {
  "kernelspec": {
   "display_name": "Python 3",
   "language": "python",
   "name": "python3"
  },
  "language_info": {
   "codemirror_mode": {
    "name": "ipython",
    "version": 3
   },
   "file_extension": ".py",
   "mimetype": "text/x-python",
   "name": "python",
   "nbconvert_exporter": "python",
   "pygments_lexer": "ipython3",
   "version": "3.8.5"
  }
 },
 "nbformat": 4,
 "nbformat_minor": 4
}

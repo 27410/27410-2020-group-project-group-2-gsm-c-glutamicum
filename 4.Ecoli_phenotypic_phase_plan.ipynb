{
 "cells": [
  {
   "cell_type": "code",
   "execution_count": null,
   "metadata": {},
   "outputs": [],
   "source": [
    "%run 2.Ecoli_model.ipynb"
   ]
  },
  {
   "cell_type": "markdown",
   "metadata": {},
   "source": [
    "## Phenotypic phase plane analysis"
   ]
  },
  {
   "cell_type": "code",
   "execution_count": null,
   "metadata": {},
   "outputs": [],
   "source": [
    "from cobra.flux_analysis.phenotype_phase_plane import production_envelope, add_envelope"
   ]
  },
  {
   "cell_type": "code",
   "execution_count": null,
   "metadata": {},
   "outputs": [],
   "source": [
    "ppp_BIOMASS = production_envelope(model,\n",
    "                    reactions=[model.reactions.EX_ptrc_e],\n",
    "                    objective=model.reactions.BIOMASS_Ec_iML1515_core_75p37M)"
   ]
  },
  {
   "cell_type": "code",
   "execution_count": null,
   "metadata": {},
   "outputs": [],
   "source": [
    "ppp_BIOMASS"
   ]
  },
  {
   "cell_type": "code",
   "execution_count": null,
   "metadata": {},
   "outputs": [],
   "source": [
    "ppp_BIOMASS.plot(x='EX_ptrc_e', y='flux_maximum')"
   ]
  },
  {
   "cell_type": "code",
   "execution_count": null,
   "metadata": {},
   "outputs": [],
   "source": [
    "ppp_o2 = production_envelope(model,\n",
    "                    reactions=[model.reactions.EX_o2_e],\n",
    "                    objective=model.reactions.BIOMASS_Ec_iML1515_core_75p37M)"
   ]
  },
  {
   "cell_type": "code",
   "execution_count": null,
   "metadata": {},
   "outputs": [],
   "source": [
    "ppp_o2.EX_o2_e[ppp_o2.flux_maximum.idxmax()]"
   ]
  },
  {
   "cell_type": "code",
   "execution_count": null,
   "metadata": {},
   "outputs": [],
   "source": [
    "ppp_o2.plot(x='EX_o2_e', y='flux_maximum')"
   ]
  },
  {
   "cell_type": "code",
   "execution_count": null,
   "metadata": {},
   "outputs": [],
   "source": [
    "#Grows very poorly when there is very little oxygen, grows well (high flux) with very high oxygen. \n",
    "#Flux under the objective = biomass production is equal to growth rate"
   ]
  },
  {
   "cell_type": "code",
   "execution_count": null,
   "metadata": {},
   "outputs": [],
   "source": [
    "ppp_PTRC = production_envelope(model,\n",
    "                    reactions=[model.reactions.EX_glc__D_e],\n",
    "                    objective=model.reactions.EX_ptrc_e)"
   ]
  },
  {
   "cell_type": "code",
   "execution_count": null,
   "metadata": {},
   "outputs": [],
   "source": [
    "ppp_PTRC #max flux is production of putrescine"
   ]
  },
  {
   "cell_type": "code",
   "execution_count": null,
   "metadata": {},
   "outputs": [],
   "source": [
    "ppp_PTRC.plot(x='EX_glc__D_e', y='carbon_yield_maximum') #carbon yield of putrescine as function of glucose uptake"
   ]
  },
  {
   "cell_type": "code",
   "execution_count": null,
   "metadata": {},
   "outputs": [],
   "source": [
    "ppp_BIOMASS.plot(x='EX_glc__D_e', y='carbon_yield_maximum') #carbon yield of biomass as function of glucose uptake"
   ]
  },
  {
   "cell_type": "code",
   "execution_count": null,
   "metadata": {},
   "outputs": [],
   "source": [
    "ppp_o2.plot(x='EX_o2_e', y='carbon_yield_maximum')"
   ]
  },
  {
   "cell_type": "code",
   "execution_count": null,
   "metadata": {},
   "outputs": [],
   "source": [
    "#Anaerobic environment"
   ]
  },
  {
   "cell_type": "code",
   "execution_count": null,
   "metadata": {},
   "outputs": [],
   "source": [
    "medium = model.medium\n",
    "with model:\n",
    "    medium['EX_o2_e'] = 0\n",
    "    model.medium = medium\n",
    "    model.objective = model.reactions.EX_ptrc_e\n",
    "    put_production = model.optimize().objective_value\n",
    "    ppp_BIOMASS = production_envelope(model,\n",
    "                    reactions=[model.reactions.EX_glc__D_e],\n",
    "                    objective=model.reactions.BIOMASS_Ec_iML1515_core_75p37M)\n",
    "    ppp_PTRC = production_envelope(model,\n",
    "                    reactions=[model.reactions.EX_glc__D_e],\n",
    "                    objective=model.reactions.EX_ptrc_e)\n",
    "    ppp_PTRC.plot(x='EX_glc__D_e', y='carbon_yield_maximum') #carbon yield of putrescine as function of glucose uptake\n",
    "    ppp_BIOMASS.plot(x='EX_glc__D_e', y='carbon_yield_maximum') #carbon yield of biomass as function of glucose uptake"
   ]
  },
  {
   "cell_type": "code",
   "execution_count": null,
   "metadata": {},
   "outputs": [],
   "source": [
    "#Different carbon sources"
   ]
  },
  {
   "cell_type": "code",
   "execution_count": null,
   "metadata": {},
   "outputs": [],
   "source": [
    "#prod_env = production_envelope(\n",
    "    #model, [\"EX_o2_e\"], objective=\"EX_ac_e\", carbon_sources=\"EX_glc__D_e\")\n",
    "\n",
    "#prod_env.plot(\n",
    "    #kind='line', x='EX_o2_e', y='carbon_yield_maximum');\n",
    "#Kom tilbage og kig på det her"
   ]
  }
 ],
 "metadata": {
  "kernelspec": {
   "display_name": "python3.6",
   "language": "python",
   "name": "python3.6"
  },
  "language_info": {
   "codemirror_mode": {
    "name": "ipython",
    "version": 3
   },
   "file_extension": ".py",
   "mimetype": "text/x-python",
   "name": "python",
   "nbconvert_exporter": "python",
   "pygments_lexer": "ipython3",
   "version": "3.6.12"
  }
 },
 "nbformat": 4,
 "nbformat_minor": 4
}

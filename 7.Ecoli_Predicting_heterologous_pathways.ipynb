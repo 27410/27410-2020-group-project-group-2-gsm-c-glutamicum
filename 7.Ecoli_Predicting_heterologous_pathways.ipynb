{
 "cells": [
  {
   "cell_type": "code",
   "execution_count": 3,
   "metadata": {},
   "outputs": [],
   "source": [
    "from IPython.display import display\n",
    "import re\n"
   ]
  },
  {
   "cell_type": "code",
   "execution_count": 4,
   "metadata": {},
   "outputs": [],
   "source": [
    "import cplex\n",
    "import re\n",
    "from cobra.io import read_sbml_model\n",
    "from cameo.strain_design import pathway_prediction"
   ]
  },
  {
   "cell_type": "code",
   "execution_count": 5,
   "metadata": {},
   "outputs": [
    {
     "name": "stdout",
     "output_type": "stream",
     "text": [
      "Putrescine\n",
      "ptrc_p\n",
      "Putrescine\n",
      "ptrc_c\n",
      "Putrescine\n",
      "ptrc_e\n",
      "41.09128205128201\n",
      "N-Acetyl-L-glutamate 5-semialdehyde\n",
      "acg5sa_c\n",
      "N2-Succinyl-L-glutamate 5-semialdehyde\n",
      "sucgsa_c\n",
      "L-Glutamate 5-semialdehyde\n",
      "glu5sa_c\n",
      "Ornithine\n",
      "orn_e\n",
      "Ornithine\n",
      "orn_p\n",
      "Ornithine\n",
      "orn_c\n",
      "2-Oxoglutarate\n",
      "akg_e\n",
      "2-Oxoglutarate\n",
      "akg_c\n",
      "2-Oxoglutarate\n",
      "akg_p\n",
      "L-Glutamate 1-semialdehyde\n",
      "glu1sa_c\n",
      "L-Glutamate\n",
      "glu__L_c\n",
      "L-Glutamate 5-semialdehyde\n",
      "glu5sa_c\n",
      "L-Glutamate\n",
      "glu__L_e\n",
      "L-Glutamate\n",
      "glu__L_p\n",
      "L-Glutamate 5-phosphate\n",
      "glu5p_c\n",
      "glu5sa_c + glu__L_c --> akg_c + orn_c\n",
      "53.0233333333333\n",
      "45.78742857142852\n",
      "L-Arginine\n",
      "arg__L_c\n",
      "L-Arginine\n",
      "arg__L_e\n",
      "L-Arginine\n",
      "arg__L_p\n",
      "Urea CH4N2O\n",
      "urea_c\n",
      "Urea CH4N2O\n",
      "urea_p\n",
      "Urea CH4N2O\n",
      "urea_e\n",
      "H2O H2O\n",
      "h2o_p\n",
      "H2O H2O\n",
      "h2o_c\n",
      "H2O H2O\n",
      "h2o_e\n",
      "arg__L_c + h2o_c --> orn_c + urea_c\n",
      "45.78742857142852\n"
     ]
    }
   ],
   "source": [
    "%run 2.Ecoli_model.ipynb"
   ]
  },
  {
   "cell_type": "code",
   "execution_count": 6,
   "metadata": {},
   "outputs": [],
   "source": [
    "predictor = pathway_prediction.PathwayPredictor(model)"
   ]
  },
  {
   "cell_type": "code",
   "execution_count": null,
   "metadata": {},
   "outputs": [],
   "source": [
    "pathways = predictor.run(product=\"Putrescine\", max_predictions=4)"
   ]
  },
  {
   "cell_type": "code",
   "execution_count": null,
   "metadata": {},
   "outputs": [],
   "source": []
  }
 ],
 "metadata": {
  "kernelspec": {
   "display_name": "python3.6",
   "language": "python",
   "name": "python3.6"
  },
  "language_info": {
   "codemirror_mode": {
    "name": "ipython",
    "version": 3
   },
   "file_extension": ".py",
   "mimetype": "text/x-python",
   "name": "python",
   "nbconvert_exporter": "python",
   "pygments_lexer": "ipython3",
   "version": "3.6.12"
  }
 },
 "nbformat": 4,
 "nbformat_minor": 4
}

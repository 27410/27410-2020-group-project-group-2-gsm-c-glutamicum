{
 "cells": [
  {
   "cell_type": "code",
   "execution_count": 1,
   "metadata": {},
   "outputs": [],
   "source": [
    "import numpy as np\n",
    "from cobra.io import read_sbml_model"
   ]
  },
  {
   "cell_type": "code",
   "execution_count": 2,
   "metadata": {},
   "outputs": [],
   "source": [
    "model = read_sbml_model('iML1515.xml.gz')"
   ]
  },
  {
   "cell_type": "markdown",
   "metadata": {},
   "source": [
    "We want to look at the model. See if it has fluxes"
   ]
  },
  {
   "cell_type": "code",
   "execution_count": 3,
   "metadata": {},
   "outputs": [
    {
     "data": {
      "text/plain": [
       "CYTDK2     0.00000\n",
       "XPPT       0.00000\n",
       "HXPRT      0.00000\n",
       "NDPK5      0.00000\n",
       "SHK3Dr     0.33424\n",
       "            ...   \n",
       "MPTS       0.00000\n",
       "MOCOS      0.00000\n",
       "BMOGDS2    0.00000\n",
       "FESD2s     0.00000\n",
       "OCTNLL     0.00000\n",
       "Name: fluxes, Length: 2712, dtype: float64"
      ]
     },
     "execution_count": 3,
     "metadata": {},
     "output_type": "execute_result"
    }
   ],
   "source": [
    "solution = model.optimize()\n",
    "solution.fluxes"
   ]
  },
  {
   "cell_type": "markdown",
   "metadata": {},
   "source": [
    "Checking what its objective is"
   ]
  },
  {
   "cell_type": "code",
   "execution_count": 4,
   "metadata": {},
   "outputs": [
    {
     "data": {
      "text/html": [
       "<div>\n",
       "<style scoped>\n",
       "    .dataframe tbody tr th:only-of-type {\n",
       "        vertical-align: middle;\n",
       "    }\n",
       "\n",
       "    .dataframe tbody tr th {\n",
       "        vertical-align: top;\n",
       "    }\n",
       "\n",
       "    .dataframe thead tr th {\n",
       "        text-align: left;\n",
       "    }\n",
       "</style>\n",
       "<table border=\"1\" class=\"dataframe\">\n",
       "  <thead>\n",
       "    <tr>\n",
       "      <th></th>\n",
       "      <th colspan=\"2\" halign=\"left\">IN_FLUXES</th>\n",
       "      <th colspan=\"2\" halign=\"left\">OUT_FLUXES</th>\n",
       "      <th colspan=\"2\" halign=\"left\">OBJECTIVES</th>\n",
       "    </tr>\n",
       "    <tr>\n",
       "      <th></th>\n",
       "      <th>ID</th>\n",
       "      <th>FLUX</th>\n",
       "      <th>ID</th>\n",
       "      <th>FLUX</th>\n",
       "      <th>ID</th>\n",
       "      <th>FLUX</th>\n",
       "    </tr>\n",
       "  </thead>\n",
       "  <tbody>\n",
       "    <tr>\n",
       "      <th>0</th>\n",
       "      <td>o2_e</td>\n",
       "      <td>22.131763</td>\n",
       "      <td>h2o_e</td>\n",
       "      <td>47.162365</td>\n",
       "      <td>BIOMASS_Ec_iML1515_core_75p37M</td>\n",
       "      <td>0.876997</td>\n",
       "    </tr>\n",
       "    <tr>\n",
       "      <th>1</th>\n",
       "      <td>glc__D_e</td>\n",
       "      <td>10.000000</td>\n",
       "      <td>co2_e</td>\n",
       "      <td>24.003293</td>\n",
       "      <td>NaN</td>\n",
       "      <td>NaN</td>\n",
       "    </tr>\n",
       "    <tr>\n",
       "      <th>2</th>\n",
       "      <td>nh4_e</td>\n",
       "      <td>9.471495</td>\n",
       "      <td>h_e</td>\n",
       "      <td>8.058200</td>\n",
       "      <td>NaN</td>\n",
       "      <td>NaN</td>\n",
       "    </tr>\n",
       "    <tr>\n",
       "      <th>3</th>\n",
       "      <td>pi_e</td>\n",
       "      <td>0.845957</td>\n",
       "      <td>NaN</td>\n",
       "      <td>NaN</td>\n",
       "      <td>NaN</td>\n",
       "      <td>NaN</td>\n",
       "    </tr>\n",
       "  </tbody>\n",
       "</table>\n",
       "</div>"
      ],
      "text/plain": [
       "<cobra.core.summary.model_summary.ModelSummary at 0x7f3ca13dacc0>"
      ]
     },
     "execution_count": 4,
     "metadata": {},
     "output_type": "execute_result"
    }
   ],
   "source": [
    "model.summary()"
   ]
  },
  {
   "cell_type": "markdown",
   "metadata": {},
   "source": [
    "We want to find the metabolite Purtescine in the model"
   ]
  },
  {
   "cell_type": "code",
   "execution_count": 5,
   "metadata": {},
   "outputs": [
    {
     "name": "stdout",
     "output_type": "stream",
     "text": [
      "Putrescine\n",
      "ptrc_p\n",
      "Putrescine\n",
      "ptrc_c\n",
      "Putrescine\n",
      "ptrc_e\n"
     ]
    }
   ],
   "source": [
    "for metabolite in model.metabolites.query('Putrescine', 'name'):\n",
    "    print(metabolite.name)\n",
    "    print(metabolite.id)"
   ]
  },
  {
   "cell_type": "code",
   "execution_count": 6,
   "metadata": {},
   "outputs": [
    {
     "data": {
      "text/html": [
       "\n",
       "        <table>\n",
       "            <tr>\n",
       "                <td><strong>Metabolite identifier</strong></td><td>ptrc_c</td>\n",
       "            </tr><tr>\n",
       "                <td><strong>Name</strong></td><td>Putrescine</td>\n",
       "            </tr><tr>\n",
       "                <td><strong>Memory address</strong></td>\n",
       "                <td>0x07f3ca293d9e8</td>\n",
       "            </tr><tr>\n",
       "                <td><strong>Formula</strong></td><td>C4H14N2</td>\n",
       "            </tr><tr>\n",
       "                <td><strong>Compartment</strong></td><td>c</td>\n",
       "            </tr><tr>\n",
       "                <td><strong>In 9 reaction(s)</strong></td><td>\n",
       "                    ORNDC, SPMS, PTRCt2pp, PTRCTA, AGMT, BIOMASS_Ec_iML1515_WT_75p37M, PTRCabcpp, GGPTRCS, PTRCORNt7pp</td>\n",
       "            </tr>\n",
       "        </table>"
      ],
      "text/plain": [
       "<Metabolite ptrc_c at 0x7f3ca293d9e8>"
      ]
     },
     "execution_count": 6,
     "metadata": {},
     "output_type": "execute_result"
    }
   ],
   "source": [
    "model.metabolites.get_by_id('ptrc_c') # Putrescine"
   ]
  },
  {
   "cell_type": "markdown",
   "metadata": {},
   "source": [
    "The reaction that produces purtescine from onithine is native to E.coli"
   ]
  },
  {
   "cell_type": "code",
   "execution_count": 7,
   "metadata": {},
   "outputs": [
    {
     "data": {
      "text/html": [
       "\n",
       "        <table>\n",
       "            <tr>\n",
       "                <td><strong>Reaction identifier</strong></td><td>ORNDC</td>\n",
       "            </tr><tr>\n",
       "                <td><strong>Name</strong></td><td>Ornithine Decarboxylase</td>\n",
       "            </tr><tr>\n",
       "                <td><strong>Memory address</strong></td>\n",
       "                <td>0x07f3ca14e0400</td>\n",
       "            </tr><tr>\n",
       "                <td><strong>Stoichiometry</strong></td>\n",
       "                <td>\n",
       "                    <p style='text-align:right'>h_c + orn_c --> co2_c + ptrc_c</p>\n",
       "                    <p style='text-align:right'>H+ + Ornithine --> CO2 CO2 + Putrescine</p>\n",
       "                </td>\n",
       "            </tr><tr>\n",
       "                <td><strong>GPR</strong></td><td>b2965 or b0693</td>\n",
       "            </tr><tr>\n",
       "                <td><strong>Lower bound</strong></td><td>0.0</td>\n",
       "            </tr><tr>\n",
       "                <td><strong>Upper bound</strong></td><td>1000.0</td>\n",
       "            </tr>\n",
       "        </table>\n",
       "        "
      ],
      "text/plain": [
       "<Reaction ORNDC at 0x7f3ca14e0400>"
      ]
     },
     "execution_count": 7,
     "metadata": {},
     "output_type": "execute_result"
    }
   ],
   "source": [
    "model.reactions.ORNDC"
   ]
  },
  {
   "cell_type": "markdown",
   "metadata": {},
   "source": [
    "We want to check the flux"
   ]
  },
  {
   "cell_type": "code",
   "execution_count": 8,
   "metadata": {},
   "outputs": [
    {
     "name": "stdout",
     "output_type": "stream",
     "text": [
      "41.09128205128201\n"
     ]
    }
   ],
   "source": [
    "with model:\n",
    "    model.objective = model.reactions.ORNDC\n",
    "    print(model.optimize().objective_value)  # We produce Purtescine"
   ]
  },
  {
   "cell_type": "markdown",
   "metadata": {},
   "source": [
    "# Adding enzyme 2.6.1.13"
   ]
  },
  {
   "cell_type": "code",
   "execution_count": 9,
   "metadata": {},
   "outputs": [],
   "source": [
    "from cobra import Reaction, Metabolite"
   ]
  },
  {
   "cell_type": "markdown",
   "metadata": {},
   "source": [
    "To make E. Coli produce putrescine we need to add the reaction of the enzyme 2.6.1.13.\n",
    "This is the same as we added in C. Glutamicum."
   ]
  },
  {
   "cell_type": "code",
   "execution_count": 10,
   "metadata": {},
   "outputs": [],
   "source": [
    "new_reaction_1 = Reaction('OAT')  # OAT -> (o)rnithine (a)mino(t)ransferase"
   ]
  },
  {
   "cell_type": "code",
   "execution_count": 11,
   "metadata": {},
   "outputs": [
    {
     "name": "stdout",
     "output_type": "stream",
     "text": [
      "N-Acetyl-L-glutamate 5-semialdehyde\n",
      "acg5sa_c\n",
      "N2-Succinyl-L-glutamate 5-semialdehyde\n",
      "sucgsa_c\n",
      "L-Glutamate 5-semialdehyde\n",
      "glu5sa_c\n"
     ]
    }
   ],
   "source": [
    "for metabolite in model.metabolites.query('5-semialdehyde', 'name'):\n",
    "    print(metabolite.name)\n",
    "    print(metabolite.id)"
   ]
  },
  {
   "cell_type": "code",
   "execution_count": 12,
   "metadata": {},
   "outputs": [
    {
     "data": {
      "text/html": [
       "\n",
       "        <table>\n",
       "            <tr>\n",
       "                <td><strong>Metabolite identifier</strong></td><td>glu5sa_c</td>\n",
       "            </tr><tr>\n",
       "                <td><strong>Name</strong></td><td>L-Glutamate 5-semialdehyde</td>\n",
       "            </tr><tr>\n",
       "                <td><strong>Memory address</strong></td>\n",
       "                <td>0x07f3ca2a57ac8</td>\n",
       "            </tr><tr>\n",
       "                <td><strong>Formula</strong></td><td>C5H9NO3</td>\n",
       "            </tr><tr>\n",
       "                <td><strong>Compartment</strong></td><td>c</td>\n",
       "            </tr><tr>\n",
       "                <td><strong>In 2 reaction(s)</strong></td><td>\n",
       "                    G5SD, G5SADs</td>\n",
       "            </tr>\n",
       "        </table>"
      ],
      "text/plain": [
       "<Metabolite glu5sa_c at 0x7f3ca2a57ac8>"
      ]
     },
     "execution_count": 12,
     "metadata": {},
     "output_type": "execute_result"
    }
   ],
   "source": [
    "model.metabolites.get_by_id('glu5sa_c') # L-glutamate 5-semialdehyde"
   ]
  },
  {
   "cell_type": "markdown",
   "metadata": {},
   "source": [
    "We see that the two reactions L-glutamate 5-semialdehyde is part of correspond to the ones seen in the KEGG pathway map. We now need to find the other metabolites that play a role in conversion of L-glutamate 5-semialdehyde to ornithine."
   ]
  },
  {
   "cell_type": "code",
   "execution_count": 13,
   "metadata": {},
   "outputs": [
    {
     "name": "stdout",
     "output_type": "stream",
     "text": [
      "Ornithine\n",
      "orn_e\n",
      "Ornithine\n",
      "orn_p\n",
      "Ornithine\n",
      "orn_c\n"
     ]
    }
   ],
   "source": [
    "for metabolite in model.metabolites.query('Ornithine', 'name'):\n",
    "    print(metabolite.name)\n",
    "    print(metabolite.id)"
   ]
  },
  {
   "cell_type": "code",
   "execution_count": 14,
   "metadata": {},
   "outputs": [
    {
     "data": {
      "text/html": [
       "\n",
       "        <table>\n",
       "            <tr>\n",
       "                <td><strong>Metabolite identifier</strong></td><td>orn_c</td>\n",
       "            </tr><tr>\n",
       "                <td><strong>Name</strong></td><td>Ornithine</td>\n",
       "            </tr><tr>\n",
       "                <td><strong>Memory address</strong></td>\n",
       "                <td>0x07f3ca2972470</td>\n",
       "            </tr><tr>\n",
       "                <td><strong>Formula</strong></td><td>C5H13N2O2</td>\n",
       "            </tr><tr>\n",
       "                <td><strong>Compartment</strong></td><td>c</td>\n",
       "            </tr><tr>\n",
       "                <td><strong>In 6 reaction(s)</strong></td><td>\n",
       "                    ORNDC, ORNabcpp, OCBT, ACODA, ARGORNt7pp, PTRCORNt7pp</td>\n",
       "            </tr>\n",
       "        </table>"
      ],
      "text/plain": [
       "<Metabolite orn_c at 0x7f3ca2972470>"
      ]
     },
     "execution_count": 14,
     "metadata": {},
     "output_type": "execute_result"
    }
   ],
   "source": [
    "model.metabolites.get_by_id('orn_c') # Ornithine"
   ]
  },
  {
   "cell_type": "markdown",
   "metadata": {},
   "source": []
  },
  {
   "cell_type": "code",
   "execution_count": 15,
   "metadata": {},
   "outputs": [
    {
     "name": "stdout",
     "output_type": "stream",
     "text": [
      "2-Oxoglutarate\n",
      "akg_e\n",
      "2-Oxoglutarate\n",
      "akg_c\n",
      "2-Oxoglutarate\n",
      "akg_p\n"
     ]
    }
   ],
   "source": [
    "for metabolite in model.metabolites.query('Oxoglutarate', 'name'):\n",
    "    print(metabolite.name)\n",
    "    print(metabolite.id)"
   ]
  },
  {
   "cell_type": "code",
   "execution_count": 16,
   "metadata": {},
   "outputs": [
    {
     "data": {
      "text/html": [
       "\n",
       "        <table>\n",
       "            <tr>\n",
       "                <td><strong>Metabolite identifier</strong></td><td>akg_c</td>\n",
       "            </tr><tr>\n",
       "                <td><strong>Name</strong></td><td>2-Oxoglutarate</td>\n",
       "            </tr><tr>\n",
       "                <td><strong>Memory address</strong></td>\n",
       "                <td>0x07f3ca2cb9160</td>\n",
       "            </tr><tr>\n",
       "                <td><strong>Formula</strong></td><td>C5H4O5</td>\n",
       "            </tr><tr>\n",
       "                <td><strong>Compartment</strong></td><td>c</td>\n",
       "            </tr><tr>\n",
       "                <td><strong>In 28 reaction(s)</strong></td><td>\n",
       "                    ICDHyr, VALTA, ILETA, SOTA, OHPBAT, AHGDx, ACOTA, TDPAGTA, ABTA, AKGDH, TYRTA, SDPTA, UDPKAAT, PHETA1, GLUSy, SHGO, AKGt2rpp, GLUDy, ALATA_L, PTRCTA, PSERT, ARHGDx, LEUTAi, ASPTA, TAUDO, SEPHCHCS, ...</td>\n",
       "            </tr>\n",
       "        </table>"
      ],
      "text/plain": [
       "<Metabolite akg_c at 0x7f3ca2cb9160>"
      ]
     },
     "execution_count": 16,
     "metadata": {},
     "output_type": "execute_result"
    }
   ],
   "source": [
    "model.metabolites.get_by_id('akg_c') # 2-Oxoglutarate"
   ]
  },
  {
   "cell_type": "code",
   "execution_count": 17,
   "metadata": {},
   "outputs": [
    {
     "name": "stdout",
     "output_type": "stream",
     "text": [
      "L-Glutamate 1-semialdehyde\n",
      "glu1sa_c\n",
      "L-Glutamate\n",
      "glu__L_c\n",
      "L-Glutamate 5-semialdehyde\n",
      "glu5sa_c\n",
      "L-Glutamate\n",
      "glu__L_e\n",
      "L-Glutamate\n",
      "glu__L_p\n",
      "L-Glutamate 5-phosphate\n",
      "glu5p_c\n"
     ]
    }
   ],
   "source": [
    "for metabolite in model.metabolites.query('L-Glutamate', 'name'):\n",
    "    print(metabolite.name)\n",
    "    print(metabolite.id)"
   ]
  },
  {
   "cell_type": "code",
   "execution_count": 18,
   "metadata": {},
   "outputs": [
    {
     "data": {
      "text/html": [
       "\n",
       "        <table>\n",
       "            <tr>\n",
       "                <td><strong>Metabolite identifier</strong></td><td>glu__L_c</td>\n",
       "            </tr><tr>\n",
       "                <td><strong>Name</strong></td><td>L-Glutamate</td>\n",
       "            </tr><tr>\n",
       "                <td><strong>Memory address</strong></td>\n",
       "                <td>0x07f3ca2a54a58</td>\n",
       "            </tr><tr>\n",
       "                <td><strong>Formula</strong></td><td>C5H8NO4</td>\n",
       "            </tr><tr>\n",
       "                <td><strong>Compartment</strong></td><td>c</td>\n",
       "            </tr><tr>\n",
       "                <td><strong>In 51 reaction(s)</strong></td><td>\n",
       "                    GLUR, GLU5K, VALTA, GMPS2, P5CD, ANS, OHPBAT, ACOTA, ABTA, GLUDC, SDPTA, GLUCYS, TYRTA, UDPKAAT, GLUSy, BIOMASS_Ec_iML1515_core_75p37M, GLUDy, ALATA_L, CTPS2, 4ABZGLUH, BIOMASS_Ec_iML1515_WT_75p37M...</td>\n",
       "            </tr>\n",
       "        </table>"
      ],
      "text/plain": [
       "<Metabolite glu__L_c at 0x7f3ca2a54a58>"
      ]
     },
     "execution_count": 18,
     "metadata": {},
     "output_type": "execute_result"
    }
   ],
   "source": [
    "model.metabolites.get_by_id('glu__L_c') # L-Glutamate"
   ]
  },
  {
   "cell_type": "markdown",
   "metadata": {},
   "source": [
    "Now we add the reaction to produce ornithine"
   ]
  },
  {
   "cell_type": "code",
   "execution_count": 19,
   "metadata": {},
   "outputs": [],
   "source": [
    "new_reaction_1.add_metabolites({model.metabolites.get_by_id('glu5sa_c'): -1, # L-glutamate 5-semialdehyde\n",
    "                              model.metabolites.get_by_id('glu__L_c'): -1, # L-glutamate \n",
    "                              model.metabolites.get_by_id('orn_c'): 1, # L-ornithine\n",
    "                              model.metabolites.get_by_id('akg_c'): 1 # 2-oxoglutarate\n",
    "                             })"
   ]
  },
  {
   "cell_type": "code",
   "execution_count": 20,
   "metadata": {},
   "outputs": [
    {
     "name": "stdout",
     "output_type": "stream",
     "text": [
      "glu5sa_c + glu__L_c --> akg_c + orn_c\n"
     ]
    }
   ],
   "source": [
    "print(new_reaction_1.build_reaction_string())"
   ]
  },
  {
   "cell_type": "code",
   "execution_count": 21,
   "metadata": {},
   "outputs": [
    {
     "data": {
      "text/html": [
       "\n",
       "        <table>\n",
       "            <tr>\n",
       "                <td><strong>Reaction identifier</strong></td><td>OAT</td>\n",
       "            </tr><tr>\n",
       "                <td><strong>Name</strong></td><td></td>\n",
       "            </tr><tr>\n",
       "                <td><strong>Memory address</strong></td>\n",
       "                <td>0x07f3ca17160f0</td>\n",
       "            </tr><tr>\n",
       "                <td><strong>Stoichiometry</strong></td>\n",
       "                <td>\n",
       "                    <p style='text-align:right'>glu5sa_c + glu__L_c --> akg_c + orn_c</p>\n",
       "                    <p style='text-align:right'>L-Glutamate 5-semialdehyde + L-Glutamate --> 2-Oxoglutarate + Ornithine</p>\n",
       "                </td>\n",
       "            </tr><tr>\n",
       "                <td><strong>GPR</strong></td><td></td>\n",
       "            </tr><tr>\n",
       "                <td><strong>Lower bound</strong></td><td>0.0</td>\n",
       "            </tr><tr>\n",
       "                <td><strong>Upper bound</strong></td><td>1000.0</td>\n",
       "            </tr>\n",
       "        </table>\n",
       "        "
      ],
      "text/plain": [
       "<Reaction OAT at 0x7f3ca17160f0>"
      ]
     },
     "execution_count": 21,
     "metadata": {},
     "output_type": "execute_result"
    }
   ],
   "source": [
    "model.add_reactions([new_reaction_1])\n",
    "model.reactions.OAT"
   ]
  },
  {
   "cell_type": "code",
   "execution_count": 22,
   "metadata": {},
   "outputs": [
    {
     "name": "stdout",
     "output_type": "stream",
     "text": [
      "53.0233333333333\n"
     ]
    }
   ],
   "source": [
    "with model:\n",
    "    model.objective = model.reactions.OAT\n",
    "    print(model.optimize().objective_value)  # We produce L-ornithine"
   ]
  },
  {
   "cell_type": "markdown",
   "metadata": {},
   "source": [
    "We want to see production rate of putrescine now after we have added a new path via glutamate"
   ]
  },
  {
   "cell_type": "code",
   "execution_count": 23,
   "metadata": {},
   "outputs": [
    {
     "name": "stdout",
     "output_type": "stream",
     "text": [
      "45.78742857142852\n"
     ]
    }
   ],
   "source": [
    "with model:\n",
    "    model.objective = model.reactions.ORNDC\n",
    "    print(model.optimize().objective_value)  # We produce Purtescine"
   ]
  },
  {
   "cell_type": "markdown",
   "metadata": {},
   "source": [
    "We see that the production rate of putrescine increases from 41.09 to 45.79"
   ]
  },
  {
   "cell_type": "markdown",
   "metadata": {},
   "source": [
    "# Adding enzyme 3.5.3.1"
   ]
  },
  {
   "cell_type": "markdown",
   "metadata": {},
   "source": [
    "Uses L-arginine and H2O to make L-ornithine and Urea"
   ]
  },
  {
   "cell_type": "code",
   "execution_count": 24,
   "metadata": {},
   "outputs": [
    {
     "name": "stdout",
     "output_type": "stream",
     "text": [
      "L-Arginine\n",
      "arg__L_c\n",
      "L-Arginine\n",
      "arg__L_e\n",
      "L-Arginine\n",
      "arg__L_p\n"
     ]
    }
   ],
   "source": [
    "for metabolite in model.metabolites.query('L-Arginine', 'name'):\n",
    "    print(metabolite.name)\n",
    "    print(metabolite.id)"
   ]
  },
  {
   "cell_type": "code",
   "execution_count": 25,
   "metadata": {},
   "outputs": [
    {
     "name": "stdout",
     "output_type": "stream",
     "text": [
      "Urea CH4N2O\n",
      "urea_c\n",
      "Urea CH4N2O\n",
      "urea_p\n",
      "Urea CH4N2O\n",
      "urea_e\n"
     ]
    }
   ],
   "source": [
    "for metabolite in model.metabolites.query('Urea', 'name'):\n",
    "    print(metabolite.name)\n",
    "    print(metabolite.id)"
   ]
  },
  {
   "cell_type": "code",
   "execution_count": 26,
   "metadata": {},
   "outputs": [
    {
     "name": "stdout",
     "output_type": "stream",
     "text": [
      "H2O H2O\n",
      "h2o_p\n",
      "H2O H2O\n",
      "h2o_c\n",
      "H2O H2O\n",
      "h2o_e\n"
     ]
    }
   ],
   "source": [
    "for metabolite in model.metabolites.query('H2O', 'name'):\n",
    "    print(metabolite.name)\n",
    "    print(metabolite.id)"
   ]
  },
  {
   "cell_type": "code",
   "execution_count": 27,
   "metadata": {},
   "outputs": [],
   "source": [
    "new_reaction_2 = Reaction('AAH')  # AAH -> L-arginine amidinohydrolase"
   ]
  },
  {
   "cell_type": "code",
   "execution_count": 28,
   "metadata": {},
   "outputs": [],
   "source": [
    "new_reaction_2.add_metabolites({model.metabolites.get_by_id('arg__L_c'): -1, # L-arginine\n",
    "                              model.metabolites.get_by_id('h2o_c'): -1, # H2O \n",
    "                              model.metabolites.get_by_id('orn_c'): 1, # L-ornithine\n",
    "                              model.metabolites.get_by_id('urea_c'): 1 # Urea\n",
    "                             })"
   ]
  },
  {
   "cell_type": "code",
   "execution_count": 29,
   "metadata": {},
   "outputs": [
    {
     "name": "stdout",
     "output_type": "stream",
     "text": [
      "arg__L_c + h2o_c --> orn_c + urea_c\n"
     ]
    }
   ],
   "source": [
    "print(new_reaction_2.build_reaction_string())"
   ]
  },
  {
   "cell_type": "code",
   "execution_count": 30,
   "metadata": {},
   "outputs": [
    {
     "data": {
      "text/html": [
       "\n",
       "        <table>\n",
       "            <tr>\n",
       "                <td><strong>Reaction identifier</strong></td><td>AAH</td>\n",
       "            </tr><tr>\n",
       "                <td><strong>Name</strong></td><td></td>\n",
       "            </tr><tr>\n",
       "                <td><strong>Memory address</strong></td>\n",
       "                <td>0x07f3ca1764c88</td>\n",
       "            </tr><tr>\n",
       "                <td><strong>Stoichiometry</strong></td>\n",
       "                <td>\n",
       "                    <p style='text-align:right'>arg__L_c + h2o_c --> orn_c + urea_c</p>\n",
       "                    <p style='text-align:right'>L-Arginine + H2O H2O --> Ornithine + Urea CH4N2O</p>\n",
       "                </td>\n",
       "            </tr><tr>\n",
       "                <td><strong>GPR</strong></td><td></td>\n",
       "            </tr><tr>\n",
       "                <td><strong>Lower bound</strong></td><td>0.0</td>\n",
       "            </tr><tr>\n",
       "                <td><strong>Upper bound</strong></td><td>1000.0</td>\n",
       "            </tr>\n",
       "        </table>\n",
       "        "
      ],
      "text/plain": [
       "<Reaction AAH at 0x7f3ca1764c88>"
      ]
     },
     "execution_count": 30,
     "metadata": {},
     "output_type": "execute_result"
    }
   ],
   "source": [
    "model.add_reactions([new_reaction_2])\n",
    "model.reactions.AAH"
   ]
  },
  {
   "cell_type": "code",
   "execution_count": 31,
   "metadata": {},
   "outputs": [
    {
     "name": "stdout",
     "output_type": "stream",
     "text": [
      "45.78742857142852\n"
     ]
    }
   ],
   "source": [
    "with model:\n",
    "    model.objective = model.reactions.ORNDC\n",
    "    print(model.optimize().objective_value)  # We produce Purtescine"
   ]
  },
  {
   "cell_type": "markdown",
   "metadata": {},
   "source": [
    "# Finding theoretical yield"
   ]
  },
  {
   "cell_type": "markdown",
   "metadata": {},
   "source": [
    "We want to add a reaction that excretes putrescine"
   ]
  },
  {
   "cell_type": "code",
   "execution_count": 32,
   "metadata": {},
   "outputs": [
    {
     "data": {
      "text/html": [
       "\n",
       "        <table>\n",
       "            <tr>\n",
       "                <td><strong>Reaction identifier</strong></td><td>DM_ptrc_c</td>\n",
       "            </tr><tr>\n",
       "                <td><strong>Name</strong></td><td>Putrescine demand</td>\n",
       "            </tr><tr>\n",
       "                <td><strong>Memory address</strong></td>\n",
       "                <td>0x07f3ca175a208</td>\n",
       "            </tr><tr>\n",
       "                <td><strong>Stoichiometry</strong></td>\n",
       "                <td>\n",
       "                    <p style='text-align:right'>ptrc_c --> </p>\n",
       "                    <p style='text-align:right'>Putrescine --> </p>\n",
       "                </td>\n",
       "            </tr><tr>\n",
       "                <td><strong>GPR</strong></td><td></td>\n",
       "            </tr><tr>\n",
       "                <td><strong>Lower bound</strong></td><td>0</td>\n",
       "            </tr><tr>\n",
       "                <td><strong>Upper bound</strong></td><td>1000.0</td>\n",
       "            </tr>\n",
       "        </table>\n",
       "        "
      ],
      "text/plain": [
       "<Reaction DM_ptrc_c at 0x7f3ca175a208>"
      ]
     },
     "execution_count": 32,
     "metadata": {},
     "output_type": "execute_result"
    }
   ],
   "source": [
    "model.add_boundary(model.metabolites.ptrc_c, type='demand')"
   ]
  },
  {
   "cell_type": "markdown",
   "metadata": {},
   "source": [
    "We want to look at the medium composition"
   ]
  },
  {
   "cell_type": "code",
   "execution_count": 33,
   "metadata": {},
   "outputs": [
    {
     "data": {
      "text/plain": [
       "{'EX_pi_e': 1000.0,\n",
       " 'EX_co2_e': 1000.0,\n",
       " 'EX_fe3_e': 1000.0,\n",
       " 'EX_h_e': 1000.0,\n",
       " 'EX_mn2_e': 1000.0,\n",
       " 'EX_fe2_e': 1000.0,\n",
       " 'EX_glc__D_e': 10.0,\n",
       " 'EX_zn2_e': 1000.0,\n",
       " 'EX_mg2_e': 1000.0,\n",
       " 'EX_ca2_e': 1000.0,\n",
       " 'EX_ni2_e': 1000.0,\n",
       " 'EX_cu2_e': 1000.0,\n",
       " 'EX_sel_e': 1000.0,\n",
       " 'EX_cobalt2_e': 1000.0,\n",
       " 'EX_h2o_e': 1000.0,\n",
       " 'EX_mobd_e': 1000.0,\n",
       " 'EX_so4_e': 1000.0,\n",
       " 'EX_nh4_e': 1000.0,\n",
       " 'EX_k_e': 1000.0,\n",
       " 'EX_na1_e': 1000.0,\n",
       " 'EX_cl_e': 1000.0,\n",
       " 'EX_o2_e': 1000.0,\n",
       " 'EX_tungs_e': 1000.0,\n",
       " 'EX_slnt_e': 1000.0}"
      ]
     },
     "execution_count": 33,
     "metadata": {},
     "output_type": "execute_result"
    }
   ],
   "source": [
    "model.medium"
   ]
  },
  {
   "cell_type": "markdown",
   "metadata": {},
   "source": [
    "We find the maximal theoretical yield of putrescine both before and after adding our reaction OAT. "
   ]
  },
  {
   "cell_type": "code",
   "execution_count": 34,
   "metadata": {},
   "outputs": [
    {
     "name": "stdout",
     "output_type": "stream",
     "text": [
      "Max. putriscine production [mmol gDW^-1 h^-1]: 9.653333333333332\n",
      "Theoretical max. yield [mmol-put / mmol-glc]: 0.9653333333333333\n"
     ]
    }
   ],
   "source": [
    "medium = model.medium\n",
    "with model:\n",
    "    model.reactions.OAT.bounds = 0,0\n",
    "    model.medium = medium\n",
    "    model.objective = model.reactions.DM_ptrc_c\n",
    "    put_production = model.optimize().objective_value\n",
    "    print(\"Max. putriscine production [mmol gDW^-1 h^-1]:\", put_production)\n",
    "    print(\"Theoretical max. yield [mmol-put / mmol-glc]:\", put_production / (-1*model.reactions.EX_glc__D_e.flux))"
   ]
  },
  {
   "cell_type": "code",
   "execution_count": 35,
   "metadata": {},
   "outputs": [
    {
     "name": "stdout",
     "output_type": "stream",
     "text": [
      "Max. putriscine production [mmol gDW^-1 h^-1]: 10.01910447761193\n",
      "Theoretical max. yield [mmol-put / mmol-glc]: 1.0019104477611929\n"
     ]
    }
   ],
   "source": [
    "medium = model.medium\n",
    "with model:\n",
    "    model.medium = medium\n",
    "    model.objective = model.reactions.DM_ptrc_c\n",
    "    put_production = model.optimize().objective_value\n",
    "    print(\"Max. putriscine production [mmol gDW^-1 h^-1]:\", put_production)\n",
    "    print(\"Theoretical max. yield [mmol-put / mmol-glc]:\", put_production / (-1*model.reactions.EX_glc__D_e.flux))"
   ]
  },
  {
   "cell_type": "markdown",
   "metadata": {},
   "source": [
    "We see an increase in theoretical yield."
   ]
  },
  {
   "cell_type": "markdown",
   "metadata": {},
   "source": [
    "# Testing"
   ]
  },
  {
   "cell_type": "code",
   "execution_count": 36,
   "metadata": {},
   "outputs": [
    {
     "name": "stdout",
     "output_type": "stream",
     "text": [
      "O-succinylbenzoate-CoA synthase\n",
      "SUCBZS\n",
      "Succinyl-diaminopimelate desuccinylase\n",
      "SDPDS\n",
      "Arginine succinyltransferase\n",
      "AST\n",
      "Succinylglutamate desuccinylase\n",
      "SGDS\n",
      "Homoserine O-succinyltransferase\n",
      "HSST\n",
      "O-succinylhomoserine lyase (L-cysteine)\n",
      "SHSL1\n",
      "Tetrahydrodipicolinate succinylase\n",
      "THDPS\n",
      "O-succinylbenzoate-CoA ligase\n",
      "SUCBZL\n",
      "2-succinyl-6-hydroxy-2,4-cyclohexadiene 1-carboxylate synthase\n",
      "SHCHCS3\n",
      "2-succinyl-5-enolpyruvyl-6-hydroxy-3-cyclohexene-1-carboxylate synthase\n",
      "SEPHCHCS\n"
     ]
    }
   ],
   "source": [
    "for reaction in model.reactions.query('succinyl', 'name'):\n",
    "    print(reaction.name)\n",
    "    print(reaction.id)"
   ]
  },
  {
   "cell_type": "code",
   "execution_count": 37,
   "metadata": {},
   "outputs": [
    {
     "data": {
      "text/html": [
       "\n",
       "        <table>\n",
       "            <tr>\n",
       "                <td><strong>Reaction identifier</strong></td><td>AST</td>\n",
       "            </tr><tr>\n",
       "                <td><strong>Name</strong></td><td>Arginine succinyltransferase</td>\n",
       "            </tr><tr>\n",
       "                <td><strong>Memory address</strong></td>\n",
       "                <td>0x07f3ca1fc2908</td>\n",
       "            </tr><tr>\n",
       "                <td><strong>Stoichiometry</strong></td>\n",
       "                <td>\n",
       "                    <p style='text-align:right'>arg__L_c + succoa_c --> coa_c + h_c + sucarg_c</p>\n",
       "                    <p style='text-align:right'>L-Arginine + Succinyl-CoA --> Coenzyme A + H+ + N2-Succinyl-L-arginine</p>\n",
       "                </td>\n",
       "            </tr><tr>\n",
       "                <td><strong>GPR</strong></td><td>b1747</td>\n",
       "            </tr><tr>\n",
       "                <td><strong>Lower bound</strong></td><td>0.0</td>\n",
       "            </tr><tr>\n",
       "                <td><strong>Upper bound</strong></td><td>1000.0</td>\n",
       "            </tr>\n",
       "        </table>\n",
       "        "
      ],
      "text/plain": [
       "<Reaction AST at 0x7f3ca1fc2908>"
      ]
     },
     "execution_count": 37,
     "metadata": {},
     "output_type": "execute_result"
    }
   ],
   "source": [
    "model.reactions.AST"
   ]
  },
  {
   "cell_type": "code",
   "execution_count": 38,
   "metadata": {},
   "outputs": [
    {
     "name": "stdout",
     "output_type": "stream",
     "text": [
      "Max. putriscine production [mmol gDW^-1 h^-1]: 10.01910447761193\n",
      "Theoretical max. yield [mmol-put / mmol-glc]: 1.0019104477611929\n"
     ]
    }
   ],
   "source": [
    "medium = model.medium\n",
    "with model:\n",
    "    model.medium = medium\n",
    "    model.reactions.AST.bounds = 0,0\n",
    "    model.reactions.AAH.bounds = 0,0\n",
    "    model.objective = model.reactions.DM_ptrc_c\n",
    "    put_production = model.optimize().objective_value\n",
    "    print(\"Max. putriscine production [mmol gDW^-1 h^-1]:\", put_production)\n",
    "    print(\"Theoretical max. yield [mmol-put / mmol-glc]:\", put_production / (-1*model.reactions.EX_glc__D_e.flux))"
   ]
  },
  {
   "cell_type": "code",
   "execution_count": 39,
   "metadata": {},
   "outputs": [
    {
     "name": "stdout",
     "output_type": "stream",
     "text": [
      "Orotidine-5'-phosphate decarboxylase\n",
      "OMPDC\n",
      "Uroporphyrinogen decarboxylase (uroporphyrinogen III)\n",
      "UPPDC1\n",
      "Phosphoribosylaminoimidazole carboxylase (mutase rxn)\n",
      "AIRC3\n",
      "Phosphopantothenoylcysteine decarboxylase\n",
      "PPCDC\n",
      "Acetyl-CoA carboxylase\n",
      "ACCOAC\n",
      "Adenosylmethionine decarboxylase\n",
      "ADMDC\n",
      "Arginine decarboxylase\n",
      "ARGDC\n",
      "Oxaloacetate decarboxylase\n",
      "OAADC\n",
      "Malonyl-ACP decarboxylase\n",
      "MACPD\n",
      "Phosphoenolpyruvate carboxylase\n",
      "PPC\n",
      "Octaprenyl-hydroxybenzoate decarboxylase\n",
      "OPHBDC\n",
      "3-keto-L-gulonate 6-phosphate decarboxylase\n",
      "KG6PDC\n",
      "Aspartate 1-decarboxylase\n",
      "ASP1DC\n",
      "Diaminopimelate decarboxylase\n",
      "DAPDC\n",
      "Phosphoribosylaminoimidazole carboxylase\n",
      "AIRC2\n",
      "Glutamate Decarboxylase\n",
      "GLUDC\n",
      "Arginine decarboxylase\n",
      "ARGDCpp\n",
      "Lysine decarboxylase\n",
      "LYSDC\n",
      "UDP-glucuronate C-4'' decarboxylase\n",
      "UDPGDC\n",
      "Methylmalonyl-CoA decarboxylase\n",
      "MMCD\n",
      "Ornithine Decarboxylase\n",
      "ORNDC\n",
      "Phosphatidylserine decarboxylase (n-C16:0)\n",
      "PSD160\n",
      "Phosphatidylserine decarboxylase (n-C16:1)\n",
      "PSD161\n",
      "Phosphatidylserine decarboxylase (n-C18:0)\n",
      "PSD180\n",
      "Phosphatidylserine decarboxylase (n-C14:0)\n",
      "PSD140\n",
      "Phosphatidylserine decarboxylase (n-C14:1)\n",
      "PSD141\n",
      "Phosphatidylserine decarboxylase (n-C12:0)\n",
      "PSD120\n",
      "Phosphatidylserine decarboxylase (n-C18:1)\n",
      "PSD181\n",
      "Oxalyl-CoA decarboxylase\n",
      "OXCDC\n"
     ]
    }
   ],
   "source": [
    "for reaction in model.reactions.query('carboxylase', 'name'):\n",
    "    print(reaction.name)\n",
    "    print(reaction.id)"
   ]
  },
  {
   "cell_type": "code",
   "execution_count": 40,
   "metadata": {},
   "outputs": [
    {
     "data": {
      "text/html": [
       "\n",
       "        <table>\n",
       "            <tr>\n",
       "                <td><strong>Reaction identifier</strong></td><td>ARGDC</td>\n",
       "            </tr><tr>\n",
       "                <td><strong>Name</strong></td><td>Arginine decarboxylase</td>\n",
       "            </tr><tr>\n",
       "                <td><strong>Memory address</strong></td>\n",
       "                <td>0x07f3ca214e630</td>\n",
       "            </tr><tr>\n",
       "                <td><strong>Stoichiometry</strong></td>\n",
       "                <td>\n",
       "                    <p style='text-align:right'>arg__L_c + h_c --> agm_c + co2_c</p>\n",
       "                    <p style='text-align:right'>L-Arginine + H+ --> Agmatine + CO2 CO2</p>\n",
       "                </td>\n",
       "            </tr><tr>\n",
       "                <td><strong>GPR</strong></td><td>b4117</td>\n",
       "            </tr><tr>\n",
       "                <td><strong>Lower bound</strong></td><td>0.0</td>\n",
       "            </tr><tr>\n",
       "                <td><strong>Upper bound</strong></td><td>1000.0</td>\n",
       "            </tr>\n",
       "        </table>\n",
       "        "
      ],
      "text/plain": [
       "<Reaction ARGDC at 0x7f3ca214e630>"
      ]
     },
     "execution_count": 40,
     "metadata": {},
     "output_type": "execute_result"
    }
   ],
   "source": [
    "model.reactions.ARGDC"
   ]
  },
  {
   "cell_type": "code",
   "execution_count": 41,
   "metadata": {},
   "outputs": [
    {
     "name": "stdout",
     "output_type": "stream",
     "text": [
      "Max. putriscine production [mmol gDW^-1 h^-1]: 10.01910447761193\n",
      "Theoretical max. yield [mmol-put / mmol-glc]: 1.0019104477611929\n"
     ]
    }
   ],
   "source": [
    "medium = model.medium\n",
    "with model:\n",
    "    model.objective = model.reactions.DM_ptrc_c\n",
    "    put_production = model.optimize().objective_value\n",
    "    print(\"Max. putriscine production [mmol gDW^-1 h^-1]:\", put_production)\n",
    "    print(\"Theoretical max. yield [mmol-put / mmol-glc]:\", put_production / (-1*model.reactions.EX_glc__D_e.flux))"
   ]
  },
  {
   "cell_type": "code",
   "execution_count": 42,
   "metadata": {},
   "outputs": [
    {
     "data": {
      "text/html": [
       "\n",
       "        <table>\n",
       "            <tr>\n",
       "                <td><strong>Metabolite identifier</strong></td><td>ptrc_c</td>\n",
       "            </tr><tr>\n",
       "                <td><strong>Name</strong></td><td>Putrescine</td>\n",
       "            </tr><tr>\n",
       "                <td><strong>Memory address</strong></td>\n",
       "                <td>0x07f3ca293d9e8</td>\n",
       "            </tr><tr>\n",
       "                <td><strong>Formula</strong></td><td>C4H14N2</td>\n",
       "            </tr><tr>\n",
       "                <td><strong>Compartment</strong></td><td>c</td>\n",
       "            </tr><tr>\n",
       "                <td><strong>In 10 reaction(s)</strong></td><td>\n",
       "                    ORNDC, DM_ptrc_c, SPMS, PTRCt2pp, PTRCTA, AGMT, BIOMASS_Ec_iML1515_WT_75p37M, PTRCabcpp, GGPTRCS, PTRCORNt7pp</td>\n",
       "            </tr>\n",
       "        </table>"
      ],
      "text/plain": [
       "<Metabolite ptrc_c at 0x7f3ca293d9e8>"
      ]
     },
     "execution_count": 42,
     "metadata": {},
     "output_type": "execute_result"
    }
   ],
   "source": [
    "model.metabolites.ptrc_c"
   ]
  },
  {
   "cell_type": "code",
   "execution_count": 43,
   "metadata": {},
   "outputs": [
    {
     "name": "stdout",
     "output_type": "stream",
     "text": [
      "Max. putriscine production [mmol gDW^-1 h^-1]: 8.40774193548387\n",
      "Theoretical max. yield [mmol-put / mmol-glc]: 0.840774193548387\n"
     ]
    }
   ],
   "source": [
    "medium = model.medium\n",
    "with model:\n",
    "    model.medium = medium\n",
    "    #model.reactions.AGMT.bounds = 0,0\n",
    "    model.reactions.AAH.bounds = 0,0\n",
    "    model.reactions.OAT.bounds = 0,0\n",
    "\n",
    "    model.reactions.ORNDC.bounds = 0,0\n",
    "\n",
    "    model.objective = model.reactions.DM_ptrc_c\n",
    "    put_production = model.optimize().objective_value\n",
    "    print(\"Max. putriscine production [mmol gDW^-1 h^-1]:\", put_production)\n",
    "    print(\"Theoretical max. yield [mmol-put / mmol-glc]:\", put_production / (-1*model.reactions.EX_glc__D_e.flux))"
   ]
  },
  {
   "cell_type": "code",
   "execution_count": 44,
   "metadata": {},
   "outputs": [
    {
     "data": {
      "text/html": [
       "\n",
       "        <table>\n",
       "            <tr>\n",
       "                <td><strong>Reaction identifier</strong></td><td>ORNDC</td>\n",
       "            </tr><tr>\n",
       "                <td><strong>Name</strong></td><td>Ornithine Decarboxylase</td>\n",
       "            </tr><tr>\n",
       "                <td><strong>Memory address</strong></td>\n",
       "                <td>0x07f3ca14e0400</td>\n",
       "            </tr><tr>\n",
       "                <td><strong>Stoichiometry</strong></td>\n",
       "                <td>\n",
       "                    <p style='text-align:right'>h_c + orn_c --> co2_c + ptrc_c</p>\n",
       "                    <p style='text-align:right'>H+ + Ornithine --> CO2 CO2 + Putrescine</p>\n",
       "                </td>\n",
       "            </tr><tr>\n",
       "                <td><strong>GPR</strong></td><td>b2965 or b0693</td>\n",
       "            </tr><tr>\n",
       "                <td><strong>Lower bound</strong></td><td>0.0</td>\n",
       "            </tr><tr>\n",
       "                <td><strong>Upper bound</strong></td><td>1000.0</td>\n",
       "            </tr>\n",
       "        </table>\n",
       "        "
      ],
      "text/plain": [
       "<Reaction ORNDC at 0x7f3ca14e0400>"
      ]
     },
     "execution_count": 44,
     "metadata": {},
     "output_type": "execute_result"
    }
   ],
   "source": [
    "model.reactions.ORNDC"
   ]
  },
  {
   "cell_type": "markdown",
   "metadata": {},
   "source": [
    "We try and see if removing spermidine synthesis from putrescine makes a difference"
   ]
  },
  {
   "cell_type": "code",
   "execution_count": 45,
   "metadata": {},
   "outputs": [
    {
     "name": "stdout",
     "output_type": "stream",
     "text": [
      "Spermidine\n",
      "spmd_e\n",
      "Spermidine\n",
      "spmd_c\n",
      "Spermidine\n",
      "spmd_p\n"
     ]
    }
   ],
   "source": [
    "for metabolite in model.metabolites.query('Spermidine', 'name'):\n",
    "    print(metabolite.name)\n",
    "    print(metabolite.id)"
   ]
  },
  {
   "cell_type": "code",
   "execution_count": 46,
   "metadata": {},
   "outputs": [
    {
     "data": {
      "text/html": [
       "\n",
       "        <table>\n",
       "            <tr>\n",
       "                <td><strong>Metabolite identifier</strong></td><td>ptrc_c</td>\n",
       "            </tr><tr>\n",
       "                <td><strong>Name</strong></td><td>Putrescine</td>\n",
       "            </tr><tr>\n",
       "                <td><strong>Memory address</strong></td>\n",
       "                <td>0x07f3ca293d9e8</td>\n",
       "            </tr><tr>\n",
       "                <td><strong>Formula</strong></td><td>C4H14N2</td>\n",
       "            </tr><tr>\n",
       "                <td><strong>Compartment</strong></td><td>c</td>\n",
       "            </tr><tr>\n",
       "                <td><strong>In 10 reaction(s)</strong></td><td>\n",
       "                    ORNDC, DM_ptrc_c, SPMS, PTRCt2pp, PTRCTA, AGMT, BIOMASS_Ec_iML1515_WT_75p37M, PTRCabcpp, GGPTRCS, PTRCORNt7pp</td>\n",
       "            </tr>\n",
       "        </table>"
      ],
      "text/plain": [
       "<Metabolite ptrc_c at 0x7f3ca293d9e8>"
      ]
     },
     "execution_count": 46,
     "metadata": {},
     "output_type": "execute_result"
    }
   ],
   "source": [
    "model.metabolites.ptrc_c"
   ]
  },
  {
   "cell_type": "code",
   "execution_count": 47,
   "metadata": {},
   "outputs": [],
   "source": [
    "#model.metabolites.spmd_c"
   ]
  },
  {
   "cell_type": "code",
   "execution_count": 48,
   "metadata": {},
   "outputs": [],
   "source": [
    "#model.reactions.SPMS"
   ]
  },
  {
   "cell_type": "code",
   "execution_count": 49,
   "metadata": {},
   "outputs": [
    {
     "name": "stdout",
     "output_type": "stream",
     "text": [
      "Spermidine\n",
      "spmd_p\n"
     ]
    }
   ],
   "source": [
    "#for metabolite in model.metabolites.query('butanal', 'name'):\n",
    "    print(metabolite.name)\n",
    "    print(metabolite.id)"
   ]
  },
  {
   "cell_type": "code",
   "execution_count": 50,
   "metadata": {},
   "outputs": [],
   "source": [
    "#model.metabolites.get_by_id('4abutn_c')"
   ]
  },
  {
   "cell_type": "code",
   "execution_count": 51,
   "metadata": {},
   "outputs": [],
   "source": [
    "#model.reactions.PTRCTA"
   ]
  },
  {
   "cell_type": "code",
   "execution_count": 52,
   "metadata": {},
   "outputs": [
    {
     "name": "stdout",
     "output_type": "stream",
     "text": [
      "N-acetylmuramate 6-phosphate\n",
      "acmum6p_c\n",
      "UDP-N-acetylmuramate\n",
      "uamr_c\n",
      "Undecaprenyl-diphospho N-acetylglucosamine-N-acetylmannosaminuronate-N-acetamido-4,6-dideoxy-D-galactose\n",
      "unagamuf_c\n",
      "Poly-?-1,6-N-acetyl-D-glucosamine\n",
      "puacgam_p\n",
      "Undecaprenyl-diphospho-N-acetylglucosamine-N-acetylmannosaminuronate\n",
      "unagamu_c\n",
      "UDP-N-acetylmuramoyl-L-alanyl-D-gamma-glutamyl-meso-2,6-diaminopimelate-D-alanine\n",
      "um4p_c\n",
      "UDP-3-O-(3-hydroxytetradecanoyl)-N-acetylglucosamine\n",
      "u3aga_c\n",
      "UDP-N-acetyl-D-mannosamine\n",
      "uacmam_c\n",
      "UDP-N-acetylmuramoyl-L-alanyl-D-gamma-glutamyl-meso-2,6-diaminopimelate\n",
      "ugmd_c\n",
      "Undecaprenyl-diphospho-N-acetylmuramoyl-(N-acetylglucosamine)-L-ala-D-glu-meso-2,6-diaminopimeloyl-D-ala-D-ala\n",
      "uaagmda_c\n",
      "Poly-?-1,6-N-acetyl-D-glucosamine\n",
      "puacgam_c\n",
      "UDP-N-acetylmuramoyl-L-alanyl-D-glutamate\n",
      "uamag_c\n",
      "Rhamanosyl-N-acetylglucosamyl-undecaprenyl diphosphate\n",
      "ragund_c\n",
      "Undecaprenyl-diphospho-N-acetylmuramoyl-L-alanyl-D-glutamyl-meso-2,6-diaminopimeloyl-D-alanyl-D-alanine\n",
      "uagmda_c\n",
      "Glucosyl-O-acetyl-rhamanosyl-N-acetylglucosamyl-undecaprenyl diphosphate\n",
      "garagund_c\n",
      "UDP-N-acetyl-D-glucosamine\n",
      "uacgam_e\n",
      "UDP-N-acetylmuramoyl-L-alanine\n",
      "uama_c\n",
      "UDP-N-acetylmuramoyl-L-alanyl-D-glutamyl-meso-2,6-diaminopimeloyl-D-alanyl-D-alanine\n",
      "ugmda_c\n",
      "UDP-N-acetyl-D-mannosaminouronate\n",
      "uacmamu_c\n",
      "UDP-N-acetyl-D-glucosamine\n",
      "uacgam_p\n",
      "UDP-N-acetyl-D-galactosamine\n",
      "udpacgal_p\n",
      "UDP-N-acetyl-D-glucosamine\n",
      "uacgam_c\n",
      "UDP-N-acetyl-3-O-(1-carboxyvinyl)-D-glucosamine\n",
      "uaccg_c\n",
      "Undecaprenyl-diphospho N-acetylglucosamine-N-acetylmannosaminuronate-N-acetamido-4,6-dideoxy-D-galactose\n",
      "unagamuf_p\n",
      "Galactofuranosyl-glucosyl-O-acetyl-rhamanosyl-N-acetylglucosamyl-undecaprenyl diphosphate\n",
      "gfgaragund_c\n",
      "Undecaprenyl diphospho N-acetyl-glucosamine\n",
      "unaga_c\n",
      "O-acetyl-rhamanosyl-N-acetylglucosamyl-undecaprenyl diphosphate\n",
      "aragund_c\n",
      "UDP-N-acetyl-D-galactosamine\n",
      "udpacgal_e\n"
     ]
    }
   ],
   "source": [
    "for metabolite in model.metabolites.query('N-acetyl', 'name'):\n",
    "    print(metabolite.name)\n",
    "    print(metabolite.id)"
   ]
  },
  {
   "cell_type": "code",
   "execution_count": 53,
   "metadata": {},
   "outputs": [
    {
     "data": {
      "text/html": [
       "\n",
       "        <table>\n",
       "            <tr>\n",
       "                <td><strong>Metabolite identifier</strong></td><td>ggptrc_c</td>\n",
       "            </tr><tr>\n",
       "                <td><strong>Name</strong></td><td>Gamma-glutamyl-putrescine</td>\n",
       "            </tr><tr>\n",
       "                <td><strong>Memory address</strong></td>\n",
       "                <td>0x07f3ca2b62630</td>\n",
       "            </tr><tr>\n",
       "                <td><strong>Formula</strong></td><td>C9H20O3N3</td>\n",
       "            </tr><tr>\n",
       "                <td><strong>Compartment</strong></td><td>c</td>\n",
       "            </tr><tr>\n",
       "                <td><strong>In 2 reaction(s)</strong></td><td>\n",
       "                    GGPTRCO, GGPTRCS</td>\n",
       "            </tr>\n",
       "        </table>"
      ],
      "text/plain": [
       "<Metabolite ggptrc_c at 0x7f3ca2b62630>"
      ]
     },
     "execution_count": 53,
     "metadata": {},
     "output_type": "execute_result"
    }
   ],
   "source": [
    "model.metabolites.ggptrc_c"
   ]
  },
  {
   "cell_type": "code",
   "execution_count": 54,
   "metadata": {},
   "outputs": [
    {
     "data": {
      "text/html": [
       "\n",
       "        <table>\n",
       "            <tr>\n",
       "                <td><strong>Reaction identifier</strong></td><td>PTRCabcpp</td>\n",
       "            </tr><tr>\n",
       "                <td><strong>Name</strong></td><td>Putrescine transport via ABC system (periplasm)</td>\n",
       "            </tr><tr>\n",
       "                <td><strong>Memory address</strong></td>\n",
       "                <td>0x07f3ca18e4940</td>\n",
       "            </tr><tr>\n",
       "                <td><strong>Stoichiometry</strong></td>\n",
       "                <td>\n",
       "                    <p style='text-align:right'>atp_c + h2o_c + ptrc_p --> adp_c + h_c + pi_c + ptrc_c</p>\n",
       "                    <p style='text-align:right'>ATP C10H12N5O13P3 + H2O H2O + Putrescine --> ADP C10H12N5O10P2 + H+ + Phosphate + Putrescine</p>\n",
       "                </td>\n",
       "            </tr><tr>\n",
       "                <td><strong>GPR</strong></td><td>( b0854 and b0855 and b0857 and b0856 ) or ( b1440 and b1442 and b1441 and b1443 ) or ( b1125 and...</td>\n",
       "            </tr><tr>\n",
       "                <td><strong>Lower bound</strong></td><td>0.0</td>\n",
       "            </tr><tr>\n",
       "                <td><strong>Upper bound</strong></td><td>1000.0</td>\n",
       "            </tr>\n",
       "        </table>\n",
       "        "
      ],
      "text/plain": [
       "<Reaction PTRCabcpp at 0x7f3ca18e4940>"
      ]
     },
     "execution_count": 54,
     "metadata": {},
     "output_type": "execute_result"
    }
   ],
   "source": [
    "model.reactions.PTRCabcpp"
   ]
  },
  {
   "cell_type": "code",
   "execution_count": null,
   "metadata": {},
   "outputs": [],
   "source": []
  },
  {
   "cell_type": "code",
   "execution_count": null,
   "metadata": {},
   "outputs": [],
   "source": []
  },
  {
   "cell_type": "code",
   "execution_count": 55,
   "metadata": {},
   "outputs": [
    {
     "name": "stdout",
     "output_type": "stream",
     "text": [
      "Max. putriscine production [mmol gDW^-1 h^-1]: 10.019104477611934\n",
      "Theoretical max. yield [mmol-put / mmol-glc]: 1.0019104477611935\n"
     ]
    }
   ],
   "source": [
    "medium = model.medium\n",
    "with model:\n",
    "    model.medium = medium\n",
    "    model.reactions.GGPTRCS.bounds = 0,0\n",
    "    model.reactions.PTRCTA.bounds = 0,0\n",
    "    model.reactions.SPMS.bounds = 0,0\n",
    "    model.objective = model.reactions.DM_ptrc_c\n",
    "    put_production = model.optimize().objective_value\n",
    "    print(\"Max. putriscine production [mmol gDW^-1 h^-1]:\", put_production)\n",
    "    print(\"Theoretical max. yield [mmol-put / mmol-glc]:\", put_production / (-1*model.reactions.EX_glc__D_e.flux))"
   ]
  },
  {
   "cell_type": "markdown",
   "metadata": {},
   "source": [
    "## Phenotypic phase plane analysis"
   ]
  },
  {
   "cell_type": "code",
   "execution_count": 56,
   "metadata": {},
   "outputs": [],
   "source": [
    "from cobra.flux_analysis.phenotype_phase_plane import production_envelope, add_envelope"
   ]
  },
  {
   "cell_type": "code",
   "execution_count": null,
   "metadata": {},
   "outputs": [],
   "source": [
    "#Aerobic environment"
   ]
  },
  {
   "cell_type": "code",
   "execution_count": 57,
   "metadata": {},
   "outputs": [],
   "source": [
    "ppp_BIOMASS = production_envelope(model,\n",
    "                    reactions=[model.reactions.EX_glc__D_e],\n",
    "                    objective=model.reactions.BIOMASS_Ec_iML1515_core_75p37M)"
   ]
  },
  {
   "cell_type": "code",
   "execution_count": 58,
   "metadata": {},
   "outputs": [
    {
     "data": {
      "text/html": [
       "<div>\n",
       "<style scoped>\n",
       "    .dataframe tbody tr th:only-of-type {\n",
       "        vertical-align: middle;\n",
       "    }\n",
       "\n",
       "    .dataframe tbody tr th {\n",
       "        vertical-align: top;\n",
       "    }\n",
       "\n",
       "    .dataframe thead th {\n",
       "        text-align: right;\n",
       "    }\n",
       "</style>\n",
       "<table border=\"1\" class=\"dataframe\">\n",
       "  <thead>\n",
       "    <tr style=\"text-align: right;\">\n",
       "      <th></th>\n",
       "      <th>carbon_source</th>\n",
       "      <th>flux_minimum</th>\n",
       "      <th>carbon_yield_minimum</th>\n",
       "      <th>mass_yield_minimum</th>\n",
       "      <th>flux_maximum</th>\n",
       "      <th>carbon_yield_maximum</th>\n",
       "      <th>mass_yield_maximum</th>\n",
       "      <th>EX_glc__D_e</th>\n",
       "    </tr>\n",
       "  </thead>\n",
       "  <tbody>\n",
       "    <tr>\n",
       "      <th>0</th>\n",
       "      <td>EX_glc__D_e</td>\n",
       "      <td>0.0</td>\n",
       "      <td>0.0</td>\n",
       "      <td>NaN</td>\n",
       "      <td>0.877974</td>\n",
       "      <td>11.630450</td>\n",
       "      <td>NaN</td>\n",
       "      <td>-10.000000</td>\n",
       "    </tr>\n",
       "    <tr>\n",
       "      <th>1</th>\n",
       "      <td>EX_glc__D_e</td>\n",
       "      <td>0.0</td>\n",
       "      <td>0.0</td>\n",
       "      <td>NaN</td>\n",
       "      <td>0.831794</td>\n",
       "      <td>11.612022</td>\n",
       "      <td>NaN</td>\n",
       "      <td>-9.489048</td>\n",
       "    </tr>\n",
       "    <tr>\n",
       "      <th>2</th>\n",
       "      <td>EX_glc__D_e</td>\n",
       "      <td>0.0</td>\n",
       "      <td>0.0</td>\n",
       "      <td>NaN</td>\n",
       "      <td>0.785614</td>\n",
       "      <td>11.591498</td>\n",
       "      <td>NaN</td>\n",
       "      <td>-8.978096</td>\n",
       "    </tr>\n",
       "    <tr>\n",
       "      <th>3</th>\n",
       "      <td>EX_glc__D_e</td>\n",
       "      <td>0.0</td>\n",
       "      <td>0.0</td>\n",
       "      <td>NaN</td>\n",
       "      <td>0.739433</td>\n",
       "      <td>11.568496</td>\n",
       "      <td>NaN</td>\n",
       "      <td>-8.467144</td>\n",
       "    </tr>\n",
       "    <tr>\n",
       "      <th>4</th>\n",
       "      <td>EX_glc__D_e</td>\n",
       "      <td>0.0</td>\n",
       "      <td>0.0</td>\n",
       "      <td>NaN</td>\n",
       "      <td>0.693253</td>\n",
       "      <td>11.542540</td>\n",
       "      <td>NaN</td>\n",
       "      <td>-7.956193</td>\n",
       "    </tr>\n",
       "    <tr>\n",
       "      <th>5</th>\n",
       "      <td>EX_glc__D_e</td>\n",
       "      <td>0.0</td>\n",
       "      <td>0.0</td>\n",
       "      <td>NaN</td>\n",
       "      <td>0.647073</td>\n",
       "      <td>11.513021</td>\n",
       "      <td>NaN</td>\n",
       "      <td>-7.445241</td>\n",
       "    </tr>\n",
       "    <tr>\n",
       "      <th>6</th>\n",
       "      <td>EX_glc__D_e</td>\n",
       "      <td>0.0</td>\n",
       "      <td>0.0</td>\n",
       "      <td>NaN</td>\n",
       "      <td>0.600893</td>\n",
       "      <td>11.479152</td>\n",
       "      <td>NaN</td>\n",
       "      <td>-6.934289</td>\n",
       "    </tr>\n",
       "    <tr>\n",
       "      <th>7</th>\n",
       "      <td>EX_glc__D_e</td>\n",
       "      <td>0.0</td>\n",
       "      <td>0.0</td>\n",
       "      <td>NaN</td>\n",
       "      <td>0.554712</td>\n",
       "      <td>11.439894</td>\n",
       "      <td>NaN</td>\n",
       "      <td>-6.423337</td>\n",
       "    </tr>\n",
       "    <tr>\n",
       "      <th>8</th>\n",
       "      <td>EX_glc__D_e</td>\n",
       "      <td>0.0</td>\n",
       "      <td>0.0</td>\n",
       "      <td>NaN</td>\n",
       "      <td>0.508532</td>\n",
       "      <td>11.393852</td>\n",
       "      <td>NaN</td>\n",
       "      <td>-5.912385</td>\n",
       "    </tr>\n",
       "    <tr>\n",
       "      <th>9</th>\n",
       "      <td>EX_glc__D_e</td>\n",
       "      <td>0.0</td>\n",
       "      <td>0.0</td>\n",
       "      <td>NaN</td>\n",
       "      <td>0.462352</td>\n",
       "      <td>11.339098</td>\n",
       "      <td>NaN</td>\n",
       "      <td>-5.401433</td>\n",
       "    </tr>\n",
       "    <tr>\n",
       "      <th>10</th>\n",
       "      <td>EX_glc__D_e</td>\n",
       "      <td>0.0</td>\n",
       "      <td>0.0</td>\n",
       "      <td>NaN</td>\n",
       "      <td>0.416172</td>\n",
       "      <td>11.272904</td>\n",
       "      <td>NaN</td>\n",
       "      <td>-4.890482</td>\n",
       "    </tr>\n",
       "    <tr>\n",
       "      <th>11</th>\n",
       "      <td>EX_glc__D_e</td>\n",
       "      <td>0.0</td>\n",
       "      <td>0.0</td>\n",
       "      <td>NaN</td>\n",
       "      <td>0.369992</td>\n",
       "      <td>11.191263</td>\n",
       "      <td>NaN</td>\n",
       "      <td>-4.379530</td>\n",
       "    </tr>\n",
       "    <tr>\n",
       "      <th>12</th>\n",
       "      <td>EX_glc__D_e</td>\n",
       "      <td>0.0</td>\n",
       "      <td>0.0</td>\n",
       "      <td>NaN</td>\n",
       "      <td>0.323811</td>\n",
       "      <td>11.088057</td>\n",
       "      <td>NaN</td>\n",
       "      <td>-3.868578</td>\n",
       "    </tr>\n",
       "    <tr>\n",
       "      <th>13</th>\n",
       "      <td>EX_glc__D_e</td>\n",
       "      <td>0.0</td>\n",
       "      <td>0.0</td>\n",
       "      <td>NaN</td>\n",
       "      <td>0.277631</td>\n",
       "      <td>10.953440</td>\n",
       "      <td>NaN</td>\n",
       "      <td>-3.357626</td>\n",
       "    </tr>\n",
       "    <tr>\n",
       "      <th>14</th>\n",
       "      <td>EX_glc__D_e</td>\n",
       "      <td>0.0</td>\n",
       "      <td>0.0</td>\n",
       "      <td>NaN</td>\n",
       "      <td>0.231451</td>\n",
       "      <td>10.770498</td>\n",
       "      <td>NaN</td>\n",
       "      <td>-2.846674</td>\n",
       "    </tr>\n",
       "    <tr>\n",
       "      <th>15</th>\n",
       "      <td>EX_glc__D_e</td>\n",
       "      <td>0.0</td>\n",
       "      <td>0.0</td>\n",
       "      <td>NaN</td>\n",
       "      <td>0.185271</td>\n",
       "      <td>10.507517</td>\n",
       "      <td>NaN</td>\n",
       "      <td>-2.335722</td>\n",
       "    </tr>\n",
       "    <tr>\n",
       "      <th>16</th>\n",
       "      <td>EX_glc__D_e</td>\n",
       "      <td>0.0</td>\n",
       "      <td>0.0</td>\n",
       "      <td>NaN</td>\n",
       "      <td>0.139090</td>\n",
       "      <td>10.097261</td>\n",
       "      <td>NaN</td>\n",
       "      <td>-1.824770</td>\n",
       "    </tr>\n",
       "    <tr>\n",
       "      <th>17</th>\n",
       "      <td>EX_glc__D_e</td>\n",
       "      <td>0.0</td>\n",
       "      <td>0.0</td>\n",
       "      <td>NaN</td>\n",
       "      <td>0.092820</td>\n",
       "      <td>9.358850</td>\n",
       "      <td>NaN</td>\n",
       "      <td>-1.313819</td>\n",
       "    </tr>\n",
       "    <tr>\n",
       "      <th>18</th>\n",
       "      <td>EX_glc__D_e</td>\n",
       "      <td>0.0</td>\n",
       "      <td>0.0</td>\n",
       "      <td>NaN</td>\n",
       "      <td>0.046410</td>\n",
       "      <td>7.657455</td>\n",
       "      <td>NaN</td>\n",
       "      <td>-0.802867</td>\n",
       "    </tr>\n",
       "    <tr>\n",
       "      <th>19</th>\n",
       "      <td>EX_glc__D_e</td>\n",
       "      <td>0.0</td>\n",
       "      <td>0.0</td>\n",
       "      <td>NaN</td>\n",
       "      <td>0.000000</td>\n",
       "      <td>0.000000</td>\n",
       "      <td>NaN</td>\n",
       "      <td>-0.291915</td>\n",
       "    </tr>\n",
       "  </tbody>\n",
       "</table>\n",
       "</div>"
      ],
      "text/plain": [
       "   carbon_source  flux_minimum  carbon_yield_minimum  mass_yield_minimum  \\\n",
       "0    EX_glc__D_e           0.0                   0.0                 NaN   \n",
       "1    EX_glc__D_e           0.0                   0.0                 NaN   \n",
       "2    EX_glc__D_e           0.0                   0.0                 NaN   \n",
       "3    EX_glc__D_e           0.0                   0.0                 NaN   \n",
       "4    EX_glc__D_e           0.0                   0.0                 NaN   \n",
       "5    EX_glc__D_e           0.0                   0.0                 NaN   \n",
       "6    EX_glc__D_e           0.0                   0.0                 NaN   \n",
       "7    EX_glc__D_e           0.0                   0.0                 NaN   \n",
       "8    EX_glc__D_e           0.0                   0.0                 NaN   \n",
       "9    EX_glc__D_e           0.0                   0.0                 NaN   \n",
       "10   EX_glc__D_e           0.0                   0.0                 NaN   \n",
       "11   EX_glc__D_e           0.0                   0.0                 NaN   \n",
       "12   EX_glc__D_e           0.0                   0.0                 NaN   \n",
       "13   EX_glc__D_e           0.0                   0.0                 NaN   \n",
       "14   EX_glc__D_e           0.0                   0.0                 NaN   \n",
       "15   EX_glc__D_e           0.0                   0.0                 NaN   \n",
       "16   EX_glc__D_e           0.0                   0.0                 NaN   \n",
       "17   EX_glc__D_e           0.0                   0.0                 NaN   \n",
       "18   EX_glc__D_e           0.0                   0.0                 NaN   \n",
       "19   EX_glc__D_e           0.0                   0.0                 NaN   \n",
       "\n",
       "    flux_maximum  carbon_yield_maximum  mass_yield_maximum  EX_glc__D_e  \n",
       "0       0.877974             11.630450                 NaN   -10.000000  \n",
       "1       0.831794             11.612022                 NaN    -9.489048  \n",
       "2       0.785614             11.591498                 NaN    -8.978096  \n",
       "3       0.739433             11.568496                 NaN    -8.467144  \n",
       "4       0.693253             11.542540                 NaN    -7.956193  \n",
       "5       0.647073             11.513021                 NaN    -7.445241  \n",
       "6       0.600893             11.479152                 NaN    -6.934289  \n",
       "7       0.554712             11.439894                 NaN    -6.423337  \n",
       "8       0.508532             11.393852                 NaN    -5.912385  \n",
       "9       0.462352             11.339098                 NaN    -5.401433  \n",
       "10      0.416172             11.272904                 NaN    -4.890482  \n",
       "11      0.369992             11.191263                 NaN    -4.379530  \n",
       "12      0.323811             11.088057                 NaN    -3.868578  \n",
       "13      0.277631             10.953440                 NaN    -3.357626  \n",
       "14      0.231451             10.770498                 NaN    -2.846674  \n",
       "15      0.185271             10.507517                 NaN    -2.335722  \n",
       "16      0.139090             10.097261                 NaN    -1.824770  \n",
       "17      0.092820              9.358850                 NaN    -1.313819  \n",
       "18      0.046410              7.657455                 NaN    -0.802867  \n",
       "19      0.000000              0.000000                 NaN    -0.291915  "
      ]
     },
     "execution_count": 58,
     "metadata": {},
     "output_type": "execute_result"
    }
   ],
   "source": [
    "ppp_BIOMASS"
   ]
  },
  {
   "cell_type": "code",
   "execution_count": 59,
   "metadata": {},
   "outputs": [
    {
     "data": {
      "text/plain": [
       "<AxesSubplot:xlabel='EX_glc__D_e'>"
      ]
     },
     "execution_count": 59,
     "metadata": {},
     "output_type": "execute_result"
    },
    {
     "data": {
      "image/png": "[encoded data removed]",
      "text/plain": [
       "<Figure size 432x288 with 1 Axes>"
      ]
     },
     "metadata": {
      "needs_background": "light"
     },
     "output_type": "display_data"
    }
   ],
   "source": [
    "ppp_BIOMASS.plot(x='EX_glc__D_e', y='flux_maximum')"
   ]
  },
  {
   "cell_type": "code",
   "execution_count": 61,
   "metadata": {},
   "outputs": [],
   "source": [
    "ppp_o2 = production_envelope(model,\n",
    "                    reactions=[model.reactions.EX_o2_e],\n",
    "                    objective=model.reactions.BIOMASS_Ec_iML1515_core_75p37M)"
   ]
  },
  {
   "cell_type": "code",
   "execution_count": 62,
   "metadata": {},
   "outputs": [
    {
     "data": {
      "text/plain": [
       "-261.0526315789474"
      ]
     },
     "execution_count": 62,
     "metadata": {},
     "output_type": "execute_result"
    }
   ],
   "source": [
    "ppp_o2.EX_o2_e[ppp_o2.flux_maximum.idxmax()]"
   ]
  },
  {
   "cell_type": "code",
   "execution_count": 63,
   "metadata": {},
   "outputs": [
    {
     "data": {
      "text/plain": [
       "<AxesSubplot:xlabel='EX_o2_e'>"
      ]
     },
     "execution_count": 63,
     "metadata": {},
     "output_type": "execute_result"
    },
    {
     "data": {
      "image/png": "[encoded data removed]",
      "text/plain": [
       "<Figure size 432x288 with 1 Axes>"
      ]
     },
     "metadata": {
      "needs_background": "light"
     },
     "output_type": "display_data"
    }
   ],
   "source": [
    "ppp_o2.plot(x='EX_o2_e', y='flux_maximum')"
   ]
  },
  {
   "cell_type": "code",
   "execution_count": 64,
   "metadata": {},
   "outputs": [],
   "source": [
    "#Grows very poorly when there is very little oxygen, grows well (high flux) with very high oxygen. \n",
    "#Flux under the objective = biomass production is equal to growth rate"
   ]
  },
  {
   "cell_type": "code",
   "execution_count": 77,
   "metadata": {},
   "outputs": [],
   "source": [
    "ppp_PTRC = production_envelope(model,\n",
    "                    reactions=[model.reactions.EX_glc__D_e],\n",
    "                    objective=model.reactions.DM_ptrc_c)"
   ]
  },
  {
   "cell_type": "code",
   "execution_count": 78,
   "metadata": {},
   "outputs": [
    {
     "data": {
      "text/html": [
       "<div>\n",
       "<style scoped>\n",
       "    .dataframe tbody tr th:only-of-type {\n",
       "        vertical-align: middle;\n",
       "    }\n",
       "\n",
       "    .dataframe tbody tr th {\n",
       "        vertical-align: top;\n",
       "    }\n",
       "\n",
       "    .dataframe thead th {\n",
       "        text-align: right;\n",
       "    }\n",
       "</style>\n",
       "<table border=\"1\" class=\"dataframe\">\n",
       "  <thead>\n",
       "    <tr style=\"text-align: right;\">\n",
       "      <th></th>\n",
       "      <th>carbon_source</th>\n",
       "      <th>flux_minimum</th>\n",
       "      <th>carbon_yield_minimum</th>\n",
       "      <th>mass_yield_minimum</th>\n",
       "      <th>flux_maximum</th>\n",
       "      <th>carbon_yield_maximum</th>\n",
       "      <th>mass_yield_maximum</th>\n",
       "      <th>EX_glc__D_e</th>\n",
       "    </tr>\n",
       "  </thead>\n",
       "  <tbody>\n",
       "    <tr>\n",
       "      <th>0</th>\n",
       "      <td>EX_glc__D_e</td>\n",
       "      <td>0.0</td>\n",
       "      <td>0.0</td>\n",
       "      <td>0.0</td>\n",
       "      <td>10.019104</td>\n",
       "      <td>0.667940</td>\n",
       "      <td>0.501453</td>\n",
       "      <td>-10.000000</td>\n",
       "    </tr>\n",
       "    <tr>\n",
       "      <th>1</th>\n",
       "      <td>EX_glc__D_e</td>\n",
       "      <td>0.0</td>\n",
       "      <td>0.0</td>\n",
       "      <td>0.0</td>\n",
       "      <td>9.496713</td>\n",
       "      <td>0.667205</td>\n",
       "      <td>0.500901</td>\n",
       "      <td>-9.489048</td>\n",
       "    </tr>\n",
       "    <tr>\n",
       "      <th>2</th>\n",
       "      <td>EX_glc__D_e</td>\n",
       "      <td>0.0</td>\n",
       "      <td>0.0</td>\n",
       "      <td>0.0</td>\n",
       "      <td>8.973234</td>\n",
       "      <td>0.666306</td>\n",
       "      <td>0.500225</td>\n",
       "      <td>-8.978096</td>\n",
       "    </tr>\n",
       "    <tr>\n",
       "      <th>3</th>\n",
       "      <td>EX_glc__D_e</td>\n",
       "      <td>0.0</td>\n",
       "      <td>0.0</td>\n",
       "      <td>0.0</td>\n",
       "      <td>8.447543</td>\n",
       "      <td>0.665123</td>\n",
       "      <td>0.499338</td>\n",
       "      <td>-8.467144</td>\n",
       "    </tr>\n",
       "    <tr>\n",
       "      <th>4</th>\n",
       "      <td>EX_glc__D_e</td>\n",
       "      <td>0.0</td>\n",
       "      <td>0.0</td>\n",
       "      <td>0.0</td>\n",
       "      <td>7.921852</td>\n",
       "      <td>0.663789</td>\n",
       "      <td>0.498336</td>\n",
       "      <td>-7.956193</td>\n",
       "    </tr>\n",
       "    <tr>\n",
       "      <th>5</th>\n",
       "      <td>EX_glc__D_e</td>\n",
       "      <td>0.0</td>\n",
       "      <td>0.0</td>\n",
       "      <td>0.0</td>\n",
       "      <td>7.396161</td>\n",
       "      <td>0.662272</td>\n",
       "      <td>0.497197</td>\n",
       "      <td>-7.445241</td>\n",
       "    </tr>\n",
       "    <tr>\n",
       "      <th>6</th>\n",
       "      <td>EX_glc__D_e</td>\n",
       "      <td>0.0</td>\n",
       "      <td>0.0</td>\n",
       "      <td>0.0</td>\n",
       "      <td>6.870470</td>\n",
       "      <td>0.660531</td>\n",
       "      <td>0.495890</td>\n",
       "      <td>-6.934289</td>\n",
       "    </tr>\n",
       "    <tr>\n",
       "      <th>7</th>\n",
       "      <td>EX_glc__D_e</td>\n",
       "      <td>0.0</td>\n",
       "      <td>0.0</td>\n",
       "      <td>0.0</td>\n",
       "      <td>6.344779</td>\n",
       "      <td>0.658513</td>\n",
       "      <td>0.494375</td>\n",
       "      <td>-6.423337</td>\n",
       "    </tr>\n",
       "    <tr>\n",
       "      <th>8</th>\n",
       "      <td>EX_glc__D_e</td>\n",
       "      <td>0.0</td>\n",
       "      <td>0.0</td>\n",
       "      <td>0.0</td>\n",
       "      <td>5.819089</td>\n",
       "      <td>0.656147</td>\n",
       "      <td>0.492599</td>\n",
       "      <td>-5.912385</td>\n",
       "    </tr>\n",
       "    <tr>\n",
       "      <th>9</th>\n",
       "      <td>EX_glc__D_e</td>\n",
       "      <td>0.0</td>\n",
       "      <td>0.0</td>\n",
       "      <td>0.0</td>\n",
       "      <td>5.293398</td>\n",
       "      <td>0.653332</td>\n",
       "      <td>0.490486</td>\n",
       "      <td>-5.401433</td>\n",
       "    </tr>\n",
       "    <tr>\n",
       "      <th>10</th>\n",
       "      <td>EX_glc__D_e</td>\n",
       "      <td>0.0</td>\n",
       "      <td>0.0</td>\n",
       "      <td>0.0</td>\n",
       "      <td>4.767707</td>\n",
       "      <td>0.649930</td>\n",
       "      <td>0.487931</td>\n",
       "      <td>-4.890482</td>\n",
       "    </tr>\n",
       "    <tr>\n",
       "      <th>11</th>\n",
       "      <td>EX_glc__D_e</td>\n",
       "      <td>0.0</td>\n",
       "      <td>0.0</td>\n",
       "      <td>0.0</td>\n",
       "      <td>4.242016</td>\n",
       "      <td>0.645734</td>\n",
       "      <td>0.484781</td>\n",
       "      <td>-4.379530</td>\n",
       "    </tr>\n",
       "    <tr>\n",
       "      <th>12</th>\n",
       "      <td>EX_glc__D_e</td>\n",
       "      <td>0.0</td>\n",
       "      <td>0.0</td>\n",
       "      <td>0.0</td>\n",
       "      <td>3.716325</td>\n",
       "      <td>0.640429</td>\n",
       "      <td>0.480799</td>\n",
       "      <td>-3.868578</td>\n",
       "    </tr>\n",
       "    <tr>\n",
       "      <th>13</th>\n",
       "      <td>EX_glc__D_e</td>\n",
       "      <td>0.0</td>\n",
       "      <td>0.0</td>\n",
       "      <td>0.0</td>\n",
       "      <td>3.190634</td>\n",
       "      <td>0.633510</td>\n",
       "      <td>0.475604</td>\n",
       "      <td>-3.357626</td>\n",
       "    </tr>\n",
       "    <tr>\n",
       "      <th>14</th>\n",
       "      <td>EX_glc__D_e</td>\n",
       "      <td>0.0</td>\n",
       "      <td>0.0</td>\n",
       "      <td>0.0</td>\n",
       "      <td>2.664944</td>\n",
       "      <td>0.624107</td>\n",
       "      <td>0.468545</td>\n",
       "      <td>-2.846674</td>\n",
       "    </tr>\n",
       "    <tr>\n",
       "      <th>15</th>\n",
       "      <td>EX_glc__D_e</td>\n",
       "      <td>0.0</td>\n",
       "      <td>0.0</td>\n",
       "      <td>0.0</td>\n",
       "      <td>2.139253</td>\n",
       "      <td>0.610590</td>\n",
       "      <td>0.458397</td>\n",
       "      <td>-2.335722</td>\n",
       "    </tr>\n",
       "    <tr>\n",
       "      <th>16</th>\n",
       "      <td>EX_glc__D_e</td>\n",
       "      <td>0.0</td>\n",
       "      <td>0.0</td>\n",
       "      <td>0.0</td>\n",
       "      <td>1.613562</td>\n",
       "      <td>0.589503</td>\n",
       "      <td>0.442566</td>\n",
       "      <td>-1.824770</td>\n",
       "    </tr>\n",
       "    <tr>\n",
       "      <th>17</th>\n",
       "      <td>EX_glc__D_e</td>\n",
       "      <td>0.0</td>\n",
       "      <td>0.0</td>\n",
       "      <td>0.0</td>\n",
       "      <td>1.083254</td>\n",
       "      <td>0.549672</td>\n",
       "      <td>0.412663</td>\n",
       "      <td>-1.313819</td>\n",
       "    </tr>\n",
       "    <tr>\n",
       "      <th>18</th>\n",
       "      <td>EX_glc__D_e</td>\n",
       "      <td>0.0</td>\n",
       "      <td>0.0</td>\n",
       "      <td>0.0</td>\n",
       "      <td>0.545442</td>\n",
       "      <td>0.452912</td>\n",
       "      <td>0.340021</td>\n",
       "      <td>-0.802867</td>\n",
       "    </tr>\n",
       "    <tr>\n",
       "      <th>19</th>\n",
       "      <td>EX_glc__D_e</td>\n",
       "      <td>0.0</td>\n",
       "      <td>0.0</td>\n",
       "      <td>0.0</td>\n",
       "      <td>0.000000</td>\n",
       "      <td>0.000000</td>\n",
       "      <td>0.000000</td>\n",
       "      <td>-0.291915</td>\n",
       "    </tr>\n",
       "  </tbody>\n",
       "</table>\n",
       "</div>"
      ],
      "text/plain": [
       "   carbon_source  flux_minimum  carbon_yield_minimum  mass_yield_minimum  \\\n",
       "0    EX_glc__D_e           0.0                   0.0                 0.0   \n",
       "1    EX_glc__D_e           0.0                   0.0                 0.0   \n",
       "2    EX_glc__D_e           0.0                   0.0                 0.0   \n",
       "3    EX_glc__D_e           0.0                   0.0                 0.0   \n",
       "4    EX_glc__D_e           0.0                   0.0                 0.0   \n",
       "5    EX_glc__D_e           0.0                   0.0                 0.0   \n",
       "6    EX_glc__D_e           0.0                   0.0                 0.0   \n",
       "7    EX_glc__D_e           0.0                   0.0                 0.0   \n",
       "8    EX_glc__D_e           0.0                   0.0                 0.0   \n",
       "9    EX_glc__D_e           0.0                   0.0                 0.0   \n",
       "10   EX_glc__D_e           0.0                   0.0                 0.0   \n",
       "11   EX_glc__D_e           0.0                   0.0                 0.0   \n",
       "12   EX_glc__D_e           0.0                   0.0                 0.0   \n",
       "13   EX_glc__D_e           0.0                   0.0                 0.0   \n",
       "14   EX_glc__D_e           0.0                   0.0                 0.0   \n",
       "15   EX_glc__D_e           0.0                   0.0                 0.0   \n",
       "16   EX_glc__D_e           0.0                   0.0                 0.0   \n",
       "17   EX_glc__D_e           0.0                   0.0                 0.0   \n",
       "18   EX_glc__D_e           0.0                   0.0                 0.0   \n",
       "19   EX_glc__D_e           0.0                   0.0                 0.0   \n",
       "\n",
       "    flux_maximum  carbon_yield_maximum  mass_yield_maximum  EX_glc__D_e  \n",
       "0      10.019104              0.667940            0.501453   -10.000000  \n",
       "1       9.496713              0.667205            0.500901    -9.489048  \n",
       "2       8.973234              0.666306            0.500225    -8.978096  \n",
       "3       8.447543              0.665123            0.499338    -8.467144  \n",
       "4       7.921852              0.663789            0.498336    -7.956193  \n",
       "5       7.396161              0.662272            0.497197    -7.445241  \n",
       "6       6.870470              0.660531            0.495890    -6.934289  \n",
       "7       6.344779              0.658513            0.494375    -6.423337  \n",
       "8       5.819089              0.656147            0.492599    -5.912385  \n",
       "9       5.293398              0.653332            0.490486    -5.401433  \n",
       "10      4.767707              0.649930            0.487931    -4.890482  \n",
       "11      4.242016              0.645734            0.484781    -4.379530  \n",
       "12      3.716325              0.640429            0.480799    -3.868578  \n",
       "13      3.190634              0.633510            0.475604    -3.357626  \n",
       "14      2.664944              0.624107            0.468545    -2.846674  \n",
       "15      2.139253              0.610590            0.458397    -2.335722  \n",
       "16      1.613562              0.589503            0.442566    -1.824770  \n",
       "17      1.083254              0.549672            0.412663    -1.313819  \n",
       "18      0.545442              0.452912            0.340021    -0.802867  \n",
       "19      0.000000              0.000000            0.000000    -0.291915  "
      ]
     },
     "execution_count": 78,
     "metadata": {},
     "output_type": "execute_result"
    }
   ],
   "source": [
    "ppp_PTRC #max flux is production of putrescine"
   ]
  },
  {
   "cell_type": "code",
   "execution_count": 80,
   "metadata": {},
   "outputs": [
    {
     "data": {
      "text/plain": [
       "<AxesSubplot:xlabel='EX_glc__D_e'>"
      ]
     },
     "execution_count": 80,
     "metadata": {},
     "output_type": "execute_result"
    },
    {
     "data": {
      "image/png": "[encoded data removed]",
      "text/plain": [
       "<Figure size 432x288 with 1 Axes>"
      ]
     },
     "metadata": {
      "needs_background": "light"
     },
     "output_type": "display_data"
    }
   ],
   "source": [
    "ppp_PTRC.plot(x='EX_glc__D_e', y='carbon_yield_maximum') #carbon yield of putrescine as function of glucose uptake"
   ]
  },
  {
   "cell_type": "code",
   "execution_count": 81,
   "metadata": {},
   "outputs": [
    {
     "data": {
      "text/plain": [
       "<AxesSubplot:xlabel='EX_glc__D_e'>"
      ]
     },
     "execution_count": 81,
     "metadata": {},
     "output_type": "execute_result"
    },
    {
     "data": {
      "image/png": "[encoded data removed]",
      "text/plain": [
       "<Figure size 432x288 with 1 Axes>"
      ]
     },
     "metadata": {
      "needs_background": "light"
     },
     "output_type": "display_data"
    }
   ],
   "source": [
    "ppp_BIOMASS.plot(x='EX_glc__D_e', y='carbon_yield_maximum') #carbon yield of biomass as function of glucose uptake"
   ]
  },
  {
   "cell_type": "code",
   "execution_count": 84,
   "metadata": {},
   "outputs": [
    {
     "data": {
      "text/plain": [
       "<AxesSubplot:xlabel='EX_o2_e'>"
      ]
     },
     "execution_count": 84,
     "metadata": {},
     "output_type": "execute_result"
    },
    {
     "data": {
      "image/png": "[encoded data removed]",
      "text/plain": [
       "<Figure size 432x288 with 1 Axes>"
      ]
     },
     "metadata": {
      "needs_background": "light"
     },
     "output_type": "display_data"
    }
   ],
   "source": [
    "ppp_o2.plot(x='EX_o2_e', y='carbon_yield_maximum')"
   ]
  },
  {
   "cell_type": "code",
   "execution_count": 87,
   "metadata": {},
   "outputs": [],
   "source": [
    "#Anaerobic environment"
   ]
  },
  {
   "cell_type": "code",
   "execution_count": 93,
   "metadata": {},
   "outputs": [
    {
     "data": {
      "image/png": "[encoded data removed]",
      "text/plain": [
       "<Figure size 432x288 with 1 Axes>"
      ]
     },
     "metadata": {
      "needs_background": "light"
     },
     "output_type": "display_data"
    },
    {
     "data": {
      "image/png": "[encoded data removed]",
      "text/plain": [
       "<Figure size 432x288 with 1 Axes>"
      ]
     },
     "metadata": {
      "needs_background": "light"
     },
     "output_type": "display_data"
    }
   ],
   "source": [
    "medium = model.medium\n",
    "with model:\n",
    "    medium['EX_o2_e'] = 0\n",
    "    model.medium = medium\n",
    "    model.objective = model.reactions.DM_ptrc_c\n",
    "    put_production = model.optimize().objective_value\n",
    "    ppp_BIOMASS = production_envelope(model,\n",
    "                    reactions=[model.reactions.EX_glc__D_e],\n",
    "                    objective=model.reactions.BIOMASS_Ec_iML1515_core_75p37M)\n",
    "    ppp_PTRC = production_envelope(model,\n",
    "                    reactions=[model.reactions.EX_glc__D_e],\n",
    "                    objective=model.reactions.DM_ptrc_c)\n",
    "    ppp_PTRC.plot(x='EX_glc__D_e', y='carbon_yield_maximum') #carbon yield of putrescine as function of glucose uptake\n",
    "    ppp_BIOMASS.plot(x='EX_glc__D_e', y='carbon_yield_maximum') #carbon yield of biomass as function of glucose uptake"
   ]
  },
  {
   "cell_type": "code",
   "execution_count": 89,
   "metadata": {},
   "outputs": [],
   "source": []
  },
  {
   "cell_type": "code",
   "execution_count": 90,
   "metadata": {},
   "outputs": [],
   "source": []
  },
  {
   "cell_type": "code",
   "execution_count": null,
   "metadata": {},
   "outputs": [],
   "source": []
  }
 ],
 "metadata": {
  "kernelspec": {
   "display_name": "python3.6",
   "language": "python",
   "name": "python3.6"
  },
  "language_info": {
   "codemirror_mode": {
    "name": "ipython",
    "version": 3
   },
   "file_extension": ".py",
   "mimetype": "text/x-python",
   "name": "python",
   "nbconvert_exporter": "python",
   "pygments_lexer": "ipython3",
   "version": "3.6.12"
  }
 },
 "nbformat": 4,
 "nbformat_minor": 4
}
